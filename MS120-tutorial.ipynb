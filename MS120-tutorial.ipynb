{
 "cells": [
  {
   "cell_type": "markdown",
   "metadata": {},
   "source": [
    "# MS 120 Tutorial"
   ]
  },
  {
   "cell_type": "markdown",
   "metadata": {},
   "source": [
    "## Setup\n",
    "\n",
    "You may need to import some packages to run the commands below \n",
    "(you will certainly need to if you have made a fresh install of Julia).\n",
    "One of the packages that we will use is Python's SymPy package.\n",
    "Packages only need to be added once \n",
    "and can be added using the code:<br>\n",
    "`using Pkg`<br>\n",
    "`Pkg.add(\"SymPy\")`<br>\n",
    "\n",
    "To import this packages we use the command:<br>\n",
    "`using SymPy`\n",
    "\n",
    "but I have loaded all necessary packages as discussed below on the lab computers.\n",
    "At home you will need to install all of these packages.\n",
    "\n",
    "If any of the packges listed below have not been installed you will have to install them.\n",
    "You should be able to copy and paste the code below to install the packages:<br>\n",
    "`using Pkg`<br>\n",
    "`Pkg.add(\"PrettyTables\")`<br>\n",
    "`Pkg.add(\"SpecialFunctions\")`<br>\n",
    "`Pkg.add(\"Formatting\")`<br>\n",
    "`Pkg.add(\"Statistics\")`<br>\n",
    "`Pkg.add(\"DataFrames\")`<br>\n",
    "`Pkg.add(\"Plots\")`<br>\n",
    "`Pkg.add(\"Printf\")`<br>\n",
    "`Pkg.add(\"SymPy\")`<br>\n",
    "`Pkg.add(\"PyCall\")`<br>\n",
    "\n",
    "I have only predefined two variables, `x` and `h`.\n",
    "If you wish to use other variables you will have to run the following command:<br>\n",
    "`y = Sym(\"y\")`\n",
    "\n",
    "References:\n",
    "* Main: used [Symbolic math with julia](http://mth229.github.io/symbolic.html)"
   ]
  },
  {
   "cell_type": "markdown",
   "metadata": {},
   "source": [
    "## Basics\n",
    "The file `JSUMS120.jl` must be placed in the folder where you want to save your Notebook in\n",
    "and you must run the `include(\"JSUMS120.jl\")` command in your Notebook \n",
    "before you can use the functions described in this document.\n",
    "In addition to defining some of the functions we will use,\n",
    "it also imports the needed packages as discussed above.\n",
    "\n",
    "The commands we will use, \n",
    "where they are defined, \n",
    "and a very short description \n",
    "can be found in the table below.\n",
    "Note that the command names are linked to where I have introduced \n",
    "and show examples for that command.\n",
    "\n",
    "|command|where|description|\n",
    "|:-------|:-----|:-----------|\n",
    "|<a href='#simplify_cell'>simplify</a>|SymPy|simplifies expressions|\n",
    "|<a href='#factor_cell'>factor</a>|SymPy|factors expression|\n",
    "|<a href='#expand_cell'>expand</a>|SymPy|expands expression|\n",
    "|<a href='#N_cell'>N</a>|SymPy|convert to numerical|\n",
    "|<a href='#roots_cell'>roots</a>|SymPy|returns the roots and their multiplicity|\n",
    "|<a href='#solve_cell'>solve</a>|SymPy|solves an equation set =0|\n",
    "|<a href='#nsolve_cell'>nsolve</a>|SymPy|solve numerically|\n",
    "|<a href='#diff_cell'>diff</a>|SymPy|takes the derivative||\n",
    "|<a href='#integrate_cell'>integrate</a>|SymPy|integrates a function, both indefinite and definite|\n",
    "|<a href='#limittable_cell'>limittable</a>|JSUMS120|make nice table of values when taking a limit|\n",
    "|<a href='#lim_cell'>lim</a>|JSUMS120|same as SymPy limit except returns `missing` if left and right limits don't agree|\n",
    "|<a href='#signchart_cell'>signchart</a>|JSUMS120|genrate a sign chart for a function|\n",
    "|<a href='#functionplot_cell'>functionplot</a>|JSUMS120|plot a given function|\n",
    "|<a href='#plot_function_sign_chart_cell'>plot_function_sign_chart</a>|JSUMS120|plot a given function and its sign charts|\n",
    "|<a href='#summary_cell'>summary</a>|JSUMS120|returns information about a function necessary for graphing|\n",
    "|<a href='#clean_figs_folder_cell'>clean_figs_folder</a>|JSUMS120|needed when you change inputs for summary with the same function|\n",
    "|<a href='#graph_f_and_derivative_cell'>graph_f_and_derivative</a>|JSUMS120|plots a function and it's derivative|"
   ]
  },
  {
   "cell_type": "code",
   "execution_count": 1,
   "metadata": {},
   "outputs": [
    {
     "data": {
      "text/plain": [
       "graph_f_and_derivative"
      ]
     },
     "execution_count": 1,
     "metadata": {},
     "output_type": "execute_result"
    }
   ],
   "source": [
    "include(\"JSUMS120.jl\")"
   ]
  },
  {
   "cell_type": "markdown",
   "metadata": {},
   "source": [
    "We can define a Julia function `f(x)`.\n",
    "The `fex` assignment allows us to \"evaluate\" the expression at the value as seen below."
   ]
  },
  {
   "cell_type": "code",
   "execution_count": 2,
   "metadata": {},
   "outputs": [
    {
     "data": {
      "text/latex": [
       "\\begin{equation*}e^{x^{2}}\\end{equation*}"
      ],
      "text/plain": [
       " / 2\\\n",
       " \\x /\n",
       "e    "
      ]
     },
     "execution_count": 2,
     "metadata": {},
     "output_type": "execute_result"
    }
   ],
   "source": [
    "f(x) = exp(x^2)\n",
    "fex = exp(x^2)\n",
    "f(x)"
   ]
  },
  {
   "cell_type": "markdown",
   "metadata": {},
   "source": [
    "If we evaluate `f(x)` at 2 Julia returns the numerical value."
   ]
  },
  {
   "cell_type": "code",
   "execution_count": 3,
   "metadata": {},
   "outputs": [
    {
     "data": {
      "text/plain": [
       "54.598150033144236"
      ]
     },
     "execution_count": 3,
     "metadata": {},
     "output_type": "execute_result"
    }
   ],
   "source": [
    "f(2)"
   ]
  },
  {
   "cell_type": "markdown",
   "metadata": {},
   "source": [
    "The subs function evaluates the function `f(x)` symbolically."
   ]
  },
  {
   "cell_type": "code",
   "execution_count": 4,
   "metadata": {},
   "outputs": [
    {
     "data": {
      "text/latex": [
       "\\begin{equation*}e^{4}\\end{equation*}"
      ],
      "text/plain": [
       " 4\n",
       "e "
      ]
     },
     "execution_count": 4,
     "metadata": {},
     "output_type": "execute_result"
    }
   ],
   "source": [
    "subs(f(x),  x, 2)"
   ]
  },
  {
   "cell_type": "markdown",
   "metadata": {},
   "source": [
    "Which we can also do using the variable `fex`:"
   ]
  },
  {
   "cell_type": "code",
   "execution_count": 5,
   "metadata": {},
   "outputs": [
    {
     "data": {
      "text/latex": [
       "\\begin{equation*}e^{4}\\end{equation*}"
      ],
      "text/plain": [
       " 4\n",
       "e "
      ]
     },
     "execution_count": 5,
     "metadata": {},
     "output_type": "execute_result"
    }
   ],
   "source": [
    "fex(2)"
   ]
  },
  {
   "cell_type": "markdown",
   "metadata": {},
   "source": [
    "Which can be evaluated numerically using the `N` function:"
   ]
  },
  {
   "cell_type": "code",
   "execution_count": 6,
   "metadata": {},
   "outputs": [
    {
     "data": {
      "text/plain": [
       "54.598150033144236"
      ]
     },
     "execution_count": 6,
     "metadata": {},
     "output_type": "execute_result"
    }
   ],
   "source": [
    "N(fex(2))"
   ]
  },
  {
   "cell_type": "markdown",
   "metadata": {},
   "source": [
    "***\n",
    "\n",
    "Help can be found using the `?` command."
   ]
  },
  {
   "cell_type": "markdown",
   "metadata": {},
   "source": [
    "***\n",
    "\n",
    "## Algebra Stuff"
   ]
  },
  {
   "cell_type": "markdown",
   "metadata": {},
   "source": [
    "`SymPy` can do algebra.\n",
    "For example it will simplify expressions."
   ]
  },
  {
   "cell_type": "code",
   "execution_count": 7,
   "metadata": {},
   "outputs": [
    {
     "data": {
      "text/latex": [
       "\\begin{equation*}3 x^{2} - 2 x - 11\\end{equation*}"
      ],
      "text/plain": [
       "   2           \n",
       "3*x  - 2*x - 11"
      ]
     },
     "execution_count": 7,
     "metadata": {},
     "output_type": "execute_result"
    }
   ],
   "source": [
    "x^2 + 5x +2x^2 -7x -11"
   ]
  },
  {
   "cell_type": "markdown",
   "metadata": {},
   "source": [
    "There are some things that it will not automatically simplify:"
   ]
  },
  {
   "cell_type": "code",
   "execution_count": 8,
   "metadata": {},
   "outputs": [
    {
     "data": {
      "text/latex": [
       "\\begin{equation*}x^{2} - 4 x - \\left(x - 2\\right)^{2} + 4\\end{equation*}"
      ],
      "text/plain": [
       " 2                2    \n",
       "x  - 4*x - (x - 2)  + 4"
      ]
     },
     "execution_count": 8,
     "metadata": {},
     "output_type": "execute_result"
    }
   ],
   "source": [
    "x^2-4x+4 - (x-2)^2"
   ]
  },
  {
   "cell_type": "markdown",
   "metadata": {},
   "source": [
    "<a id='simplify_cell'></a>\n",
    "But it can sometimes be coerced to go further using `simplify`:"
   ]
  },
  {
   "cell_type": "code",
   "execution_count": 9,
   "metadata": {},
   "outputs": [
    {
     "data": {
      "text/latex": [
       "\\begin{equation*}0\\end{equation*}"
      ],
      "text/plain": [
       "0"
      ]
     },
     "execution_count": 9,
     "metadata": {},
     "output_type": "execute_result"
    }
   ],
   "source": [
    "simplify(x^2-4x+4 - (x-2)^2)"
   ]
  },
  {
   "cell_type": "markdown",
   "metadata": {},
   "source": [
    "<a id='factor_cell'></a>\n",
    "It can also factor using the (shockingly named) `factor` function:"
   ]
  },
  {
   "cell_type": "code",
   "execution_count": 10,
   "metadata": {},
   "outputs": [
    {
     "data": {
      "text/latex": [
       "\\begin{equation*}\\left(x + 2\\right) \\left(x + 3\\right)\\end{equation*}"
      ],
      "text/plain": [
       "(x + 2)*(x + 3)"
      ]
     },
     "execution_count": 10,
     "metadata": {},
     "output_type": "execute_result"
    }
   ],
   "source": [
    "factor(x^2 + 5x + 6)"
   ]
  },
  {
   "cell_type": "code",
   "execution_count": 11,
   "metadata": {},
   "outputs": [
    {
     "data": {
      "text/latex": [
       "\\begin{equation*}\\left(x - 3\\right)^{2}\\end{equation*}"
      ],
      "text/plain": [
       "       2\n",
       "(x - 3) "
      ]
     },
     "execution_count": 11,
     "metadata": {},
     "output_type": "execute_result"
    }
   ],
   "source": [
    "factor(x^2 - 6x + 9)"
   ]
  },
  {
   "cell_type": "markdown",
   "metadata": {},
   "source": [
    "If we evaluate a factored form:"
   ]
  },
  {
   "cell_type": "code",
   "execution_count": 12,
   "metadata": {},
   "outputs": [
    {
     "data": {
      "text/latex": [
       "\\begin{equation*}\\left(x + 1\\right) \\left(x + 2\\right) \\left(x + 3\\right)\\end{equation*}"
      ],
      "text/plain": [
       "(x + 1)*(x + 2)*(x + 3)"
      ]
     },
     "execution_count": 12,
     "metadata": {},
     "output_type": "execute_result"
    }
   ],
   "source": [
    "p = (x + 1)*(x + 2)*(x + 3)"
   ]
  },
  {
   "cell_type": "markdown",
   "metadata": {},
   "source": [
    "<a id='expand_cell'></a>\n",
    "It remains factored,\n",
    "but can be forced to expand using `expand`:"
   ]
  },
  {
   "cell_type": "code",
   "execution_count": 13,
   "metadata": {},
   "outputs": [
    {
     "data": {
      "text/latex": [
       "\\begin{equation*}x^{3} + 6 x^{2} + 11 x + 6\\end{equation*}"
      ],
      "text/plain": [
       " 3      2           \n",
       "x  + 6*x  + 11*x + 6"
      ]
     },
     "execution_count": 13,
     "metadata": {},
     "output_type": "execute_result"
    }
   ],
   "source": [
    "p = expand(p)"
   ]
  },
  {
   "cell_type": "markdown",
   "metadata": {},
   "source": [
    "Note that if we left the Asterisk off in the above expression then it does something weird.\n",
    "Also if your spelling is as bad as mine you might spell it as Asterix but he is different from the symbol\n",
    "\n",
    "![](asterix-s.png)\n",
    "\n",
    "Anyway I don't know what is going on yet with the missing asterisks as can be seen below:"
   ]
  },
  {
   "cell_type": "code",
   "execution_count": 14,
   "metadata": {},
   "outputs": [
    {
     "data": {
      "text/latex": [
       "\\begin{equation*}x + 6\\end{equation*}"
      ],
      "text/plain": [
       "x + 6"
      ]
     },
     "execution_count": 14,
     "metadata": {},
     "output_type": "execute_result"
    }
   ],
   "source": [
    "(x + 1)(x + 2)(x + 3)"
   ]
  },
  {
   "cell_type": "markdown",
   "metadata": {},
   "source": [
    "We can factor our expression with `factor`:"
   ]
  },
  {
   "cell_type": "code",
   "execution_count": 15,
   "metadata": {},
   "outputs": [
    {
     "data": {
      "text/latex": [
       "\\begin{equation*}\\left(x + 1\\right) \\left(x + 2\\right) \\left(x + 3\\right)\\end{equation*}"
      ],
      "text/plain": [
       "(x + 1)*(x + 2)*(x + 3)"
      ]
     },
     "execution_count": 15,
     "metadata": {},
     "output_type": "execute_result"
    }
   ],
   "source": [
    "factor(p)"
   ]
  },
  {
   "cell_type": "markdown",
   "metadata": {},
   "source": [
    "<a id='roots_cell'></a>\n",
    "And find the roots with `roots`:"
   ]
  },
  {
   "cell_type": "code",
   "execution_count": 16,
   "metadata": {},
   "outputs": [
    {
     "data": {
      "text/plain": [
       "Dict{Any,Any} with 3 entries:\n",
       "  -3 => 1\n",
       "  -1 => 1\n",
       "  -2 => 1"
      ]
     },
     "execution_count": 16,
     "metadata": {},
     "output_type": "execute_result"
    }
   ],
   "source": [
    "roots(p)"
   ]
  },
  {
   "cell_type": "markdown",
   "metadata": {},
   "source": [
    "The reason for using a dictonary is that it also supplies the multiplicity."
   ]
  },
  {
   "cell_type": "code",
   "execution_count": 17,
   "metadata": {},
   "outputs": [
    {
     "data": {
      "text/plain": [
       "Dict{Any,Any} with 3 entries:\n",
       "  1 => 3\n",
       "  3 => 2\n",
       "  2 => 1"
      ]
     },
     "execution_count": 17,
     "metadata": {},
     "output_type": "execute_result"
    }
   ],
   "source": [
    "roots((x-1)^3*(x-2)*(x-3)^2)"
   ]
  },
  {
   "cell_type": "markdown",
   "metadata": {},
   "source": [
    "<a id='solve_cell'></a>\n",
    "Solve stuff here! `solve`."
   ]
  },
  {
   "cell_type": "code",
   "execution_count": 18,
   "metadata": {},
   "outputs": [
    {
     "data": {
      "text/latex": [
       "\\[ \\left[ \\begin{array}{r}\\frac{1}{2} - \\frac{\\sqrt{5}}{2}\\\\\\frac{1}{2} + \\frac{\\sqrt{5}}{2}\\end{array} \\right] \\]"
      ],
      "text/plain": [
       "2-element Array{Sym,1}:\n",
       " 1/2 - sqrt(5)/2\n",
       " 1/2 + sqrt(5)/2"
      ]
     },
     "execution_count": 18,
     "metadata": {},
     "output_type": "execute_result"
    }
   ],
   "source": [
    "vals = solve(x^2 - x - 1)"
   ]
  },
  {
   "cell_type": "markdown",
   "metadata": {},
   "source": [
    "<a id='N_cell'></a>\n",
    "To get the numerical values we use the notation `N.()`.\n",
    "Note the `.` between the `N` and the `()`.\n",
    "(This is called broadcasting and I don't think we need it anywhere else)."
   ]
  },
  {
   "cell_type": "code",
   "execution_count": 19,
   "metadata": {},
   "outputs": [
    {
     "data": {
      "text/plain": [
       "2-element Array{BigFloat,1}:\n",
       " -0.6180339887498948482045868343656381177203091798057628621354486227052604628189011\n",
       "  1.618033988749894848204586834365638117720309179805762862135448622705260462818892"
      ]
     },
     "execution_count": 19,
     "metadata": {},
     "output_type": "execute_result"
    }
   ],
   "source": [
    "N.(vals)"
   ]
  },
  {
   "cell_type": "markdown",
   "metadata": {},
   "source": [
    "<a id='nsolve_cell'></a>\n",
    "We can solve numerically with `nsolve`.\n",
    "In general it requires three arguments `nsolve(f, var, x0)` where:\n",
    "* `f` is the expression to be solved.\n",
    "* `var` is the variable in the expression (it can be omitted it there is only one variable).\n",
    "* `x0` is the initial guess.\n",
    "It only returns a single solution."
   ]
  },
  {
   "cell_type": "code",
   "execution_count": 20,
   "metadata": {},
   "outputs": [
    {
     "data": {
      "text/latex": [
       "\\begin{equation*}-0.6180339887498948482045868343656381177203091798057628621354486227052604628189\\end{equation*}"
      ],
      "text/plain": [
       "-0.618033988749894848204586834365638117720309179805762862135448622705260462818\n",
       "9"
      ]
     },
     "execution_count": 20,
     "metadata": {},
     "output_type": "execute_result"
    }
   ],
   "source": [
    "nsolve(x^2 - x - 1, x, 0)\n",
    "nsolve(x^2 - x - 1, 0)"
   ]
  },
  {
   "cell_type": "code",
   "execution_count": 21,
   "metadata": {},
   "outputs": [
    {
     "data": {
      "text/latex": [
       "\\begin{equation*}1.618033988749894848204586834365638117720309179805762862135448622705260462819\\end{equation*}"
      ],
      "text/plain": [
       "1.618033988749894848204586834365638117720309179805762862135448622705260462819"
      ]
     },
     "execution_count": 21,
     "metadata": {},
     "output_type": "execute_result"
    }
   ],
   "source": [
    "nsolve(x^2 - x - 1, 2)"
   ]
  },
  {
   "cell_type": "markdown",
   "metadata": {},
   "source": [
    "***\n",
    "\n",
    "## Calculus"
   ]
  },
  {
   "cell_type": "markdown",
   "metadata": {},
   "source": [
    "### Average Rates of Change\n",
    "\n",
    "**This section is totally experimental**\n",
    "\n",
    "The average rate of change for the function $f(x)$ from $a$ to $x$ is given by the formula\n",
    "$$v_{\\mbox{avg}} = \\frac{f(x)-f(a)}{x-a}=\\frac{f(a+h)-f(x)}{h}$$\n",
    "where $h = x-a$."
   ]
  },
  {
   "cell_type": "code",
   "execution_count": 22,
   "metadata": {},
   "outputs": [
    {
     "data": {
      "text/plain": [
       "v_avg (generic function with 1 method)"
      ]
     },
     "execution_count": 22,
     "metadata": {},
     "output_type": "execute_result"
    }
   ],
   "source": [
    "v_avg(f, a) = (f(x) - f(a))/(x-a)"
   ]
  },
  {
   "cell_type": "code",
   "execution_count": 23,
   "metadata": {},
   "outputs": [
    {
     "data": {
      "text/plain": [
       "f̅ (generic function with 1 method)"
      ]
     },
     "execution_count": 23,
     "metadata": {},
     "output_type": "execute_result"
    }
   ],
   "source": [
    "f̅(x) = x^2 #f\\overbar + TAB"
   ]
  },
  {
   "cell_type": "code",
   "execution_count": 24,
   "metadata": {},
   "outputs": [
    {
     "data": {
      "text/latex": [
       "\\begin{equation*}\\frac{x^{2} - 4}{x - 2}\\end{equation*}"
      ],
      "text/plain": [
       " 2    \n",
       "x  - 4\n",
       "------\n",
       "x - 2 "
      ]
     },
     "execution_count": 24,
     "metadata": {},
     "output_type": "execute_result"
    }
   ],
   "source": [
    "f̅avg = v_avg(f̅(x), 2)"
   ]
  },
  {
   "cell_type": "code",
   "execution_count": 25,
   "metadata": {},
   "outputs": [
    {
     "data": {
      "text/latex": [
       "\\begin{equation*}x + 2\\end{equation*}"
      ],
      "text/plain": [
       "x + 2"
      ]
     },
     "execution_count": 25,
     "metadata": {},
     "output_type": "execute_result"
    }
   ],
   "source": [
    "simplify(f̅avg)"
   ]
  },
  {
   "cell_type": "markdown",
   "metadata": {},
   "source": [
    "### Limits\n",
    "<a id='limittable_cell'></a>\n",
    "We can use the `limittable` command to make a table for evaluating limits.\n",
    "\n",
    "So below we have \n",
    "$$\\lim_{x \\to 2}f̅(x).$$"
   ]
  },
  {
   "cell_type": "code",
   "execution_count": 26,
   "metadata": {},
   "outputs": [
    {
     "data": {
      "text/html": [
       "<table>\n",
       "<caption style=\"text-align:center\">Limit table</caption>\n",
       "<tr>\n",
       "    <th style=\"text-align:center; background-color: lightblue; scope: colgroup\">Left</th>\n",
       "    <th style=\"text-align:center; background-color: lightcoral; scope: colgroup\">Right</th>\n",
       "</tr>\n",
       "<tr>\n",
       "    <td>\n",
       "        <table style=\"text-align:center; background-color: lightblue\">\n",
       "          <tr>\n",
       "            <th scope: col>x</th>\n",
       "            <th scope: col>y</th>\n",
       "          </tr>\n",
       "          <tr>\n",
       "              <td>1.00000000</td>\n",
       "              <td>1.00000000</td>\n",
       "            </tr><tr>\n",
       "              <td>1.50000000</td>\n",
       "              <td>2.25000000</td>\n",
       "            </tr><tr>\n",
       "              <td>1.90000000</td>\n",
       "              <td>3.61000000</td>\n",
       "            </tr><tr>\n",
       "              <td>1.99000000</td>\n",
       "              <td>3.96010000</td>\n",
       "            </tr><tr>\n",
       "              <td>1.99900000</td>\n",
       "              <td>3.99600100</td>\n",
       "            </tr>    </table>\n",
       "</td>\n",
       "<td>\n",
       "    <table style=\"text-align:center; background-color: lightcoral\">\n",
       "      <tr>\n",
       "        <th scope: col>x</th>\n",
       "        <th scope: col>y</th>\n",
       "      </tr>\n",
       "  <tr>\n",
       "              <td>3.00000000</td>\n",
       "              <td>9.00000000</td>\n",
       "            </tr><tr>\n",
       "              <td>2.50000000</td>\n",
       "              <td>6.25000000</td>\n",
       "            </tr><tr>\n",
       "              <td>2.10000000</td>\n",
       "              <td>4.41000000</td>\n",
       "            </tr><tr>\n",
       "              <td>2.01000000</td>\n",
       "              <td>4.04010000</td>\n",
       "            </tr><tr>\n",
       "              <td>2.00100000</td>\n",
       "              <td>4.00400100</td>\n",
       "            </tr>        </table>\n",
       "    </td>\n",
       "</tr>\n",
       "</table>\n"
      ]
     },
     "metadata": {},
     "output_type": "display_data"
    }
   ],
   "source": [
    "limittable(f̅(x), 2)"
   ]
  },
  {
   "cell_type": "markdown",
   "metadata": {},
   "source": [
    "I set the default number of rows to $5$, \n",
    "but this can be changed with the `rows` argument:"
   ]
  },
  {
   "cell_type": "code",
   "execution_count": 27,
   "metadata": {},
   "outputs": [
    {
     "data": {
      "text/html": [
       "<table>\n",
       "<caption style=\"text-align:center\">Limit table</caption>\n",
       "<tr>\n",
       "    <th style=\"text-align:center; background-color: lightblue; scope: colgroup\">Left</th>\n",
       "    <th style=\"text-align:center; background-color: lightcoral; scope: colgroup\">Right</th>\n",
       "</tr>\n",
       "<tr>\n",
       "    <td>\n",
       "        <table style=\"text-align:center; background-color: lightblue\">\n",
       "          <tr>\n",
       "            <th scope: col>x</th>\n",
       "            <th scope: col>y</th>\n",
       "          </tr>\n",
       "          <tr>\n",
       "              <td>1.00000000</td>\n",
       "              <td>1.00000000</td>\n",
       "            </tr><tr>\n",
       "              <td>1.50000000</td>\n",
       "              <td>2.25000000</td>\n",
       "            </tr><tr>\n",
       "              <td>1.90000000</td>\n",
       "              <td>3.61000000</td>\n",
       "            </tr><tr>\n",
       "              <td>1.99000000</td>\n",
       "              <td>3.96010000</td>\n",
       "            </tr><tr>\n",
       "              <td>1.99900000</td>\n",
       "              <td>3.99600100</td>\n",
       "            </tr><tr>\n",
       "              <td>1.99990000</td>\n",
       "              <td>3.99960001</td>\n",
       "            </tr><tr>\n",
       "              <td>1.99999000</td>\n",
       "              <td>3.99996000</td>\n",
       "            </tr><tr>\n",
       "              <td>1.99999900</td>\n",
       "              <td>3.99999600</td>\n",
       "            </tr><tr>\n",
       "              <td>1.99999990</td>\n",
       "              <td>3.99999960</td>\n",
       "            </tr><tr>\n",
       "              <td>1.99999999</td>\n",
       "              <td>3.99999996</td>\n",
       "            </tr>    </table>\n",
       "</td>\n",
       "<td>\n",
       "    <table style=\"text-align:center; background-color: lightcoral\">\n",
       "      <tr>\n",
       "        <th scope: col>x</th>\n",
       "        <th scope: col>y</th>\n",
       "      </tr>\n",
       "  <tr>\n",
       "              <td>3.00000000</td>\n",
       "              <td>9.00000000</td>\n",
       "            </tr><tr>\n",
       "              <td>2.50000000</td>\n",
       "              <td>6.25000000</td>\n",
       "            </tr><tr>\n",
       "              <td>2.10000000</td>\n",
       "              <td>4.41000000</td>\n",
       "            </tr><tr>\n",
       "              <td>2.01000000</td>\n",
       "              <td>4.04010000</td>\n",
       "            </tr><tr>\n",
       "              <td>2.00100000</td>\n",
       "              <td>4.00400100</td>\n",
       "            </tr><tr>\n",
       "              <td>2.00010000</td>\n",
       "              <td>4.00040001</td>\n",
       "            </tr><tr>\n",
       "              <td>2.00001000</td>\n",
       "              <td>4.00004000</td>\n",
       "            </tr><tr>\n",
       "              <td>2.00000100</td>\n",
       "              <td>4.00000400</td>\n",
       "            </tr><tr>\n",
       "              <td>2.00000010</td>\n",
       "              <td>4.00000040</td>\n",
       "            </tr><tr>\n",
       "              <td>2.00000001</td>\n",
       "              <td>4.00000004</td>\n",
       "            </tr>        </table>\n",
       "    </td>\n",
       "</tr>\n",
       "</table>\n"
      ]
     },
     "metadata": {},
     "output_type": "display_data"
    }
   ],
   "source": [
    "limittable(f̅(x), 2, rows=10)"
   ]
  },
  {
   "cell_type": "markdown",
   "metadata": {},
   "source": [
    "We can change the format of the numbers using c-style printf codes http://www.cplusplus.com/reference/cstdio/printf/"
   ]
  },
  {
   "cell_type": "code",
   "execution_count": 28,
   "metadata": {},
   "outputs": [
    {
     "data": {
      "text/html": [
       "<table>\n",
       "<caption style=\"text-align:center\">Limit table</caption>\n",
       "<tr>\n",
       "    <th style=\"text-align:center; background-color: lightblue; scope: colgroup\">Left</th>\n",
       "    <th style=\"text-align:center; background-color: lightcoral; scope: colgroup\">Right</th>\n",
       "</tr>\n",
       "<tr>\n",
       "    <td>\n",
       "        <table style=\"text-align:center; background-color: lightblue\">\n",
       "          <tr>\n",
       "            <th scope: col>x</th>\n",
       "            <th scope: col>y</th>\n",
       "          </tr>\n",
       "          <tr>\n",
       "              <td>1.00000000000000</td>\n",
       "              <td>1.00000000000000</td>\n",
       "            </tr><tr>\n",
       "              <td>1.50000000000000</td>\n",
       "              <td>2.25000000000000</td>\n",
       "            </tr><tr>\n",
       "              <td>1.90000000000000</td>\n",
       "              <td>3.61000000000000</td>\n",
       "            </tr><tr>\n",
       "              <td>1.99000000000000</td>\n",
       "              <td>3.96010000000000</td>\n",
       "            </tr><tr>\n",
       "              <td>1.99900000000000</td>\n",
       "              <td>3.99600100000000</td>\n",
       "            </tr><tr>\n",
       "              <td>1.99990000000000</td>\n",
       "              <td>3.99960001000000</td>\n",
       "            </tr><tr>\n",
       "              <td>1.99999000000000</td>\n",
       "              <td>3.99996000010000</td>\n",
       "            </tr><tr>\n",
       "              <td>1.99999900000000</td>\n",
       "              <td>3.99999600000100</td>\n",
       "            </tr><tr>\n",
       "              <td>1.99999990000000</td>\n",
       "              <td>3.99999960000001</td>\n",
       "            </tr><tr>\n",
       "              <td>1.99999999000000</td>\n",
       "              <td>3.99999996000000</td>\n",
       "            </tr>    </table>\n",
       "</td>\n",
       "<td>\n",
       "    <table style=\"text-align:center; background-color: lightcoral\">\n",
       "      <tr>\n",
       "        <th scope: col>x</th>\n",
       "        <th scope: col>y</th>\n",
       "      </tr>\n",
       "  <tr>\n",
       "              <td>3.00000000000000</td>\n",
       "              <td>9.00000000000000</td>\n",
       "            </tr><tr>\n",
       "              <td>2.50000000000000</td>\n",
       "              <td>6.25000000000000</td>\n",
       "            </tr><tr>\n",
       "              <td>2.10000000000000</td>\n",
       "              <td>4.41000000000000</td>\n",
       "            </tr><tr>\n",
       "              <td>2.01000000000000</td>\n",
       "              <td>4.04010000000000</td>\n",
       "            </tr><tr>\n",
       "              <td>2.00100000000000</td>\n",
       "              <td>4.00400100000000</td>\n",
       "            </tr><tr>\n",
       "              <td>2.00010000000000</td>\n",
       "              <td>4.00040001000000</td>\n",
       "            </tr><tr>\n",
       "              <td>2.00001000000000</td>\n",
       "              <td>4.00004000010000</td>\n",
       "            </tr><tr>\n",
       "              <td>2.00000100000000</td>\n",
       "              <td>4.00000400000100</td>\n",
       "            </tr><tr>\n",
       "              <td>2.00000010000000</td>\n",
       "              <td>4.00000040000001</td>\n",
       "            </tr><tr>\n",
       "              <td>2.00000001000000</td>\n",
       "              <td>4.00000004000000</td>\n",
       "            </tr>        </table>\n",
       "    </td>\n",
       "</tr>\n",
       "</table>\n"
      ]
     },
     "metadata": {},
     "output_type": "display_data"
    }
   ],
   "source": [
    "limittable(f̅(x), 2, rows=10, format=\"%15.14f\")"
   ]
  },
  {
   "cell_type": "markdown",
   "metadata": {},
   "source": [
    "We can also take left and right hand limits.\n",
    "$$\\lim_{x \\to 2^-}f̅(x).$$"
   ]
  },
  {
   "cell_type": "code",
   "execution_count": 29,
   "metadata": {},
   "outputs": [
    {
     "data": {
      "text/html": [
       "<table style=\"text-align:center; background-color: lightblue\">\n",
       "<caption style=\"text-align:center\">Limit table: approach from the left</caption>\n",
       "    <tr>\n",
       "        <th scope: col>x</th>\n",
       "        <th scope: col>y</th>\n",
       "    </tr><tr>\n",
       "              <td>1.00000000</td>\n",
       "              <td>1.00000000</td>\n",
       "            </tr><tr>\n",
       "              <td>1.50000000</td>\n",
       "              <td>2.25000000</td>\n",
       "            </tr><tr>\n",
       "              <td>1.90000000</td>\n",
       "              <td>3.61000000</td>\n",
       "            </tr><tr>\n",
       "              <td>1.99000000</td>\n",
       "              <td>3.96010000</td>\n",
       "            </tr><tr>\n",
       "              <td>1.99900000</td>\n",
       "              <td>3.99600100</td>\n",
       "            </tr></table>"
      ]
     },
     "metadata": {},
     "output_type": "display_data"
    }
   ],
   "source": [
    "limittable(f̅(x), 2, dir=\"-\")"
   ]
  },
  {
   "cell_type": "markdown",
   "metadata": {},
   "source": [
    "$$\\lim_{x \\to 2^+}f̅(x).$$"
   ]
  },
  {
   "cell_type": "markdown",
   "metadata": {},
   "source": [
    "We can also take the limit as $x$ approaches $\\infty$s.\n",
    "Note that $\\infty$ is denoted by two lower case \"oh\"s:\n",
    "$$\\lim_{x \\to \\infty}f̅(x)$$"
   ]
  },
  {
   "cell_type": "code",
   "execution_count": 30,
   "metadata": {},
   "outputs": [
    {
     "data": {
      "text/html": [
       "<table style=\"text-align:center; background-color: lightcoral\">\n",
       "<caption style=\"text-align:center\">Limit table: x approaching &#8734;</caption>\n",
       "    <tr>\n",
       "        <th scope: col>x</th>\n",
       "        <th scope: col>y</th>\n",
       "    </tr><tr>\n",
       "              <td>    100.00</td>\n",
       "              <td>  10000.00</td>\n",
       "            </tr><tr>\n",
       "              <td>   1000.00</td>\n",
       "              <td>1000000.00</td>\n",
       "            </tr><tr>\n",
       "              <td>  10000.00</td>\n",
       "              <td>100000000.00</td>\n",
       "            </tr><tr>\n",
       "              <td> 100000.00</td>\n",
       "              <td>10000000000.00</td>\n",
       "            </tr><tr>\n",
       "              <td>1000000.00</td>\n",
       "              <td>1000000000000.00</td>\n",
       "            </tr></table>"
      ]
     },
     "metadata": {},
     "output_type": "display_data"
    }
   ],
   "source": [
    "limittable(f̅(x), oo)"
   ]
  },
  {
   "cell_type": "code",
   "execution_count": 31,
   "metadata": {},
   "outputs": [
    {
     "data": {
      "text/html": [
       "<table style=\"text-align:center; background-color: lightcoral\">\n",
       "<caption style=\"text-align:center\">Limit table: approach from the right</caption>\n",
       "    <tr>\n",
       "        <th scope: col>x</th>\n",
       "        <th scope: col>y</th>\n",
       "    </tr><tr>\n",
       "              <td>3.00000000</td>\n",
       "              <td>9.00000000</td>\n",
       "            </tr><tr>\n",
       "              <td>2.50000000</td>\n",
       "              <td>6.25000000</td>\n",
       "            </tr><tr>\n",
       "              <td>2.10000000</td>\n",
       "              <td>4.41000000</td>\n",
       "            </tr><tr>\n",
       "              <td>2.01000000</td>\n",
       "              <td>4.04010000</td>\n",
       "            </tr><tr>\n",
       "              <td>2.00100000</td>\n",
       "              <td>4.00400100</td>\n",
       "            </tr></table>"
      ]
     },
     "metadata": {},
     "output_type": "display_data"
    }
   ],
   "source": [
    "limittable(f̅(x), 2, dir=\"+\")"
   ]
  },
  {
   "cell_type": "code",
   "execution_count": 32,
   "metadata": {},
   "outputs": [
    {
     "data": {
      "text/plain": [
       "graph_f_and_derivative"
      ]
     },
     "execution_count": 32,
     "metadata": {},
     "output_type": "execute_result"
    }
   ],
   "source": [
    "include(\"JSUMS120.jl\")"
   ]
  },
  {
   "cell_type": "code",
   "execution_count": 33,
   "metadata": {},
   "outputs": [
    {
     "data": {
      "text/html": [
       "<!DOCTYPE html>\n",
       "<html>\n",
       "<meta charset=\"UTF-8\">\n",
       "<style>\n",
       "table, td, th {\n",
       "    border-collapse: collapse;\n",
       "    font-family: sans-serif;\n",
       "}\n",
       "\n",
       "td, th {\n",
       "    border-bottom: 0;\n",
       "    padding: 4px\n",
       "}\n",
       "\n",
       "tr:nth-child(odd) {\n",
       "    background: #eee;\n",
       "}\n",
       "\n",
       "tr:nth-child(even) {\n",
       "    background: #fff;\n",
       "}\n",
       "\n",
       "tr.header {\n",
       "    background: navy !important;\n",
       "    color: white;\n",
       "    font-weight: bold;\n",
       "}\n",
       "\n",
       "tr.subheader {\n",
       "    background: lightgray !important;\n",
       "    color: black;\n",
       "}\n",
       "\n",
       "tr.headerLastRow {\n",
       "    border-bottom: 2px solid black;\n",
       "}\n",
       "\n",
       "th.rowNumber, td.rowNumber {\n",
       "    text-align: right;\n",
       "}\n",
       "\n",
       "</style>\n",
       "<body>\n",
       "<table>\n",
       "<tr class = \"header headerLastRow\">\n",
       "<th style = \"text-align: right; \">x</th>\n",
       "<th style = \"text-align: right; \">y</th>\n",
       "</tr>\n",
       "<tr>\n",
       "<td style = \"text-align: right; \">3.00000000</td>\n",
       "<td style = \"text-align: right; \">9.00000000</td>\n",
       "</tr>\n",
       "<tr>\n",
       "<td style = \"color: red; text-align: right; \">2.50000000</td>\n",
       "<td style = \"color: red; text-align: right; \">6.25000000</td>\n",
       "</tr>\n",
       "<tr>\n",
       "<td style = \"text-align: right; \">2.10000000</td>\n",
       "<td style = \"text-align: right; \">4.41000000</td>\n",
       "</tr>\n",
       "<tr>\n",
       "<td style = \"color: red; text-align: right; \">2.01000000</td>\n",
       "<td style = \"color: red; text-align: right; \">4.04010000</td>\n",
       "</tr>\n",
       "<tr>\n",
       "<td style = \"text-align: right; \">2.00100000</td>\n",
       "<td style = \"text-align: right; \">4.00400100</td>\n",
       "</tr>\n",
       "</table>\n",
       "</body>\n",
       "</html>\n"
      ]
     },
     "metadata": {},
     "output_type": "display_data"
    }
   ],
   "source": [
    "limittable_pt(f̅(x), 2, dir=\"+\")"
   ]
  },
  {
   "cell_type": "markdown",
   "metadata": {},
   "source": [
    "or\n",
    "$$\\lim_{x \\to -\\infty}f̅(x)$$"
   ]
  },
  {
   "cell_type": "code",
   "execution_count": 34,
   "metadata": {},
   "outputs": [
    {
     "data": {
      "text/html": [
       "<table style=\"text-align:center; background-color: lightblue\">\n",
       "<caption style=\"text-align:center\">Limit table: x approaching -&#8734;</caption>\n",
       "    <tr>\n",
       "        <th scope: col>x</th>\n",
       "        <th scope: col>y</th>\n",
       "    </tr><tr>\n",
       "              <td>   -100.00</td>\n",
       "              <td>  10000.00</td>\n",
       "            </tr><tr>\n",
       "              <td>  -1000.00</td>\n",
       "              <td>1000000.00</td>\n",
       "            </tr><tr>\n",
       "              <td> -10000.00</td>\n",
       "              <td>100000000.00</td>\n",
       "            </tr><tr>\n",
       "              <td>-100000.00</td>\n",
       "              <td>10000000000.00</td>\n",
       "            </tr><tr>\n",
       "              <td>-1000000.00</td>\n",
       "              <td>1000000000000.00</td>\n",
       "            </tr></table>"
      ]
     },
     "metadata": {},
     "output_type": "display_data"
    }
   ],
   "source": [
    "limittable(f̅(x), -oo)"
   ]
  },
  {
   "cell_type": "markdown",
   "metadata": {},
   "source": [
    "Understanding limits is very important.\n",
    "It is used in CS when discussing asymptotic anaylsis of algorithms,\n",
    "e.g. how fast is an algorithm.\n",
    "\n",
    "If the limit of the function $f(x)$ \n",
    "as $x$ approches the value $a$ \n",
    "($x \\to a$)\n",
    "is the value $L$,\n",
    "then we write\n",
    "$$\\lim_{x \\to a} f(x) = L.$$\n",
    "\n",
    "<a id='lim_cell'></a>\n",
    "This can be found using the `lim` function.\n",
    "So let us find \n",
    "$$\\lim_{x \\to 3} x^2.$$"
   ]
  },
  {
   "cell_type": "code",
   "execution_count": 35,
   "metadata": {},
   "outputs": [
    {
     "data": {
      "text/latex": [
       "\\begin{equation*}9\\end{equation*}"
      ],
      "text/plain": [
       "9"
      ]
     },
     "execution_count": 35,
     "metadata": {},
     "output_type": "execute_result"
    }
   ],
   "source": [
    "lim(x^2, x, 3)"
   ]
  },
  {
   "cell_type": "markdown",
   "metadata": {},
   "source": [
    "So we can see that\n",
    "$$\\lim_{x \\to 3} x^2 = 9.$$\n",
    "\n",
    "Now recalling that we defined $f(x) = e^{x^2}$\n",
    "we can find the limit of it as $x$ approaches $1$."
   ]
  },
  {
   "cell_type": "code",
   "execution_count": 36,
   "metadata": {},
   "outputs": [
    {
     "data": {
      "text/latex": [
       "\\begin{equation*}e\\end{equation*}"
      ],
      "text/plain": [
       "E"
      ]
     },
     "execution_count": 36,
     "metadata": {},
     "output_type": "execute_result"
    }
   ],
   "source": [
    "lim(f(x), x, 1)"
   ]
  },
  {
   "cell_type": "code",
   "execution_count": 37,
   "metadata": {},
   "outputs": [
    {
     "data": {
      "text/plain": [
       "ℯ = 2.7182818284590..."
      ]
     },
     "execution_count": 37,
     "metadata": {},
     "output_type": "execute_result"
    }
   ],
   "source": [
    "N(lim(f(x), x, 1))"
   ]
  },
  {
   "cell_type": "markdown",
   "metadata": {},
   "source": [
    "Sometimes we need to know what the limit of a function is at $\\infty$.\n",
    "Infinity is symbolized by `oo` (two lower case o's) in this package.\n",
    "Since \n",
    "$$\\lim_{x \\to \\infty} \\frac{1}{x} = 0$$\n",
    "we see:"
   ]
  },
  {
   "cell_type": "code",
   "execution_count": 38,
   "metadata": {},
   "outputs": [
    {
     "data": {
      "text/latex": [
       "\\begin{equation*}0\\end{equation*}"
      ],
      "text/plain": [
       "0"
      ]
     },
     "execution_count": 38,
     "metadata": {},
     "output_type": "execute_result"
    }
   ],
   "source": [
    "lim(1/x, x, oo)"
   ]
  },
  {
   "cell_type": "markdown",
   "metadata": {},
   "source": [
    "And \n",
    "$$\\lim_{x \\to \\infty} x^2 = \\infty$$"
   ]
  },
  {
   "cell_type": "code",
   "execution_count": 39,
   "metadata": {},
   "outputs": [
    {
     "data": {
      "text/latex": [
       "\\begin{equation*}\\infty\\end{equation*}"
      ],
      "text/plain": [
       "oo"
      ]
     },
     "execution_count": 39,
     "metadata": {},
     "output_type": "execute_result"
    }
   ],
   "source": [
    "lim(x^2, x, oo)"
   ]
  },
  {
   "cell_type": "markdown",
   "metadata": {},
   "source": [
    "And \n",
    "$$\\lim_{x \\to -\\infty} x^3 = -\\infty$$"
   ]
  },
  {
   "cell_type": "code",
   "execution_count": 40,
   "metadata": {},
   "outputs": [
    {
     "data": {
      "text/latex": [
       "\\begin{equation*}-\\infty\\end{equation*}"
      ],
      "text/plain": [
       "-oo"
      ]
     },
     "execution_count": 40,
     "metadata": {},
     "output_type": "execute_result"
    }
   ],
   "source": [
    "lim(x^3, x, -oo)"
   ]
  },
  {
   "cell_type": "markdown",
   "metadata": {},
   "source": [
    "We can take one sided limits.\n",
    "This can be necessary for several reasons.\n",
    "When we try to take the following limit\n",
    "$$\\lim_{x \\to 0} \\dfrac{1}{x}$$\n",
    "we get the result `missing` indicating that the limit does not exist."
   ]
  },
  {
   "cell_type": "code",
   "execution_count": 41,
   "metadata": {},
   "outputs": [
    {
     "data": {
      "text/plain": [
       "missing"
      ]
     },
     "execution_count": 41,
     "metadata": {},
     "output_type": "execute_result"
    }
   ],
   "source": [
    "lim(1/x, x, 0)"
   ]
  },
  {
   "cell_type": "markdown",
   "metadata": {},
   "source": [
    "Why? See table of limits:"
   ]
  },
  {
   "cell_type": "code",
   "execution_count": 42,
   "metadata": {},
   "outputs": [
    {
     "data": {
      "text/html": [
       "<table>\n",
       "<caption style=\"text-align:center\">Limit table</caption>\n",
       "<tr>\n",
       "    <th style=\"text-align:center; background-color: lightblue; scope: colgroup\">Left</th>\n",
       "    <th style=\"text-align:center; background-color: lightcoral; scope: colgroup\">Right</th>\n",
       "</tr>\n",
       "<tr>\n",
       "    <td>\n",
       "        <table style=\"text-align:center; background-color: lightblue\">\n",
       "          <tr>\n",
       "            <th scope: col>x</th>\n",
       "            <th scope: col>y</th>\n",
       "          </tr>\n",
       "          <tr>\n",
       "              <td>-1.00000000</td>\n",
       "              <td>-1.00000000</td>\n",
       "            </tr><tr>\n",
       "              <td>-0.50000000</td>\n",
       "              <td>-2.00000000</td>\n",
       "            </tr><tr>\n",
       "              <td>-0.10000000</td>\n",
       "              <td>-10.00000000</td>\n",
       "            </tr><tr>\n",
       "              <td>-0.01000000</td>\n",
       "              <td>-100.00000000</td>\n",
       "            </tr><tr>\n",
       "              <td>-0.00100000</td>\n",
       "              <td>-1000.00000000</td>\n",
       "            </tr>    </table>\n",
       "</td>\n",
       "<td>\n",
       "    <table style=\"text-align:center; background-color: lightcoral\">\n",
       "      <tr>\n",
       "        <th scope: col>x</th>\n",
       "        <th scope: col>y</th>\n",
       "      </tr>\n",
       "  <tr>\n",
       "              <td>1.00000000</td>\n",
       "              <td>1.00000000</td>\n",
       "            </tr><tr>\n",
       "              <td>0.50000000</td>\n",
       "              <td>2.00000000</td>\n",
       "            </tr><tr>\n",
       "              <td>0.10000000</td>\n",
       "              <td>10.00000000</td>\n",
       "            </tr><tr>\n",
       "              <td>0.01000000</td>\n",
       "              <td>100.00000000</td>\n",
       "            </tr><tr>\n",
       "              <td>0.00100000</td>\n",
       "              <td>1000.00000000</td>\n",
       "            </tr>        </table>\n",
       "    </td>\n",
       "</tr>\n",
       "</table>\n"
      ]
     },
     "metadata": {},
     "output_type": "display_data"
    }
   ],
   "source": [
    "limittable(1/x, 0)"
   ]
  },
  {
   "cell_type": "markdown",
   "metadata": {},
   "source": [
    "$$\\lim_{x \\to 0^-} \\dfrac{1}{x} = -\\infty \\mbox{ and } \\lim_{x \\to 0^+} \\dfrac{1}{x} = \\infty$$"
   ]
  },
  {
   "cell_type": "code",
   "execution_count": 43,
   "metadata": {},
   "outputs": [
    {
     "data": {
      "text/latex": [
       "\\begin{equation*}\\infty\\end{equation*}"
      ],
      "text/plain": [
       "oo"
      ]
     },
     "execution_count": 43,
     "metadata": {},
     "output_type": "execute_result"
    }
   ],
   "source": [
    "limit(1/x, x, 0, dir=\"+\")"
   ]
  },
  {
   "cell_type": "code",
   "execution_count": 44,
   "metadata": {},
   "outputs": [
    {
     "data": {
      "text/latex": [
       "\\begin{equation*}-\\infty\\end{equation*}"
      ],
      "text/plain": [
       "-oo"
      ]
     },
     "execution_count": 44,
     "metadata": {},
     "output_type": "execute_result"
    }
   ],
   "source": [
    "limit(1/x, x, 0, dir=\"-\")"
   ]
  },
  {
   "cell_type": "markdown",
   "metadata": {},
   "source": [
    "### Derivatives\n",
    "\n",
    "<a id='diff_cell'></a>\n",
    "SymPy also knows how to take derivatives symbolically using the `diff` command."
   ]
  },
  {
   "cell_type": "code",
   "execution_count": 45,
   "metadata": {},
   "outputs": [
    {
     "data": {
      "text/latex": [
       "\\begin{equation*}2 x\\end{equation*}"
      ],
      "text/plain": [
       "2*x"
      ]
     },
     "execution_count": 45,
     "metadata": {},
     "output_type": "execute_result"
    }
   ],
   "source": [
    "diff(x^2)"
   ]
  },
  {
   "cell_type": "code",
   "execution_count": 46,
   "metadata": {},
   "outputs": [
    {
     "data": {
      "text/latex": [
       "\\begin{equation*}5 x^{4}\\end{equation*}"
      ],
      "text/plain": [
       "   4\n",
       "5*x "
      ]
     },
     "execution_count": 46,
     "metadata": {},
     "output_type": "execute_result"
    }
   ],
   "source": [
    "diff(x^2*x^3)"
   ]
  },
  {
   "cell_type": "code",
   "execution_count": 47,
   "metadata": {},
   "outputs": [
    {
     "data": {
      "text/latex": [
       "\\begin{equation*}e^{x}\\end{equation*}"
      ],
      "text/plain": [
       " x\n",
       "e "
      ]
     },
     "execution_count": 47,
     "metadata": {},
     "output_type": "execute_result"
    }
   ],
   "source": [
    "diff(exp(x))"
   ]
  },
  {
   "cell_type": "code",
   "execution_count": 48,
   "metadata": {},
   "outputs": [
    {
     "data": {
      "text/latex": [
       "\\begin{equation*}\\frac{1}{x}\\end{equation*}"
      ],
      "text/plain": [
       "1\n",
       "-\n",
       "x"
      ]
     },
     "execution_count": 48,
     "metadata": {},
     "output_type": "execute_result"
    }
   ],
   "source": [
    "diff(ln(x))"
   ]
  },
  {
   "cell_type": "markdown",
   "metadata": {},
   "source": [
    "**Sum rule:** $D_x (f(x) + g(x)) = D_x f(x) + D_x g(x)$"
   ]
  },
  {
   "cell_type": "code",
   "execution_count": 49,
   "metadata": {},
   "outputs": [
    {
     "data": {
      "text/latex": [
       "\\begin{equation*}5 x^{4} + 6 x\\end{equation*}"
      ],
      "text/plain": [
       "   4      \n",
       "5*x  + 6*x"
      ]
     },
     "execution_count": 49,
     "metadata": {},
     "output_type": "execute_result"
    }
   ],
   "source": [
    "diff(x^5 + 3x^2)"
   ]
  },
  {
   "cell_type": "markdown",
   "metadata": {},
   "source": [
    "**Difference rule:** $D_x(f(x)-g(x)) = D_x f(x) - D_x g(x)$"
   ]
  },
  {
   "cell_type": "code",
   "execution_count": 50,
   "metadata": {},
   "outputs": [
    {
     "data": {
      "text/latex": [
       "\\begin{equation*}5 x^{4} - 6 x\\end{equation*}"
      ],
      "text/plain": [
       "   4      \n",
       "5*x  - 6*x"
      ]
     },
     "execution_count": 50,
     "metadata": {},
     "output_type": "execute_result"
    }
   ],
   "source": [
    "diff(x^5 - 3x^2)"
   ]
  },
  {
   "cell_type": "markdown",
   "metadata": {},
   "source": [
    "**Product rule:** $D_x(f(x)g(x)) = f(x)g'(x) + g(x)f'(x)$"
   ]
  },
  {
   "cell_type": "code",
   "execution_count": 51,
   "metadata": {},
   "outputs": [
    {
     "data": {
      "text/latex": [
       "\\begin{equation*}x e^{x} + e^{x}\\end{equation*}"
      ],
      "text/plain": [
       "   x    x\n",
       "x*e  + e "
      ]
     },
     "execution_count": 51,
     "metadata": {},
     "output_type": "execute_result"
    }
   ],
   "source": [
    "diff(x*exp(x))"
   ]
  },
  {
   "cell_type": "markdown",
   "metadata": {},
   "source": [
    "**Quotient rule:** $D_x \\dfrac{f(x)}{g(x)} = \\dfrac{g(x)f'(x) - f(x)g'(x)}{[g(x)]^2}$"
   ]
  },
  {
   "cell_type": "code",
   "execution_count": 52,
   "metadata": {},
   "outputs": [
    {
     "data": {
      "text/latex": [
       "\\begin{equation*}\\frac{e^{x}}{x} - \\frac{e^{x}}{x^{2}}\\end{equation*}"
      ],
      "text/plain": [
       " x    x\n",
       "e    e \n",
       "-- - --\n",
       "x     2\n",
       "     x "
      ]
     },
     "execution_count": 52,
     "metadata": {},
     "output_type": "execute_result"
    }
   ],
   "source": [
    "d = diff(exp(x)/x)"
   ]
  },
  {
   "cell_type": "code",
   "execution_count": 53,
   "metadata": {},
   "outputs": [
    {
     "data": {
      "text/latex": [
       "\\begin{equation*}\\frac{\\left(x - 1\\right) e^{x}}{x^{2}}\\end{equation*}"
      ],
      "text/plain": [
       "         x\n",
       "(x - 1)*e \n",
       "----------\n",
       "     2    \n",
       "    x     "
      ]
     },
     "execution_count": 53,
     "metadata": {},
     "output_type": "execute_result"
    }
   ],
   "source": [
    "simplify(d)"
   ]
  },
  {
   "cell_type": "markdown",
   "metadata": {},
   "source": [
    "**Chain rule:** $D_x f(g(x)) = f'(g(x))g'(x)$"
   ]
  },
  {
   "cell_type": "code",
   "execution_count": 54,
   "metadata": {},
   "outputs": [
    {
     "data": {
      "text/latex": [
       "\\begin{equation*}2 x e^{x^{2}}\\end{equation*}"
      ],
      "text/plain": [
       "     / 2\\\n",
       "     \\x /\n",
       "2*x*e    "
      ]
     },
     "execution_count": 54,
     "metadata": {},
     "output_type": "execute_result"
    }
   ],
   "source": [
    "diff(f(x))"
   ]
  },
  {
   "cell_type": "code",
   "execution_count": 55,
   "metadata": {},
   "outputs": [
    {
     "data": {
      "text/plain": [
       "g (generic function with 1 method)"
      ]
     },
     "execution_count": 55,
     "metadata": {},
     "output_type": "execute_result"
    }
   ],
   "source": [
    "g(x) = √x #To get a sqrt symbol type the following followed by the TAB key: \\sqrt + TAB"
   ]
  },
  {
   "cell_type": "code",
   "execution_count": 56,
   "metadata": {},
   "outputs": [
    {
     "data": {
      "text/latex": [
       "\\begin{equation*}\\frac{1}{2 \\sqrt{x}}\\end{equation*}"
      ],
      "text/plain": [
       "   1   \n",
       "-------\n",
       "    ___\n",
       "2*\\/ x "
      ]
     },
     "execution_count": 56,
     "metadata": {},
     "output_type": "execute_result"
    }
   ],
   "source": [
    "diff(g(x))"
   ]
  },
  {
   "cell_type": "code",
   "execution_count": 57,
   "metadata": {},
   "outputs": [
    {
     "data": {
      "text/latex": [
       "\\begin{equation*}\\sqrt{e^{x^{2}}}\\end{equation*}"
      ],
      "text/plain": [
       "    _______\n",
       "   /  / 2\\ \n",
       "  /   \\x / \n",
       "\\/   e     "
      ]
     },
     "execution_count": 57,
     "metadata": {},
     "output_type": "execute_result"
    }
   ],
   "source": [
    "g(f(x))"
   ]
  },
  {
   "cell_type": "code",
   "execution_count": 58,
   "metadata": {},
   "outputs": [
    {
     "data": {
      "text/latex": [
       "\\begin{equation*}x \\sqrt{e^{x^{2}}}\\end{equation*}"
      ],
      "text/plain": [
       "      _______\n",
       "     /  / 2\\ \n",
       "    /   \\x / \n",
       "x*\\/   e     "
      ]
     },
     "execution_count": 58,
     "metadata": {},
     "output_type": "execute_result"
    }
   ],
   "source": [
    "diff(g(f(x)))"
   ]
  },
  {
   "cell_type": "code",
   "execution_count": 59,
   "metadata": {},
   "outputs": [
    {
     "data": {
      "text/latex": [
       "\\begin{equation*}\\sqrt[3]{x}\\end{equation*}"
      ],
      "text/plain": [
       "3 ___\n",
       "\\/ x "
      ]
     },
     "execution_count": 59,
     "metadata": {},
     "output_type": "execute_result"
    }
   ],
   "source": [
    "∛x #\\cbrt + TAB"
   ]
  },
  {
   "cell_type": "code",
   "execution_count": 60,
   "metadata": {},
   "outputs": [
    {
     "data": {
      "text/latex": [
       "\\begin{equation*}- \\frac{1}{4 x^{\\frac{3}{2}}}\\end{equation*}"
      ],
      "text/plain": [
       " -1   \n",
       "------\n",
       "   3/2\n",
       "4*x   "
      ]
     },
     "execution_count": 60,
     "metadata": {},
     "output_type": "execute_result"
    }
   ],
   "source": [
    "diff(diff(g(x)))"
   ]
  },
  {
   "cell_type": "code",
   "execution_count": 61,
   "metadata": {},
   "outputs": [
    {
     "data": {
      "text/plain": [
       "h1 (generic function with 1 method)"
      ]
     },
     "execution_count": 61,
     "metadata": {},
     "output_type": "execute_result"
    }
   ],
   "source": [
    "h1(x) = ln(x)"
   ]
  },
  {
   "cell_type": "code",
   "execution_count": 62,
   "metadata": {},
   "outputs": [
    {
     "data": {
      "text/plain": [
       "h1′ (generic function with 1 method)"
      ]
     },
     "execution_count": 62,
     "metadata": {},
     "output_type": "execute_result"
    }
   ],
   "source": [
    "h1′(x) = diff(h1(x)) #h\\prime + TAB"
   ]
  },
  {
   "cell_type": "code",
   "execution_count": 63,
   "metadata": {},
   "outputs": [
    {
     "data": {
      "text/latex": [
       "\\begin{equation*}\\frac{1}{x}\\end{equation*}"
      ],
      "text/plain": [
       "1\n",
       "-\n",
       "x"
      ]
     },
     "execution_count": 63,
     "metadata": {},
     "output_type": "execute_result"
    }
   ],
   "source": [
    "h1′(x)"
   ]
  },
  {
   "cell_type": "code",
   "execution_count": 64,
   "metadata": {},
   "outputs": [
    {
     "data": {
      "text/plain": [
       "h1′′ (generic function with 1 method)"
      ]
     },
     "execution_count": 64,
     "metadata": {},
     "output_type": "execute_result"
    }
   ],
   "source": [
    "h1′′(x) = diff(h1′(x))"
   ]
  },
  {
   "cell_type": "code",
   "execution_count": 65,
   "metadata": {},
   "outputs": [
    {
     "data": {
      "text/latex": [
       "\\begin{equation*}- \\frac{1}{x^{2}}\\end{equation*}"
      ],
      "text/plain": [
       "-1 \n",
       "---\n",
       "  2\n",
       " x "
      ]
     },
     "execution_count": 65,
     "metadata": {},
     "output_type": "execute_result"
    }
   ],
   "source": [
    "h1′′(x)"
   ]
  },
  {
   "cell_type": "markdown",
   "metadata": {},
   "source": [
    "Another way to take a second derivative is to add an argument to the `diff` function,\n",
    "but you must also specify the variable when you do this:"
   ]
  },
  {
   "cell_type": "code",
   "execution_count": 66,
   "metadata": {},
   "outputs": [
    {
     "data": {
      "text/latex": [
       "\\begin{equation*}- \\frac{1}{x^{2}}\\end{equation*}"
      ],
      "text/plain": [
       "-1 \n",
       "---\n",
       "  2\n",
       " x "
      ]
     },
     "execution_count": 66,
     "metadata": {},
     "output_type": "execute_result"
    }
   ],
   "source": [
    "diff(ln(x), x, 2)"
   ]
  },
  {
   "cell_type": "markdown",
   "metadata": {},
   "source": [
    "### A Look at Graphing\n",
    "\n",
    "Let see how we can use derivatives to help us understand graphs.\n",
    "Note that the first time you graph in a Julia section it takes a loooong time.\n",
    "This issue is being worked on\n",
    "and reducing the time to graph for a session is a major goal \n",
    "(from what I have read).\n",
    "So be patient for that first graph.\n",
    "\n",
    "<a id='signchart_cell'></a>\n",
    "First we can make use of the `signchart` command to make a signchart for our function:"
   ]
  },
  {
   "cell_type": "code",
   "execution_count": 67,
   "metadata": {},
   "outputs": [
    {
     "data": {
      "image/svg+xml": [
       "<?xml version=\"1.0\" encoding=\"utf-8\"?>\n",
       "<svg xmlns=\"http://www.w3.org/2000/svg\" xmlns:xlink=\"http://www.w3.org/1999/xlink\" width=\"500\" height=\"200\" viewBox=\"0 0 2000 800\">\n",
       "<defs>\n",
       "  <clipPath id=\"clip840\">\n",
       "    <rect x=\"0\" y=\"0\" width=\"2000\" height=\"800\"/>\n",
       "  </clipPath>\n",
       "</defs>\n",
       "<path clip-path=\"url(#clip840)\" d=\"\n",
       "M0 800 L2000 800 L2000 0 L0 0  Z\n",
       "  \" fill=\"#ffffff\" fill-rule=\"evenodd\" fill-opacity=\"1\"/>\n",
       "<defs>\n",
       "  <clipPath id=\"clip841\">\n",
       "    <rect x=\"400\" y=\"0\" width=\"1401\" height=\"800\"/>\n",
       "  </clipPath>\n",
       "</defs>\n",
       "<path clip-path=\"url(#clip840)\" d=\"\n",
       "M280.608 677.168 L1952.76 677.168 L1952.76 47.2441 L280.608 47.2441  Z\n",
       "  \" fill=\"#ffffff\" fill-rule=\"evenodd\" fill-opacity=\"1\"/>\n",
       "<defs>\n",
       "  <clipPath id=\"clip842\">\n",
       "    <rect x=\"280\" y=\"47\" width=\"1673\" height=\"631\"/>\n",
       "  </clipPath>\n",
       "</defs>\n",
       "<polyline clip-path=\"url(#clip842)\" style=\"stroke:#000000; stroke-width:2; stroke-opacity:0.1; fill:none\" points=\"\n",
       "  791.542,677.168 791.542,47.2441 \n",
       "  \"/>\n",
       "<polyline clip-path=\"url(#clip842)\" style=\"stroke:#000000; stroke-width:2; stroke-opacity:0.1; fill:none\" points=\"\n",
       "  1720.51,677.168 1720.51,47.2441 \n",
       "  \"/>\n",
       "<polyline clip-path=\"url(#clip840)\" style=\"stroke:#000000; stroke-width:4; stroke-opacity:0; fill:none\" points=\"\n",
       "  791.542,677.168 791.542,669.609 \n",
       "  \"/>\n",
       "<polyline clip-path=\"url(#clip840)\" style=\"stroke:#000000; stroke-width:4; stroke-opacity:0; fill:none\" points=\"\n",
       "  1720.51,677.168 1720.51,669.609 \n",
       "  \"/>\n",
       "<path clip-path=\"url(#clip840)\" d=\"M 0 0 M663.736 759.637 L694.928 759.637 L694.928 769.128 L663.736 769.128 L663.736 759.637 Z\" fill=\"#000000\" fill-rule=\"evenodd\" fill-opacity=\"1\" /><path clip-path=\"url(#clip840)\" d=\"M 0 0 M709.627 787.01 L728.724 787.01 L728.724 721.096 L707.949 725.263 L707.949 714.615 L728.608 710.448 L740.298 710.448 L740.298 787.01 L759.395 787.01 L759.395 796.848 L709.627 796.848 L709.627 787.01 Z\" fill=\"#000000\" fill-rule=\"evenodd\" fill-opacity=\"1\" /><path clip-path=\"url(#clip840)\" d=\"M 0 0 M772.069 782.149 L784.279 782.149 L784.279 796.848 L772.069 796.848 L772.069 782.149 Z\" fill=\"#000000\" fill-rule=\"evenodd\" fill-opacity=\"1\" /><path clip-path=\"url(#clip840)\" d=\"M 0 0 M821.953 718.145 Q812.925 718.145 808.353 727.057 Q803.839 735.911 803.839 753.735 Q803.839 771.501 808.353 780.413 Q812.925 789.267 821.953 789.267 Q831.038 789.267 835.552 780.413 Q840.124 771.501 840.124 753.735 Q840.124 735.911 835.552 727.057 Q831.038 718.145 821.953 718.145 M821.953 708.885 Q836.478 708.885 844.117 720.402 Q851.814 731.86 851.814 753.735 Q851.814 775.552 844.117 787.068 Q836.478 798.526 821.953 798.526 Q807.427 798.526 799.731 787.068 Q792.092 775.552 792.092 753.735 Q792.092 731.86 799.731 720.402 Q807.427 708.885 821.953 708.885 Z\" fill=\"#000000\" fill-rule=\"evenodd\" fill-opacity=\"1\" /><path clip-path=\"url(#clip840)\" d=\"M 0 0 M889.487 718.145 Q880.459 718.145 875.888 727.057 Q871.374 735.911 871.374 753.735 Q871.374 771.501 875.888 780.413 Q880.459 789.267 889.487 789.267 Q898.573 789.267 903.086 780.413 Q907.658 771.501 907.658 753.735 Q907.658 735.911 903.086 727.057 Q898.573 718.145 889.487 718.145 M889.487 708.885 Q904.012 708.885 911.651 720.402 Q919.348 731.86 919.348 753.735 Q919.348 775.552 911.651 787.068 Q904.012 798.526 889.487 798.526 Q874.962 798.526 867.265 787.068 Q859.626 775.552 859.626 753.735 Q859.626 731.86 867.265 720.402 Q874.962 708.885 889.487 708.885 Z\" fill=\"#000000\" fill-rule=\"evenodd\" fill-opacity=\"1\" /><path clip-path=\"url(#clip840)\" d=\"M 0 0 M1651.16 750.262 Q1659.55 752.056 1664.23 757.728 Q1668.98 763.399 1668.98 771.732 Q1668.98 784.522 1660.18 791.524 Q1651.39 798.526 1635.18 798.526 Q1629.74 798.526 1623.96 797.427 Q1618.23 796.385 1612.09 794.244 L1612.09 782.959 Q1616.95 785.795 1622.74 787.241 Q1628.53 788.688 1634.84 788.688 Q1645.83 788.688 1651.56 784.348 Q1657.35 780.008 1657.35 771.732 Q1657.35 764.093 1651.97 759.811 Q1646.64 755.471 1637.09 755.471 L1627.02 755.471 L1627.02 745.864 L1637.56 745.864 Q1646.18 745.864 1650.75 742.45 Q1655.32 738.978 1655.32 732.496 Q1655.32 725.841 1650.58 722.311 Q1645.89 718.723 1637.09 718.723 Q1632.29 718.723 1626.79 719.765 Q1621.29 720.807 1614.7 723.006 L1614.7 712.589 Q1621.35 710.737 1627.14 709.811 Q1632.98 708.885 1638.14 708.885 Q1651.45 708.885 1659.2 714.962 Q1666.95 720.98 1666.95 731.281 Q1666.95 738.457 1662.85 743.434 Q1658.74 748.353 1651.16 750.262 Z\" fill=\"#000000\" fill-rule=\"evenodd\" fill-opacity=\"1\" /><path clip-path=\"url(#clip840)\" d=\"M 0 0 M1681.65 782.149 L1693.86 782.149 L1693.86 796.848 L1681.65 796.848 L1681.65 782.149 Z\" fill=\"#000000\" fill-rule=\"evenodd\" fill-opacity=\"1\" /><path clip-path=\"url(#clip840)\" d=\"M 0 0 M1731.54 718.145 Q1722.51 718.145 1717.94 727.057 Q1713.42 735.911 1713.42 753.735 Q1713.42 771.501 1717.94 780.413 Q1722.51 789.267 1731.54 789.267 Q1740.62 789.267 1745.14 780.413 Q1749.71 771.501 1749.71 753.735 Q1749.71 735.911 1745.14 727.057 Q1740.62 718.145 1731.54 718.145 M1731.54 708.885 Q1746.06 708.885 1753.7 720.402 Q1761.4 731.86 1761.4 753.735 Q1761.4 775.552 1753.7 787.068 Q1746.06 798.526 1731.54 798.526 Q1717.01 798.526 1709.32 787.068 Q1701.68 775.552 1701.68 753.735 Q1701.68 731.86 1709.32 720.402 Q1717.01 708.885 1731.54 708.885 Z\" fill=\"#000000\" fill-rule=\"evenodd\" fill-opacity=\"1\" /><path clip-path=\"url(#clip840)\" d=\"M 0 0 M1799.07 718.145 Q1790.04 718.145 1785.47 727.057 Q1780.96 735.911 1780.96 753.735 Q1780.96 771.501 1785.47 780.413 Q1790.04 789.267 1799.07 789.267 Q1808.16 789.267 1812.67 780.413 Q1817.24 771.501 1817.24 753.735 Q1817.24 735.911 1812.67 727.057 Q1808.16 718.145 1799.07 718.145 M1799.07 708.885 Q1813.6 708.885 1821.24 720.402 Q1828.93 731.86 1828.93 753.735 Q1828.93 775.552 1821.24 787.068 Q1813.6 798.526 1799.07 798.526 Q1784.55 798.526 1776.85 787.068 Q1769.21 775.552 1769.21 753.735 Q1769.21 731.86 1776.85 720.402 Q1784.55 708.885 1799.07 708.885 Z\" fill=\"#000000\" fill-rule=\"evenodd\" fill-opacity=\"1\" /><polyline clip-path=\"url(#clip842)\" style=\"stroke:#000000; stroke-width:2; stroke-opacity:0.1; fill:none\" points=\"\n",
       "  280.608,628.712 1952.76,628.712 \n",
       "  \"/>\n",
       "<polyline clip-path=\"url(#clip842)\" style=\"stroke:#000000; stroke-width:2; stroke-opacity:0.1; fill:none\" points=\"\n",
       "  280.608,531.801 1952.76,531.801 \n",
       "  \"/>\n",
       "<polyline clip-path=\"url(#clip842)\" style=\"stroke:#000000; stroke-width:2; stroke-opacity:0.1; fill:none\" points=\"\n",
       "  280.608,434.889 1952.76,434.889 \n",
       "  \"/>\n",
       "<polyline clip-path=\"url(#clip842)\" style=\"stroke:#000000; stroke-width:2; stroke-opacity:0.1; fill:none\" points=\"\n",
       "  280.608,337.978 1952.76,337.978 \n",
       "  \"/>\n",
       "<polyline clip-path=\"url(#clip842)\" style=\"stroke:#000000; stroke-width:2; stroke-opacity:0.1; fill:none\" points=\"\n",
       "  280.608,241.067 1952.76,241.067 \n",
       "  \"/>\n",
       "<polyline clip-path=\"url(#clip842)\" style=\"stroke:#000000; stroke-width:2; stroke-opacity:0.1; fill:none\" points=\"\n",
       "  280.608,144.155 1952.76,144.155 \n",
       "  \"/>\n",
       "<path clip-path=\"url(#clip840)\" d=\"M 0 0 M128.328 593.209 Q119.301 593.209 114.729 602.121 Q110.215 610.975 110.215 628.799 Q110.215 646.565 114.729 655.477 Q119.301 664.331 128.328 664.331 Q137.414 664.331 141.928 655.477 Q146.5 646.565 146.5 628.799 Q146.5 610.975 141.928 602.121 Q137.414 593.209 128.328 593.209 M128.328 583.95 Q142.854 583.95 150.493 595.466 Q158.189 606.924 158.189 628.799 Q158.189 650.616 150.493 662.132 Q142.854 673.59 128.328 673.59 Q113.803 673.59 106.106 662.132 Q98.4674 650.616 98.4674 628.799 Q98.4674 606.924 106.106 595.466 Q113.803 583.95 128.328 583.95 Z\" fill=\"#000000\" fill-rule=\"evenodd\" fill-opacity=\"1\" /><path clip-path=\"url(#clip840)\" d=\"M 0 0 M170.863 657.213 L183.073 657.213 L183.073 671.912 L170.863 671.912 L170.863 657.213 Z\" fill=\"#000000\" fill-rule=\"evenodd\" fill-opacity=\"1\" /><path clip-path=\"url(#clip840)\" d=\"M 0 0 M220.747 593.209 Q211.719 593.209 207.147 602.121 Q202.634 610.975 202.634 628.799 Q202.634 646.565 207.147 655.477 Q211.719 664.331 220.747 664.331 Q229.832 664.331 234.346 655.477 Q238.918 646.565 238.918 628.799 Q238.918 610.975 234.346 602.121 Q229.832 593.209 220.747 593.209 M220.747 583.95 Q235.272 583.95 242.911 595.466 Q250.608 606.924 250.608 628.799 Q250.608 650.616 242.911 662.132 Q235.272 673.59 220.747 673.59 Q206.221 673.59 198.525 662.132 Q190.886 650.616 190.886 628.799 Q190.886 606.924 198.525 595.466 Q206.221 583.95 220.747 583.95 Z\" fill=\"#000000\" fill-rule=\"evenodd\" fill-opacity=\"1\" /><path clip-path=\"url(#clip840)\" d=\"M 0 0 M131.395 496.298 Q122.368 496.298 117.796 505.21 Q113.282 514.064 113.282 531.888 Q113.282 549.654 117.796 558.566 Q122.368 567.42 131.395 567.42 Q140.481 567.42 144.995 558.566 Q149.567 549.654 149.567 531.888 Q149.567 514.064 144.995 505.21 Q140.481 496.298 131.395 496.298 M131.395 487.038 Q145.921 487.038 153.56 498.554 Q161.256 510.013 161.256 531.888 Q161.256 553.705 153.56 565.221 Q145.921 576.679 131.395 576.679 Q116.87 576.679 109.173 565.221 Q101.535 553.705 101.535 531.888 Q101.535 510.013 109.173 498.554 Q116.87 487.038 131.395 487.038 Z\" fill=\"#000000\" fill-rule=\"evenodd\" fill-opacity=\"1\" /><path clip-path=\"url(#clip840)\" d=\"M 0 0 M173.93 560.302 L186.141 560.302 L186.141 575.001 L173.93 575.001 L173.93 560.302 Z\" fill=\"#000000\" fill-rule=\"evenodd\" fill-opacity=\"1\" /><path clip-path=\"url(#clip840)\" d=\"M 0 0 M200.84 565.163 L219.937 565.163 L219.937 499.249 L199.161 503.416 L199.161 492.767 L219.821 488.601 L231.511 488.601 L231.511 565.163 L250.608 565.163 L250.608 575.001 L200.84 575.001 L200.84 565.163 Z\" fill=\"#000000\" fill-rule=\"evenodd\" fill-opacity=\"1\" /><path clip-path=\"url(#clip840)\" d=\"M 0 0 M132.321 399.386 Q123.294 399.386 118.722 408.298 Q114.208 417.152 114.208 434.976 Q114.208 452.742 118.722 461.654 Q123.294 470.509 132.321 470.509 Q141.407 470.509 145.921 461.654 Q150.493 452.742 150.493 434.976 Q150.493 417.152 145.921 408.298 Q141.407 399.386 132.321 399.386 M132.321 390.127 Q146.847 390.127 154.486 401.643 Q162.182 413.101 162.182 434.976 Q162.182 456.793 154.486 468.309 Q146.847 479.768 132.321 479.768 Q117.796 479.768 110.099 468.309 Q102.46 456.793 102.46 434.976 Q102.46 413.101 110.099 401.643 Q117.796 390.127 132.321 390.127 Z\" fill=\"#000000\" fill-rule=\"evenodd\" fill-opacity=\"1\" /><path clip-path=\"url(#clip840)\" d=\"M 0 0 M174.856 463.391 L187.066 463.391 L187.066 478.089 L174.856 478.089 L174.856 463.391 Z\" fill=\"#000000\" fill-rule=\"evenodd\" fill-opacity=\"1\" /><path clip-path=\"url(#clip840)\" d=\"M 0 0 M209.809 468.252 L250.608 468.252 L250.608 478.089 L195.747 478.089 L195.747 468.252 Q202.402 461.365 213.86 449.791 Q225.376 438.159 228.328 434.803 Q233.941 428.495 236.14 424.155 Q238.397 419.756 238.397 415.532 Q238.397 408.645 233.536 404.305 Q228.733 399.965 220.978 399.965 Q215.481 399.965 209.346 401.875 Q203.27 403.784 196.326 407.662 L196.326 395.856 Q203.386 393.021 209.52 391.574 Q215.654 390.127 220.747 390.127 Q234.173 390.127 242.159 396.84 Q250.145 403.553 250.145 414.78 Q250.145 420.104 248.119 424.907 Q246.152 429.652 240.886 436.134 Q239.439 437.812 231.684 445.856 Q223.93 453.842 209.809 468.252 Z\" fill=\"#000000\" fill-rule=\"evenodd\" fill-opacity=\"1\" /><path clip-path=\"url(#clip840)\" d=\"M 0 0 M129.949 302.475 Q120.921 302.475 116.349 311.387 Q111.835 320.241 111.835 338.065 Q111.835 355.831 116.349 364.743 Q120.921 373.597 129.949 373.597 Q139.034 373.597 143.548 364.743 Q148.12 355.831 148.12 338.065 Q148.12 320.241 143.548 311.387 Q139.034 302.475 129.949 302.475 M129.949 293.216 Q144.474 293.216 152.113 304.732 Q159.81 316.19 159.81 338.065 Q159.81 359.882 152.113 371.398 Q144.474 382.856 129.949 382.856 Q115.423 382.856 107.727 371.398 Q100.088 359.882 100.088 338.065 Q100.088 316.19 107.727 304.732 Q115.423 293.216 129.949 293.216 Z\" fill=\"#000000\" fill-rule=\"evenodd\" fill-opacity=\"1\" /><path clip-path=\"url(#clip840)\" d=\"M 0 0 M172.483 366.479 L184.694 366.479 L184.694 381.178 L172.483 381.178 L172.483 366.479 Z\" fill=\"#000000\" fill-rule=\"evenodd\" fill-opacity=\"1\" /><path clip-path=\"url(#clip840)\" d=\"M 0 0 M232.784 334.593 Q241.175 336.387 245.862 342.058 Q250.608 347.729 250.608 356.063 Q250.608 368.852 241.812 375.854 Q233.015 382.856 216.812 382.856 Q211.372 382.856 205.585 381.757 Q199.856 380.715 193.722 378.574 L193.722 367.289 Q198.583 370.125 204.37 371.572 Q210.157 373.018 216.464 373.018 Q227.46 373.018 233.189 368.678 Q238.976 364.338 238.976 356.063 Q238.976 348.424 233.594 344.141 Q228.27 339.801 218.721 339.801 L208.652 339.801 L208.652 330.195 L219.184 330.195 Q227.807 330.195 232.379 326.78 Q236.95 323.308 236.95 316.827 Q236.95 310.172 232.205 306.642 Q227.518 303.054 218.721 303.054 Q213.918 303.054 208.421 304.095 Q202.923 305.137 196.326 307.336 L196.326 296.919 Q202.981 295.067 208.768 294.142 Q214.613 293.216 219.763 293.216 Q233.073 293.216 240.828 299.292 Q248.582 305.31 248.582 315.611 Q248.582 322.787 244.474 327.764 Q240.365 332.683 232.784 334.593 Z\" fill=\"#000000\" fill-rule=\"evenodd\" fill-opacity=\"1\" /><path clip-path=\"url(#clip840)\" d=\"M 0 0 M127.113 205.564 Q118.085 205.564 113.514 214.476 Q109 223.33 109 241.154 Q109 258.92 113.514 267.832 Q118.085 276.686 127.113 276.686 Q136.199 276.686 140.713 267.832 Q145.284 258.92 145.284 241.154 Q145.284 223.33 140.713 214.476 Q136.199 205.564 127.113 205.564 M127.113 196.304 Q141.638 196.304 149.277 207.82 Q156.974 219.279 156.974 241.154 Q156.974 262.971 149.277 274.487 Q141.638 285.945 127.113 285.945 Q112.588 285.945 104.891 274.487 Q97.2522 262.971 97.2522 241.154 Q97.2522 219.279 104.891 207.82 Q112.588 196.304 127.113 196.304 Z\" fill=\"#000000\" fill-rule=\"evenodd\" fill-opacity=\"1\" /><path clip-path=\"url(#clip840)\" d=\"M 0 0 M169.648 269.568 L181.858 269.568 L181.858 284.267 L169.648 284.267 L169.648 269.568 Z\" fill=\"#000000\" fill-rule=\"evenodd\" fill-opacity=\"1\" /><path clip-path=\"url(#clip840)\" d=\"M 0 0 M226.65 208.052 L197.136 254.174 L226.65 254.174 L226.65 208.052 M223.582 197.867 L238.281 197.867 L238.281 254.174 L250.608 254.174 L250.608 263.897 L238.281 263.897 L238.281 284.267 L226.65 284.267 L226.65 263.897 L187.645 263.897 L187.645 252.612 L223.582 197.867 Z\" fill=\"#000000\" fill-rule=\"evenodd\" fill-opacity=\"1\" /><path clip-path=\"url(#clip840)\" d=\"M 0 0 M130.817 108.652 Q121.789 108.652 117.217 117.564 Q112.703 126.418 112.703 144.242 Q112.703 162.008 117.217 170.92 Q121.789 179.774 130.817 179.774 Q139.902 179.774 144.416 170.92 Q148.988 162.008 148.988 144.242 Q148.988 126.418 144.416 117.564 Q139.902 108.652 130.817 108.652 M130.817 99.393 Q145.342 99.393 152.981 110.909 Q160.678 122.367 160.678 144.242 Q160.678 166.059 152.981 177.575 Q145.342 189.034 130.817 189.034 Q116.291 189.034 108.595 177.575 Q100.956 166.059 100.956 144.242 Q100.956 122.367 108.595 110.909 Q116.291 99.393 130.817 99.393 Z\" fill=\"#000000\" fill-rule=\"evenodd\" fill-opacity=\"1\" /><path clip-path=\"url(#clip840)\" d=\"M 0 0 M173.351 172.656 L185.562 172.656 L185.562 187.355 L173.351 187.355 L173.351 172.656 Z\" fill=\"#000000\" fill-rule=\"evenodd\" fill-opacity=\"1\" /><path clip-path=\"url(#clip840)\" d=\"M 0 0 M198.351 100.955 L244.242 100.955 L244.242 110.793 L209.057 110.793 L209.057 131.974 Q211.603 131.106 214.15 130.701 Q216.696 130.238 219.242 130.238 Q233.71 130.238 242.159 138.166 Q250.608 146.094 250.608 159.636 Q250.608 173.582 241.927 181.337 Q233.247 189.034 217.448 189.034 Q212.008 189.034 206.337 188.108 Q200.724 187.182 194.705 185.33 L194.705 173.582 Q199.914 176.418 205.469 177.807 Q211.025 179.196 217.217 179.196 Q227.228 179.196 233.073 173.93 Q238.918 168.663 238.918 159.636 Q238.918 150.608 233.073 145.342 Q227.228 140.076 217.217 140.076 Q212.529 140.076 207.842 141.117 Q203.212 142.159 198.351 144.358 L198.351 100.955 Z\" fill=\"#000000\" fill-rule=\"evenodd\" fill-opacity=\"1\" /><path clip-path=\"url(#clip840)\" d=\"M 0 0 M42.8227 351.766 Q42.2498 352.753 41.9952 353.931 Q41.7087 355.076 41.7087 356.477 Q41.7087 361.442 44.9552 364.116 Q48.1699 366.757 54.2173 366.757 L72.9962 366.757 L72.9962 372.646 L37.3482 372.646 L37.3482 366.757 L42.8864 366.757 Q39.6399 364.911 38.0803 361.951 Q36.4888 358.991 36.4888 354.758 Q36.4888 354.153 36.5843 353.421 Q36.648 352.689 36.8071 351.798 L42.8227 351.766 Z\" fill=\"#000000\" fill-rule=\"evenodd\" fill-opacity=\"1\" /><polyline clip-path=\"url(#clip842)\" style=\"stroke:#009af9; stroke-width:4; stroke-opacity:1; fill:none\" points=\"\n",
       "  559.299,628.712 1256.03,628.712 1836.63,628.712 \n",
       "  \"/>\n",
       "<polyline clip-path=\"url(#clip842)\" style=\"stroke:#000000; stroke-width:4; stroke-opacity:1; fill:none\" points=\"\n",
       "  -1391.54,628.712 3624.9,628.712 \n",
       "  \"/>\n",
       "<polyline clip-path=\"url(#clip842)\" style=\"stroke:#ff0000; stroke-width:4; stroke-opacity:1; fill:none\" stroke-dasharray=\"16, 10\" points=\"\n",
       "  791.542,1307.09 791.542,-582.68 \n",
       "  \"/>\n",
       "<polyline clip-path=\"url(#clip842)\" style=\"stroke:#ff0000; stroke-width:4; stroke-opacity:1; fill:none\" stroke-dasharray=\"16, 10\" points=\"\n",
       "  1720.51,1307.09 1720.51,-582.68 \n",
       "  \"/>\n",
       "<circle clip-path=\"url(#clip842)\" cx=\"791.542\" cy=\"628.712\" r=\"28\" fill=\"#000000\" fill-rule=\"evenodd\" fill-opacity=\"1\" stroke=\"none\"/>\n",
       "<circle clip-path=\"url(#clip842)\" cx=\"1720.51\" cy=\"628.712\" r=\"28\" fill=\"#ffffff\" fill-rule=\"evenodd\" fill-opacity=\"1\" stroke=\"#000000\" stroke-opacity=\"1\" stroke-width=\"1.6\"/>\n",
       "<path clip-path=\"url(#clip840)\" d=\"M 0 0 M566.591 97.4977 L566.591 145.848 L614.941 145.848 L614.941 160.605 L566.591 160.605 L566.591 208.955 L552.008 208.955 L552.008 160.605 L503.657 160.605 L503.657 145.848 L552.008 145.848 L552.008 97.4977 L566.591 97.4977 Z\" fill=\"#000000\" fill-rule=\"evenodd\" fill-opacity=\"1\" /><path clip-path=\"url(#clip840)\" d=\"M 0 0 M1232.63 153.14 L1279.42 153.14 L1279.42 167.376 L1232.63 167.376 L1232.63 153.14 Z\" fill=\"#000000\" fill-rule=\"evenodd\" fill-opacity=\"1\" /><path clip-path=\"url(#clip840)\" d=\"M 0 0 M1843.93 97.4977 L1843.93 145.848 L1892.28 145.848 L1892.28 160.605 L1843.93 160.605 L1843.93 208.955 L1829.34 208.955 L1829.34 160.605 L1780.99 160.605 L1780.99 145.848 L1829.34 145.848 L1829.34 97.4977 L1843.93 97.4977 Z\" fill=\"#000000\" fill-rule=\"evenodd\" fill-opacity=\"1\" /></svg>\n"
      ]
     },
     "execution_count": 67,
     "metadata": {},
     "output_type": "execute_result"
    }
   ],
   "source": [
    "r(x) = (x+1)/(x-3)\n",
    "#r(x) = x^3\n",
    "\n",
    "lf = -3\n",
    "rt = 4\n",
    "s = signchart(r(x), [lf,rt], \"r\", tickfontsize=20)"
   ]
  },
  {
   "cell_type": "code",
   "execution_count": 68,
   "metadata": {},
   "outputs": [
    {
     "data": {
      "image/svg+xml": [
       "<?xml version=\"1.0\" encoding=\"utf-8\"?>\n",
       "<svg xmlns=\"http://www.w3.org/2000/svg\" xmlns:xlink=\"http://www.w3.org/1999/xlink\" width=\"500\" height=\"200\" viewBox=\"0 0 2000 800\">\n",
       "<defs>\n",
       "  <clipPath id=\"clip880\">\n",
       "    <rect x=\"0\" y=\"0\" width=\"2000\" height=\"800\"/>\n",
       "  </clipPath>\n",
       "</defs>\n",
       "<path clip-path=\"url(#clip880)\" d=\"\n",
       "M0 800 L2000 800 L2000 0 L0 0  Z\n",
       "  \" fill=\"#ffffff\" fill-rule=\"evenodd\" fill-opacity=\"1\"/>\n",
       "<defs>\n",
       "  <clipPath id=\"clip881\">\n",
       "    <rect x=\"400\" y=\"0\" width=\"1401\" height=\"800\"/>\n",
       "  </clipPath>\n",
       "</defs>\n",
       "<path clip-path=\"url(#clip880)\" d=\"\n",
       "M280.608 677.168 L1952.76 677.168 L1952.76 47.2441 L280.608 47.2441  Z\n",
       "  \" fill=\"#ffffff\" fill-rule=\"evenodd\" fill-opacity=\"1\"/>\n",
       "<defs>\n",
       "  <clipPath id=\"clip882\">\n",
       "    <rect x=\"280\" y=\"47\" width=\"1673\" height=\"631\"/>\n",
       "  </clipPath>\n",
       "</defs>\n",
       "<polyline clip-path=\"url(#clip882)\" style=\"stroke:#000000; stroke-width:2; stroke-opacity:0.1; fill:none\" points=\"\n",
       "  1720.51,677.168 1720.51,47.2441 \n",
       "  \"/>\n",
       "<polyline clip-path=\"url(#clip880)\" style=\"stroke:#000000; stroke-width:4; stroke-opacity:0; fill:none\" points=\"\n",
       "  1720.51,677.168 1720.51,669.609 \n",
       "  \"/>\n",
       "<path clip-path=\"url(#clip880)\" d=\"M 0 0 M1651.16 750.262 Q1659.55 752.056 1664.23 757.728 Q1668.98 763.399 1668.98 771.732 Q1668.98 784.522 1660.18 791.524 Q1651.39 798.526 1635.18 798.526 Q1629.74 798.526 1623.96 797.427 Q1618.23 796.385 1612.09 794.244 L1612.09 782.959 Q1616.95 785.795 1622.74 787.241 Q1628.53 788.688 1634.84 788.688 Q1645.83 788.688 1651.56 784.348 Q1657.35 780.008 1657.35 771.732 Q1657.35 764.093 1651.97 759.811 Q1646.64 755.471 1637.09 755.471 L1627.02 755.471 L1627.02 745.864 L1637.56 745.864 Q1646.18 745.864 1650.75 742.45 Q1655.32 738.978 1655.32 732.496 Q1655.32 725.841 1650.58 722.311 Q1645.89 718.723 1637.09 718.723 Q1632.29 718.723 1626.79 719.765 Q1621.29 720.807 1614.7 723.006 L1614.7 712.589 Q1621.35 710.737 1627.14 709.811 Q1632.98 708.885 1638.14 708.885 Q1651.45 708.885 1659.2 714.962 Q1666.95 720.98 1666.95 731.281 Q1666.95 738.457 1662.85 743.434 Q1658.74 748.353 1651.16 750.262 Z\" fill=\"#000000\" fill-rule=\"evenodd\" fill-opacity=\"1\" /><path clip-path=\"url(#clip880)\" d=\"M 0 0 M1681.65 782.149 L1693.86 782.149 L1693.86 796.848 L1681.65 796.848 L1681.65 782.149 Z\" fill=\"#000000\" fill-rule=\"evenodd\" fill-opacity=\"1\" /><path clip-path=\"url(#clip880)\" d=\"M 0 0 M1731.54 718.145 Q1722.51 718.145 1717.94 727.057 Q1713.42 735.911 1713.42 753.735 Q1713.42 771.501 1717.94 780.413 Q1722.51 789.267 1731.54 789.267 Q1740.62 789.267 1745.14 780.413 Q1749.71 771.501 1749.71 753.735 Q1749.71 735.911 1745.14 727.057 Q1740.62 718.145 1731.54 718.145 M1731.54 708.885 Q1746.06 708.885 1753.7 720.402 Q1761.4 731.86 1761.4 753.735 Q1761.4 775.552 1753.7 787.068 Q1746.06 798.526 1731.54 798.526 Q1717.01 798.526 1709.32 787.068 Q1701.68 775.552 1701.68 753.735 Q1701.68 731.86 1709.32 720.402 Q1717.01 708.885 1731.54 708.885 Z\" fill=\"#000000\" fill-rule=\"evenodd\" fill-opacity=\"1\" /><path clip-path=\"url(#clip880)\" d=\"M 0 0 M1799.07 718.145 Q1790.04 718.145 1785.47 727.057 Q1780.96 735.911 1780.96 753.735 Q1780.96 771.501 1785.47 780.413 Q1790.04 789.267 1799.07 789.267 Q1808.16 789.267 1812.67 780.413 Q1817.24 771.501 1817.24 753.735 Q1817.24 735.911 1812.67 727.057 Q1808.16 718.145 1799.07 718.145 M1799.07 708.885 Q1813.6 708.885 1821.24 720.402 Q1828.93 731.86 1828.93 753.735 Q1828.93 775.552 1821.24 787.068 Q1813.6 798.526 1799.07 798.526 Q1784.55 798.526 1776.85 787.068 Q1769.21 775.552 1769.21 753.735 Q1769.21 731.86 1776.85 720.402 Q1784.55 708.885 1799.07 708.885 Z\" fill=\"#000000\" fill-rule=\"evenodd\" fill-opacity=\"1\" /><polyline clip-path=\"url(#clip882)\" style=\"stroke:#000000; stroke-width:2; stroke-opacity:0.1; fill:none\" points=\"\n",
       "  280.608,628.712 1952.76,628.712 \n",
       "  \"/>\n",
       "<polyline clip-path=\"url(#clip882)\" style=\"stroke:#000000; stroke-width:2; stroke-opacity:0.1; fill:none\" points=\"\n",
       "  280.608,531.801 1952.76,531.801 \n",
       "  \"/>\n",
       "<polyline clip-path=\"url(#clip882)\" style=\"stroke:#000000; stroke-width:2; stroke-opacity:0.1; fill:none\" points=\"\n",
       "  280.608,434.889 1952.76,434.889 \n",
       "  \"/>\n",
       "<polyline clip-path=\"url(#clip882)\" style=\"stroke:#000000; stroke-width:2; stroke-opacity:0.1; fill:none\" points=\"\n",
       "  280.608,337.978 1952.76,337.978 \n",
       "  \"/>\n",
       "<polyline clip-path=\"url(#clip882)\" style=\"stroke:#000000; stroke-width:2; stroke-opacity:0.1; fill:none\" points=\"\n",
       "  280.608,241.067 1952.76,241.067 \n",
       "  \"/>\n",
       "<polyline clip-path=\"url(#clip882)\" style=\"stroke:#000000; stroke-width:2; stroke-opacity:0.1; fill:none\" points=\"\n",
       "  280.608,144.155 1952.76,144.155 \n",
       "  \"/>\n",
       "<path clip-path=\"url(#clip880)\" d=\"M 0 0 M128.328 593.209 Q119.301 593.209 114.729 602.121 Q110.215 610.975 110.215 628.799 Q110.215 646.565 114.729 655.477 Q119.301 664.331 128.328 664.331 Q137.414 664.331 141.928 655.477 Q146.5 646.565 146.5 628.799 Q146.5 610.975 141.928 602.121 Q137.414 593.209 128.328 593.209 M128.328 583.95 Q142.854 583.95 150.493 595.466 Q158.189 606.924 158.189 628.799 Q158.189 650.616 150.493 662.132 Q142.854 673.59 128.328 673.59 Q113.803 673.59 106.106 662.132 Q98.4674 650.616 98.4674 628.799 Q98.4674 606.924 106.106 595.466 Q113.803 583.95 128.328 583.95 Z\" fill=\"#000000\" fill-rule=\"evenodd\" fill-opacity=\"1\" /><path clip-path=\"url(#clip880)\" d=\"M 0 0 M170.863 657.213 L183.073 657.213 L183.073 671.912 L170.863 671.912 L170.863 657.213 Z\" fill=\"#000000\" fill-rule=\"evenodd\" fill-opacity=\"1\" /><path clip-path=\"url(#clip880)\" d=\"M 0 0 M220.747 593.209 Q211.719 593.209 207.147 602.121 Q202.634 610.975 202.634 628.799 Q202.634 646.565 207.147 655.477 Q211.719 664.331 220.747 664.331 Q229.832 664.331 234.346 655.477 Q238.918 646.565 238.918 628.799 Q238.918 610.975 234.346 602.121 Q229.832 593.209 220.747 593.209 M220.747 583.95 Q235.272 583.95 242.911 595.466 Q250.608 606.924 250.608 628.799 Q250.608 650.616 242.911 662.132 Q235.272 673.59 220.747 673.59 Q206.221 673.59 198.525 662.132 Q190.886 650.616 190.886 628.799 Q190.886 606.924 198.525 595.466 Q206.221 583.95 220.747 583.95 Z\" fill=\"#000000\" fill-rule=\"evenodd\" fill-opacity=\"1\" /><path clip-path=\"url(#clip880)\" d=\"M 0 0 M131.395 496.298 Q122.368 496.298 117.796 505.21 Q113.282 514.064 113.282 531.888 Q113.282 549.654 117.796 558.566 Q122.368 567.42 131.395 567.42 Q140.481 567.42 144.995 558.566 Q149.567 549.654 149.567 531.888 Q149.567 514.064 144.995 505.21 Q140.481 496.298 131.395 496.298 M131.395 487.038 Q145.921 487.038 153.56 498.554 Q161.256 510.013 161.256 531.888 Q161.256 553.705 153.56 565.221 Q145.921 576.679 131.395 576.679 Q116.87 576.679 109.173 565.221 Q101.535 553.705 101.535 531.888 Q101.535 510.013 109.173 498.554 Q116.87 487.038 131.395 487.038 Z\" fill=\"#000000\" fill-rule=\"evenodd\" fill-opacity=\"1\" /><path clip-path=\"url(#clip880)\" d=\"M 0 0 M173.93 560.302 L186.141 560.302 L186.141 575.001 L173.93 575.001 L173.93 560.302 Z\" fill=\"#000000\" fill-rule=\"evenodd\" fill-opacity=\"1\" /><path clip-path=\"url(#clip880)\" d=\"M 0 0 M200.84 565.163 L219.937 565.163 L219.937 499.249 L199.161 503.416 L199.161 492.767 L219.821 488.601 L231.511 488.601 L231.511 565.163 L250.608 565.163 L250.608 575.001 L200.84 575.001 L200.84 565.163 Z\" fill=\"#000000\" fill-rule=\"evenodd\" fill-opacity=\"1\" /><path clip-path=\"url(#clip880)\" d=\"M 0 0 M132.321 399.386 Q123.294 399.386 118.722 408.298 Q114.208 417.152 114.208 434.976 Q114.208 452.742 118.722 461.654 Q123.294 470.509 132.321 470.509 Q141.407 470.509 145.921 461.654 Q150.493 452.742 150.493 434.976 Q150.493 417.152 145.921 408.298 Q141.407 399.386 132.321 399.386 M132.321 390.127 Q146.847 390.127 154.486 401.643 Q162.182 413.101 162.182 434.976 Q162.182 456.793 154.486 468.309 Q146.847 479.768 132.321 479.768 Q117.796 479.768 110.099 468.309 Q102.46 456.793 102.46 434.976 Q102.46 413.101 110.099 401.643 Q117.796 390.127 132.321 390.127 Z\" fill=\"#000000\" fill-rule=\"evenodd\" fill-opacity=\"1\" /><path clip-path=\"url(#clip880)\" d=\"M 0 0 M174.856 463.391 L187.066 463.391 L187.066 478.089 L174.856 478.089 L174.856 463.391 Z\" fill=\"#000000\" fill-rule=\"evenodd\" fill-opacity=\"1\" /><path clip-path=\"url(#clip880)\" d=\"M 0 0 M209.809 468.252 L250.608 468.252 L250.608 478.089 L195.747 478.089 L195.747 468.252 Q202.402 461.365 213.86 449.791 Q225.376 438.159 228.328 434.803 Q233.941 428.495 236.14 424.155 Q238.397 419.756 238.397 415.532 Q238.397 408.645 233.536 404.305 Q228.733 399.965 220.978 399.965 Q215.481 399.965 209.346 401.875 Q203.27 403.784 196.326 407.662 L196.326 395.856 Q203.386 393.021 209.52 391.574 Q215.654 390.127 220.747 390.127 Q234.173 390.127 242.159 396.84 Q250.145 403.553 250.145 414.78 Q250.145 420.104 248.119 424.907 Q246.152 429.652 240.886 436.134 Q239.439 437.812 231.684 445.856 Q223.93 453.842 209.809 468.252 Z\" fill=\"#000000\" fill-rule=\"evenodd\" fill-opacity=\"1\" /><path clip-path=\"url(#clip880)\" d=\"M 0 0 M129.949 302.475 Q120.921 302.475 116.349 311.387 Q111.835 320.241 111.835 338.065 Q111.835 355.831 116.349 364.743 Q120.921 373.597 129.949 373.597 Q139.034 373.597 143.548 364.743 Q148.12 355.831 148.12 338.065 Q148.12 320.241 143.548 311.387 Q139.034 302.475 129.949 302.475 M129.949 293.216 Q144.474 293.216 152.113 304.732 Q159.81 316.19 159.81 338.065 Q159.81 359.882 152.113 371.398 Q144.474 382.856 129.949 382.856 Q115.423 382.856 107.727 371.398 Q100.088 359.882 100.088 338.065 Q100.088 316.19 107.727 304.732 Q115.423 293.216 129.949 293.216 Z\" fill=\"#000000\" fill-rule=\"evenodd\" fill-opacity=\"1\" /><path clip-path=\"url(#clip880)\" d=\"M 0 0 M172.483 366.479 L184.694 366.479 L184.694 381.178 L172.483 381.178 L172.483 366.479 Z\" fill=\"#000000\" fill-rule=\"evenodd\" fill-opacity=\"1\" /><path clip-path=\"url(#clip880)\" d=\"M 0 0 M232.784 334.593 Q241.175 336.387 245.862 342.058 Q250.608 347.729 250.608 356.063 Q250.608 368.852 241.812 375.854 Q233.015 382.856 216.812 382.856 Q211.372 382.856 205.585 381.757 Q199.856 380.715 193.722 378.574 L193.722 367.289 Q198.583 370.125 204.37 371.572 Q210.157 373.018 216.464 373.018 Q227.46 373.018 233.189 368.678 Q238.976 364.338 238.976 356.063 Q238.976 348.424 233.594 344.141 Q228.27 339.801 218.721 339.801 L208.652 339.801 L208.652 330.195 L219.184 330.195 Q227.807 330.195 232.379 326.78 Q236.95 323.308 236.95 316.827 Q236.95 310.172 232.205 306.642 Q227.518 303.054 218.721 303.054 Q213.918 303.054 208.421 304.095 Q202.923 305.137 196.326 307.336 L196.326 296.919 Q202.981 295.067 208.768 294.142 Q214.613 293.216 219.763 293.216 Q233.073 293.216 240.828 299.292 Q248.582 305.31 248.582 315.611 Q248.582 322.787 244.474 327.764 Q240.365 332.683 232.784 334.593 Z\" fill=\"#000000\" fill-rule=\"evenodd\" fill-opacity=\"1\" /><path clip-path=\"url(#clip880)\" d=\"M 0 0 M127.113 205.564 Q118.085 205.564 113.514 214.476 Q109 223.33 109 241.154 Q109 258.92 113.514 267.832 Q118.085 276.686 127.113 276.686 Q136.199 276.686 140.713 267.832 Q145.284 258.92 145.284 241.154 Q145.284 223.33 140.713 214.476 Q136.199 205.564 127.113 205.564 M127.113 196.304 Q141.638 196.304 149.277 207.82 Q156.974 219.279 156.974 241.154 Q156.974 262.971 149.277 274.487 Q141.638 285.945 127.113 285.945 Q112.588 285.945 104.891 274.487 Q97.2522 262.971 97.2522 241.154 Q97.2522 219.279 104.891 207.82 Q112.588 196.304 127.113 196.304 Z\" fill=\"#000000\" fill-rule=\"evenodd\" fill-opacity=\"1\" /><path clip-path=\"url(#clip880)\" d=\"M 0 0 M169.648 269.568 L181.858 269.568 L181.858 284.267 L169.648 284.267 L169.648 269.568 Z\" fill=\"#000000\" fill-rule=\"evenodd\" fill-opacity=\"1\" /><path clip-path=\"url(#clip880)\" d=\"M 0 0 M226.65 208.052 L197.136 254.174 L226.65 254.174 L226.65 208.052 M223.582 197.867 L238.281 197.867 L238.281 254.174 L250.608 254.174 L250.608 263.897 L238.281 263.897 L238.281 284.267 L226.65 284.267 L226.65 263.897 L187.645 263.897 L187.645 252.612 L223.582 197.867 Z\" fill=\"#000000\" fill-rule=\"evenodd\" fill-opacity=\"1\" /><path clip-path=\"url(#clip880)\" d=\"M 0 0 M130.817 108.652 Q121.789 108.652 117.217 117.564 Q112.703 126.418 112.703 144.242 Q112.703 162.008 117.217 170.92 Q121.789 179.774 130.817 179.774 Q139.902 179.774 144.416 170.92 Q148.988 162.008 148.988 144.242 Q148.988 126.418 144.416 117.564 Q139.902 108.652 130.817 108.652 M130.817 99.393 Q145.342 99.393 152.981 110.909 Q160.678 122.367 160.678 144.242 Q160.678 166.059 152.981 177.575 Q145.342 189.034 130.817 189.034 Q116.291 189.034 108.595 177.575 Q100.956 166.059 100.956 144.242 Q100.956 122.367 108.595 110.909 Q116.291 99.393 130.817 99.393 Z\" fill=\"#000000\" fill-rule=\"evenodd\" fill-opacity=\"1\" /><path clip-path=\"url(#clip880)\" d=\"M 0 0 M173.351 172.656 L185.562 172.656 L185.562 187.355 L173.351 187.355 L173.351 172.656 Z\" fill=\"#000000\" fill-rule=\"evenodd\" fill-opacity=\"1\" /><path clip-path=\"url(#clip880)\" d=\"M 0 0 M198.351 100.955 L244.242 100.955 L244.242 110.793 L209.057 110.793 L209.057 131.974 Q211.603 131.106 214.15 130.701 Q216.696 130.238 219.242 130.238 Q233.71 130.238 242.159 138.166 Q250.608 146.094 250.608 159.636 Q250.608 173.582 241.927 181.337 Q233.247 189.034 217.448 189.034 Q212.008 189.034 206.337 188.108 Q200.724 187.182 194.705 185.33 L194.705 173.582 Q199.914 176.418 205.469 177.807 Q211.025 179.196 217.217 179.196 Q227.228 179.196 233.073 173.93 Q238.918 168.663 238.918 159.636 Q238.918 150.608 233.073 145.342 Q227.228 140.076 217.217 140.076 Q212.529 140.076 207.842 141.117 Q203.212 142.159 198.351 144.358 L198.351 100.955 Z\" fill=\"#000000\" fill-rule=\"evenodd\" fill-opacity=\"1\" /><path clip-path=\"url(#clip880)\" d=\"M 0 0 M42.8227 358.387 Q42.2498 359.373 41.9952 360.551 Q41.7087 361.697 41.7087 363.097 Q41.7087 368.062 44.9552 370.736 Q48.1699 373.378 54.2173 373.378 L72.9962 373.378 L72.9962 379.266 L37.3482 379.266 L37.3482 373.378 L42.8864 373.378 Q39.6399 371.532 38.0803 368.572 Q36.4888 365.612 36.4888 361.378 Q36.4888 360.774 36.5843 360.042 Q36.648 359.31 36.8071 358.418 L42.8227 358.387 Z\" fill=\"#000000\" fill-rule=\"evenodd\" fill-opacity=\"1\" /><path clip-path=\"url(#clip880)\" d=\"M 0 0 M37.3482 357.113 L25.4762 351.607 L25.4762 345.146 L37.3482 354.344 L37.3482 357.113 Z\" fill=\"#000000\" fill-rule=\"evenodd\" fill-opacity=\"1\" /><polyline clip-path=\"url(#clip882)\" style=\"stroke:#009af9; stroke-width:4; stroke-opacity:1; fill:none\" points=\"\n",
       "  1023.78,628.712 1836.63,628.712 \n",
       "  \"/>\n",
       "<polyline clip-path=\"url(#clip882)\" style=\"stroke:#000000; stroke-width:4; stroke-opacity:1; fill:none\" points=\"\n",
       "  -1391.54,628.712 3624.9,628.712 \n",
       "  \"/>\n",
       "<polyline clip-path=\"url(#clip882)\" style=\"stroke:#ff0000; stroke-width:4; stroke-opacity:1; fill:none\" stroke-dasharray=\"16, 10\" points=\"\n",
       "  1720.51,1307.09 1720.51,-582.68 \n",
       "  \"/>\n",
       "<circle clip-path=\"url(#clip882)\" cx=\"1720.51\" cy=\"628.712\" r=\"28\" fill=\"#ffffff\" fill-rule=\"evenodd\" fill-opacity=\"1\" stroke=\"#000000\" stroke-opacity=\"1\" stroke-width=\"1.6\"/>\n",
       "<path clip-path=\"url(#clip880)\" d=\"M 0 0 M1000.39 153.14 L1047.18 153.14 L1047.18 167.376 L1000.39 167.376 L1000.39 153.14 Z\" fill=\"#000000\" fill-rule=\"evenodd\" fill-opacity=\"1\" /><path clip-path=\"url(#clip880)\" d=\"M 0 0 M1813.24 153.14 L1860.03 153.14 L1860.03 167.376 L1813.24 167.376 L1813.24 153.14 Z\" fill=\"#000000\" fill-rule=\"evenodd\" fill-opacity=\"1\" /></svg>\n"
      ]
     },
     "execution_count": 68,
     "metadata": {},
     "output_type": "execute_result"
    }
   ],
   "source": [
    "r′(x) = diff(r(x))\n",
    "s′ = signchart(r′(x), [lf,rt], \"r′\")"
   ]
  },
  {
   "cell_type": "code",
   "execution_count": 69,
   "metadata": {},
   "outputs": [
    {
     "data": {
      "image/svg+xml": [
       "<?xml version=\"1.0\" encoding=\"utf-8\"?>\n",
       "<svg xmlns=\"http://www.w3.org/2000/svg\" xmlns:xlink=\"http://www.w3.org/1999/xlink\" width=\"500\" height=\"200\" viewBox=\"0 0 2000 800\">\n",
       "<defs>\n",
       "  <clipPath id=\"clip920\">\n",
       "    <rect x=\"0\" y=\"0\" width=\"2000\" height=\"800\"/>\n",
       "  </clipPath>\n",
       "</defs>\n",
       "<path clip-path=\"url(#clip920)\" d=\"\n",
       "M0 800 L2000 800 L2000 0 L0 0  Z\n",
       "  \" fill=\"#ffffff\" fill-rule=\"evenodd\" fill-opacity=\"1\"/>\n",
       "<defs>\n",
       "  <clipPath id=\"clip921\">\n",
       "    <rect x=\"400\" y=\"0\" width=\"1401\" height=\"800\"/>\n",
       "  </clipPath>\n",
       "</defs>\n",
       "<path clip-path=\"url(#clip920)\" d=\"\n",
       "M280.608 677.168 L1952.76 677.168 L1952.76 47.2441 L280.608 47.2441  Z\n",
       "  \" fill=\"#ffffff\" fill-rule=\"evenodd\" fill-opacity=\"1\"/>\n",
       "<defs>\n",
       "  <clipPath id=\"clip922\">\n",
       "    <rect x=\"280\" y=\"47\" width=\"1673\" height=\"631\"/>\n",
       "  </clipPath>\n",
       "</defs>\n",
       "<polyline clip-path=\"url(#clip922)\" style=\"stroke:#000000; stroke-width:2; stroke-opacity:0.1; fill:none\" points=\"\n",
       "  1720.51,677.168 1720.51,47.2441 \n",
       "  \"/>\n",
       "<polyline clip-path=\"url(#clip920)\" style=\"stroke:#000000; stroke-width:4; stroke-opacity:0; fill:none\" points=\"\n",
       "  1720.51,677.168 1720.51,669.609 \n",
       "  \"/>\n",
       "<path clip-path=\"url(#clip920)\" d=\"M 0 0 M1651.16 750.262 Q1659.55 752.056 1664.23 757.728 Q1668.98 763.399 1668.98 771.732 Q1668.98 784.522 1660.18 791.524 Q1651.39 798.526 1635.18 798.526 Q1629.74 798.526 1623.96 797.427 Q1618.23 796.385 1612.09 794.244 L1612.09 782.959 Q1616.95 785.795 1622.74 787.241 Q1628.53 788.688 1634.84 788.688 Q1645.83 788.688 1651.56 784.348 Q1657.35 780.008 1657.35 771.732 Q1657.35 764.093 1651.97 759.811 Q1646.64 755.471 1637.09 755.471 L1627.02 755.471 L1627.02 745.864 L1637.56 745.864 Q1646.18 745.864 1650.75 742.45 Q1655.32 738.978 1655.32 732.496 Q1655.32 725.841 1650.58 722.311 Q1645.89 718.723 1637.09 718.723 Q1632.29 718.723 1626.79 719.765 Q1621.29 720.807 1614.7 723.006 L1614.7 712.589 Q1621.35 710.737 1627.14 709.811 Q1632.98 708.885 1638.14 708.885 Q1651.45 708.885 1659.2 714.962 Q1666.95 720.98 1666.95 731.281 Q1666.95 738.457 1662.85 743.434 Q1658.74 748.353 1651.16 750.262 Z\" fill=\"#000000\" fill-rule=\"evenodd\" fill-opacity=\"1\" /><path clip-path=\"url(#clip920)\" d=\"M 0 0 M1681.65 782.149 L1693.86 782.149 L1693.86 796.848 L1681.65 796.848 L1681.65 782.149 Z\" fill=\"#000000\" fill-rule=\"evenodd\" fill-opacity=\"1\" /><path clip-path=\"url(#clip920)\" d=\"M 0 0 M1731.54 718.145 Q1722.51 718.145 1717.94 727.057 Q1713.42 735.911 1713.42 753.735 Q1713.42 771.501 1717.94 780.413 Q1722.51 789.267 1731.54 789.267 Q1740.62 789.267 1745.14 780.413 Q1749.71 771.501 1749.71 753.735 Q1749.71 735.911 1745.14 727.057 Q1740.62 718.145 1731.54 718.145 M1731.54 708.885 Q1746.06 708.885 1753.7 720.402 Q1761.4 731.86 1761.4 753.735 Q1761.4 775.552 1753.7 787.068 Q1746.06 798.526 1731.54 798.526 Q1717.01 798.526 1709.32 787.068 Q1701.68 775.552 1701.68 753.735 Q1701.68 731.86 1709.32 720.402 Q1717.01 708.885 1731.54 708.885 Z\" fill=\"#000000\" fill-rule=\"evenodd\" fill-opacity=\"1\" /><path clip-path=\"url(#clip920)\" d=\"M 0 0 M1799.07 718.145 Q1790.04 718.145 1785.47 727.057 Q1780.96 735.911 1780.96 753.735 Q1780.96 771.501 1785.47 780.413 Q1790.04 789.267 1799.07 789.267 Q1808.16 789.267 1812.67 780.413 Q1817.24 771.501 1817.24 753.735 Q1817.24 735.911 1812.67 727.057 Q1808.16 718.145 1799.07 718.145 M1799.07 708.885 Q1813.6 708.885 1821.24 720.402 Q1828.93 731.86 1828.93 753.735 Q1828.93 775.552 1821.24 787.068 Q1813.6 798.526 1799.07 798.526 Q1784.55 798.526 1776.85 787.068 Q1769.21 775.552 1769.21 753.735 Q1769.21 731.86 1776.85 720.402 Q1784.55 708.885 1799.07 708.885 Z\" fill=\"#000000\" fill-rule=\"evenodd\" fill-opacity=\"1\" /><polyline clip-path=\"url(#clip922)\" style=\"stroke:#000000; stroke-width:2; stroke-opacity:0.1; fill:none\" points=\"\n",
       "  280.608,628.712 1952.76,628.712 \n",
       "  \"/>\n",
       "<polyline clip-path=\"url(#clip922)\" style=\"stroke:#000000; stroke-width:2; stroke-opacity:0.1; fill:none\" points=\"\n",
       "  280.608,531.801 1952.76,531.801 \n",
       "  \"/>\n",
       "<polyline clip-path=\"url(#clip922)\" style=\"stroke:#000000; stroke-width:2; stroke-opacity:0.1; fill:none\" points=\"\n",
       "  280.608,434.889 1952.76,434.889 \n",
       "  \"/>\n",
       "<polyline clip-path=\"url(#clip922)\" style=\"stroke:#000000; stroke-width:2; stroke-opacity:0.1; fill:none\" points=\"\n",
       "  280.608,337.978 1952.76,337.978 \n",
       "  \"/>\n",
       "<polyline clip-path=\"url(#clip922)\" style=\"stroke:#000000; stroke-width:2; stroke-opacity:0.1; fill:none\" points=\"\n",
       "  280.608,241.067 1952.76,241.067 \n",
       "  \"/>\n",
       "<polyline clip-path=\"url(#clip922)\" style=\"stroke:#000000; stroke-width:2; stroke-opacity:0.1; fill:none\" points=\"\n",
       "  280.608,144.155 1952.76,144.155 \n",
       "  \"/>\n",
       "<path clip-path=\"url(#clip920)\" d=\"M 0 0 M128.328 593.209 Q119.301 593.209 114.729 602.121 Q110.215 610.975 110.215 628.799 Q110.215 646.565 114.729 655.477 Q119.301 664.331 128.328 664.331 Q137.414 664.331 141.928 655.477 Q146.5 646.565 146.5 628.799 Q146.5 610.975 141.928 602.121 Q137.414 593.209 128.328 593.209 M128.328 583.95 Q142.854 583.95 150.493 595.466 Q158.189 606.924 158.189 628.799 Q158.189 650.616 150.493 662.132 Q142.854 673.59 128.328 673.59 Q113.803 673.59 106.106 662.132 Q98.4674 650.616 98.4674 628.799 Q98.4674 606.924 106.106 595.466 Q113.803 583.95 128.328 583.95 Z\" fill=\"#000000\" fill-rule=\"evenodd\" fill-opacity=\"1\" /><path clip-path=\"url(#clip920)\" d=\"M 0 0 M170.863 657.213 L183.073 657.213 L183.073 671.912 L170.863 671.912 L170.863 657.213 Z\" fill=\"#000000\" fill-rule=\"evenodd\" fill-opacity=\"1\" /><path clip-path=\"url(#clip920)\" d=\"M 0 0 M220.747 593.209 Q211.719 593.209 207.147 602.121 Q202.634 610.975 202.634 628.799 Q202.634 646.565 207.147 655.477 Q211.719 664.331 220.747 664.331 Q229.832 664.331 234.346 655.477 Q238.918 646.565 238.918 628.799 Q238.918 610.975 234.346 602.121 Q229.832 593.209 220.747 593.209 M220.747 583.95 Q235.272 583.95 242.911 595.466 Q250.608 606.924 250.608 628.799 Q250.608 650.616 242.911 662.132 Q235.272 673.59 220.747 673.59 Q206.221 673.59 198.525 662.132 Q190.886 650.616 190.886 628.799 Q190.886 606.924 198.525 595.466 Q206.221 583.95 220.747 583.95 Z\" fill=\"#000000\" fill-rule=\"evenodd\" fill-opacity=\"1\" /><path clip-path=\"url(#clip920)\" d=\"M 0 0 M131.395 496.298 Q122.368 496.298 117.796 505.21 Q113.282 514.064 113.282 531.888 Q113.282 549.654 117.796 558.566 Q122.368 567.42 131.395 567.42 Q140.481 567.42 144.995 558.566 Q149.567 549.654 149.567 531.888 Q149.567 514.064 144.995 505.21 Q140.481 496.298 131.395 496.298 M131.395 487.038 Q145.921 487.038 153.56 498.554 Q161.256 510.013 161.256 531.888 Q161.256 553.705 153.56 565.221 Q145.921 576.679 131.395 576.679 Q116.87 576.679 109.173 565.221 Q101.535 553.705 101.535 531.888 Q101.535 510.013 109.173 498.554 Q116.87 487.038 131.395 487.038 Z\" fill=\"#000000\" fill-rule=\"evenodd\" fill-opacity=\"1\" /><path clip-path=\"url(#clip920)\" d=\"M 0 0 M173.93 560.302 L186.141 560.302 L186.141 575.001 L173.93 575.001 L173.93 560.302 Z\" fill=\"#000000\" fill-rule=\"evenodd\" fill-opacity=\"1\" /><path clip-path=\"url(#clip920)\" d=\"M 0 0 M200.84 565.163 L219.937 565.163 L219.937 499.249 L199.161 503.416 L199.161 492.767 L219.821 488.601 L231.511 488.601 L231.511 565.163 L250.608 565.163 L250.608 575.001 L200.84 575.001 L200.84 565.163 Z\" fill=\"#000000\" fill-rule=\"evenodd\" fill-opacity=\"1\" /><path clip-path=\"url(#clip920)\" d=\"M 0 0 M132.321 399.386 Q123.294 399.386 118.722 408.298 Q114.208 417.152 114.208 434.976 Q114.208 452.742 118.722 461.654 Q123.294 470.509 132.321 470.509 Q141.407 470.509 145.921 461.654 Q150.493 452.742 150.493 434.976 Q150.493 417.152 145.921 408.298 Q141.407 399.386 132.321 399.386 M132.321 390.127 Q146.847 390.127 154.486 401.643 Q162.182 413.101 162.182 434.976 Q162.182 456.793 154.486 468.309 Q146.847 479.768 132.321 479.768 Q117.796 479.768 110.099 468.309 Q102.46 456.793 102.46 434.976 Q102.46 413.101 110.099 401.643 Q117.796 390.127 132.321 390.127 Z\" fill=\"#000000\" fill-rule=\"evenodd\" fill-opacity=\"1\" /><path clip-path=\"url(#clip920)\" d=\"M 0 0 M174.856 463.391 L187.066 463.391 L187.066 478.089 L174.856 478.089 L174.856 463.391 Z\" fill=\"#000000\" fill-rule=\"evenodd\" fill-opacity=\"1\" /><path clip-path=\"url(#clip920)\" d=\"M 0 0 M209.809 468.252 L250.608 468.252 L250.608 478.089 L195.747 478.089 L195.747 468.252 Q202.402 461.365 213.86 449.791 Q225.376 438.159 228.328 434.803 Q233.941 428.495 236.14 424.155 Q238.397 419.756 238.397 415.532 Q238.397 408.645 233.536 404.305 Q228.733 399.965 220.978 399.965 Q215.481 399.965 209.346 401.875 Q203.27 403.784 196.326 407.662 L196.326 395.856 Q203.386 393.021 209.52 391.574 Q215.654 390.127 220.747 390.127 Q234.173 390.127 242.159 396.84 Q250.145 403.553 250.145 414.78 Q250.145 420.104 248.119 424.907 Q246.152 429.652 240.886 436.134 Q239.439 437.812 231.684 445.856 Q223.93 453.842 209.809 468.252 Z\" fill=\"#000000\" fill-rule=\"evenodd\" fill-opacity=\"1\" /><path clip-path=\"url(#clip920)\" d=\"M 0 0 M129.949 302.475 Q120.921 302.475 116.349 311.387 Q111.835 320.241 111.835 338.065 Q111.835 355.831 116.349 364.743 Q120.921 373.597 129.949 373.597 Q139.034 373.597 143.548 364.743 Q148.12 355.831 148.12 338.065 Q148.12 320.241 143.548 311.387 Q139.034 302.475 129.949 302.475 M129.949 293.216 Q144.474 293.216 152.113 304.732 Q159.81 316.19 159.81 338.065 Q159.81 359.882 152.113 371.398 Q144.474 382.856 129.949 382.856 Q115.423 382.856 107.727 371.398 Q100.088 359.882 100.088 338.065 Q100.088 316.19 107.727 304.732 Q115.423 293.216 129.949 293.216 Z\" fill=\"#000000\" fill-rule=\"evenodd\" fill-opacity=\"1\" /><path clip-path=\"url(#clip920)\" d=\"M 0 0 M172.483 366.479 L184.694 366.479 L184.694 381.178 L172.483 381.178 L172.483 366.479 Z\" fill=\"#000000\" fill-rule=\"evenodd\" fill-opacity=\"1\" /><path clip-path=\"url(#clip920)\" d=\"M 0 0 M232.784 334.593 Q241.175 336.387 245.862 342.058 Q250.608 347.729 250.608 356.063 Q250.608 368.852 241.812 375.854 Q233.015 382.856 216.812 382.856 Q211.372 382.856 205.585 381.757 Q199.856 380.715 193.722 378.574 L193.722 367.289 Q198.583 370.125 204.37 371.572 Q210.157 373.018 216.464 373.018 Q227.46 373.018 233.189 368.678 Q238.976 364.338 238.976 356.063 Q238.976 348.424 233.594 344.141 Q228.27 339.801 218.721 339.801 L208.652 339.801 L208.652 330.195 L219.184 330.195 Q227.807 330.195 232.379 326.78 Q236.95 323.308 236.95 316.827 Q236.95 310.172 232.205 306.642 Q227.518 303.054 218.721 303.054 Q213.918 303.054 208.421 304.095 Q202.923 305.137 196.326 307.336 L196.326 296.919 Q202.981 295.067 208.768 294.142 Q214.613 293.216 219.763 293.216 Q233.073 293.216 240.828 299.292 Q248.582 305.31 248.582 315.611 Q248.582 322.787 244.474 327.764 Q240.365 332.683 232.784 334.593 Z\" fill=\"#000000\" fill-rule=\"evenodd\" fill-opacity=\"1\" /><path clip-path=\"url(#clip920)\" d=\"M 0 0 M127.113 205.564 Q118.085 205.564 113.514 214.476 Q109 223.33 109 241.154 Q109 258.92 113.514 267.832 Q118.085 276.686 127.113 276.686 Q136.199 276.686 140.713 267.832 Q145.284 258.92 145.284 241.154 Q145.284 223.33 140.713 214.476 Q136.199 205.564 127.113 205.564 M127.113 196.304 Q141.638 196.304 149.277 207.82 Q156.974 219.279 156.974 241.154 Q156.974 262.971 149.277 274.487 Q141.638 285.945 127.113 285.945 Q112.588 285.945 104.891 274.487 Q97.2522 262.971 97.2522 241.154 Q97.2522 219.279 104.891 207.82 Q112.588 196.304 127.113 196.304 Z\" fill=\"#000000\" fill-rule=\"evenodd\" fill-opacity=\"1\" /><path clip-path=\"url(#clip920)\" d=\"M 0 0 M169.648 269.568 L181.858 269.568 L181.858 284.267 L169.648 284.267 L169.648 269.568 Z\" fill=\"#000000\" fill-rule=\"evenodd\" fill-opacity=\"1\" /><path clip-path=\"url(#clip920)\" d=\"M 0 0 M226.65 208.052 L197.136 254.174 L226.65 254.174 L226.65 208.052 M223.582 197.867 L238.281 197.867 L238.281 254.174 L250.608 254.174 L250.608 263.897 L238.281 263.897 L238.281 284.267 L226.65 284.267 L226.65 263.897 L187.645 263.897 L187.645 252.612 L223.582 197.867 Z\" fill=\"#000000\" fill-rule=\"evenodd\" fill-opacity=\"1\" /><path clip-path=\"url(#clip920)\" d=\"M 0 0 M130.817 108.652 Q121.789 108.652 117.217 117.564 Q112.703 126.418 112.703 144.242 Q112.703 162.008 117.217 170.92 Q121.789 179.774 130.817 179.774 Q139.902 179.774 144.416 170.92 Q148.988 162.008 148.988 144.242 Q148.988 126.418 144.416 117.564 Q139.902 108.652 130.817 108.652 M130.817 99.393 Q145.342 99.393 152.981 110.909 Q160.678 122.367 160.678 144.242 Q160.678 166.059 152.981 177.575 Q145.342 189.034 130.817 189.034 Q116.291 189.034 108.595 177.575 Q100.956 166.059 100.956 144.242 Q100.956 122.367 108.595 110.909 Q116.291 99.393 130.817 99.393 Z\" fill=\"#000000\" fill-rule=\"evenodd\" fill-opacity=\"1\" /><path clip-path=\"url(#clip920)\" d=\"M 0 0 M173.351 172.656 L185.562 172.656 L185.562 187.355 L173.351 187.355 L173.351 172.656 Z\" fill=\"#000000\" fill-rule=\"evenodd\" fill-opacity=\"1\" /><path clip-path=\"url(#clip920)\" d=\"M 0 0 M198.351 100.955 L244.242 100.955 L244.242 110.793 L209.057 110.793 L209.057 131.974 Q211.603 131.106 214.15 130.701 Q216.696 130.238 219.242 130.238 Q233.71 130.238 242.159 138.166 Q250.608 146.094 250.608 159.636 Q250.608 173.582 241.927 181.337 Q233.247 189.034 217.448 189.034 Q212.008 189.034 206.337 188.108 Q200.724 187.182 194.705 185.33 L194.705 173.582 Q199.914 176.418 205.469 177.807 Q211.025 179.196 217.217 179.196 Q227.228 179.196 233.073 173.93 Q238.918 168.663 238.918 159.636 Q238.918 150.608 233.073 145.342 Q227.228 140.076 217.217 140.076 Q212.529 140.076 207.842 141.117 Q203.212 142.159 198.351 144.358 L198.351 100.955 Z\" fill=\"#000000\" fill-rule=\"evenodd\" fill-opacity=\"1\" /><path clip-path=\"url(#clip920)\" d=\"M 0 0 M42.8227 365.007 Q42.2498 365.994 41.9952 367.171 Q41.7087 368.317 41.7087 369.718 Q41.7087 374.683 44.9552 377.356 Q48.1699 379.998 54.2173 379.998 L72.9962 379.998 L72.9962 385.886 L37.3482 385.886 L37.3482 379.998 L42.8864 379.998 Q39.6399 378.152 38.0803 375.192 Q36.4888 372.232 36.4888 367.999 Q36.4888 367.394 36.5843 366.662 Q36.648 365.93 36.8071 365.039 L42.8227 365.007 Z\" fill=\"#000000\" fill-rule=\"evenodd\" fill-opacity=\"1\" /><path clip-path=\"url(#clip920)\" d=\"M 0 0 M37.3482 363.734 L25.4762 358.227 L25.4762 351.766 L37.3482 360.965 L37.3482 363.734 Z\" fill=\"#000000\" fill-rule=\"evenodd\" fill-opacity=\"1\" /><path clip-path=\"url(#clip920)\" d=\"M 0 0 M37.3482 350.493 L25.4762 344.987 L25.4762 338.526 L37.3482 347.724 L37.3482 350.493 Z\" fill=\"#000000\" fill-rule=\"evenodd\" fill-opacity=\"1\" /><polyline clip-path=\"url(#clip922)\" style=\"stroke:#009af9; stroke-width:4; stroke-opacity:1; fill:none\" points=\"\n",
       "  1023.78,628.712 1836.63,628.712 \n",
       "  \"/>\n",
       "<polyline clip-path=\"url(#clip922)\" style=\"stroke:#000000; stroke-width:4; stroke-opacity:1; fill:none\" points=\"\n",
       "  -1391.54,628.712 3624.9,628.712 \n",
       "  \"/>\n",
       "<polyline clip-path=\"url(#clip922)\" style=\"stroke:#ff0000; stroke-width:4; stroke-opacity:1; fill:none\" stroke-dasharray=\"16, 10\" points=\"\n",
       "  1720.51,1307.09 1720.51,-582.68 \n",
       "  \"/>\n",
       "<circle clip-path=\"url(#clip922)\" cx=\"1720.51\" cy=\"628.712\" r=\"28\" fill=\"#ffffff\" fill-rule=\"evenodd\" fill-opacity=\"1\" stroke=\"#000000\" stroke-opacity=\"1\" stroke-width=\"1.6\"/>\n",
       "<path clip-path=\"url(#clip920)\" d=\"M 0 0 M1000.39 153.14 L1047.18 153.14 L1047.18 167.376 L1000.39 167.376 L1000.39 153.14 Z\" fill=\"#000000\" fill-rule=\"evenodd\" fill-opacity=\"1\" /><path clip-path=\"url(#clip920)\" d=\"M 0 0 M1843.93 97.4977 L1843.93 145.848 L1892.28 145.848 L1892.28 160.605 L1843.93 160.605 L1843.93 208.955 L1829.34 208.955 L1829.34 160.605 L1780.99 160.605 L1780.99 145.848 L1829.34 145.848 L1829.34 97.4977 L1843.93 97.4977 Z\" fill=\"#000000\" fill-rule=\"evenodd\" fill-opacity=\"1\" /></svg>\n"
      ]
     },
     "execution_count": 69,
     "metadata": {},
     "output_type": "execute_result"
    }
   ],
   "source": [
    "r′′(x) = diff(r′(x))\n",
    "s′′ = signchart(r′′(x), [lf,rt], \"r′′\")"
   ]
  },
  {
   "cell_type": "markdown",
   "metadata": {},
   "source": [
    "<a id='functionplot_cell'></a>\n",
    "We can also graph our function using the `functionplot` command:"
   ]
  },
  {
   "cell_type": "code",
   "execution_count": 70,
   "metadata": {},
   "outputs": [
    {
     "data": {
      "image/svg+xml": [
       "<?xml version=\"1.0\" encoding=\"utf-8\"?>\n",
       "<svg xmlns=\"http://www.w3.org/2000/svg\" xmlns:xlink=\"http://www.w3.org/1999/xlink\" width=\"600\" height=\"400\" viewBox=\"0 0 2400 1600\">\n",
       "<defs>\n",
       "  <clipPath id=\"clip960\">\n",
       "    <rect x=\"0\" y=\"0\" width=\"2400\" height=\"1600\"/>\n",
       "  </clipPath>\n",
       "</defs>\n",
       "<path clip-path=\"url(#clip960)\" d=\"\n",
       "M0 1600 L2400 1600 L2400 0 L0 0  Z\n",
       "  \" fill=\"#ffffff\" fill-rule=\"evenodd\" fill-opacity=\"1\"/>\n",
       "<defs>\n",
       "  <clipPath id=\"clip961\">\n",
       "    <rect x=\"480\" y=\"0\" width=\"1681\" height=\"1600\"/>\n",
       "  </clipPath>\n",
       "</defs>\n",
       "<path clip-path=\"url(#clip960)\" d=\"\n",
       "M234.45 1486.45 L2352.76 1486.45 L2352.76 47.2441 L234.45 47.2441  Z\n",
       "  \" fill=\"#ffffff\" fill-rule=\"evenodd\" fill-opacity=\"1\"/>\n",
       "<defs>\n",
       "  <clipPath id=\"clip962\">\n",
       "    <rect x=\"234\" y=\"47\" width=\"2119\" height=\"1440\"/>\n",
       "  </clipPath>\n",
       "</defs>\n",
       "<polyline clip-path=\"url(#clip962)\" style=\"stroke:#000000; stroke-width:2; stroke-opacity:0.1; fill:none\" points=\"\n",
       "  294.402,1486.45 294.402,47.2441 \n",
       "  \"/>\n",
       "<polyline clip-path=\"url(#clip962)\" style=\"stroke:#000000; stroke-width:2; stroke-opacity:0.1; fill:none\" points=\"\n",
       "  579.888,1486.45 579.888,47.2441 \n",
       "  \"/>\n",
       "<polyline clip-path=\"url(#clip962)\" style=\"stroke:#000000; stroke-width:2; stroke-opacity:0.1; fill:none\" points=\"\n",
       "  865.374,1486.45 865.374,47.2441 \n",
       "  \"/>\n",
       "<polyline clip-path=\"url(#clip962)\" style=\"stroke:#000000; stroke-width:2; stroke-opacity:0.1; fill:none\" points=\"\n",
       "  1436.35,1486.45 1436.35,47.2441 \n",
       "  \"/>\n",
       "<polyline clip-path=\"url(#clip962)\" style=\"stroke:#000000; stroke-width:2; stroke-opacity:0.1; fill:none\" points=\"\n",
       "  1721.83,1486.45 1721.83,47.2441 \n",
       "  \"/>\n",
       "<polyline clip-path=\"url(#clip962)\" style=\"stroke:#000000; stroke-width:2; stroke-opacity:0.1; fill:none\" points=\"\n",
       "  2007.32,1486.45 2007.32,47.2441 \n",
       "  \"/>\n",
       "<polyline clip-path=\"url(#clip962)\" style=\"stroke:#000000; stroke-width:2; stroke-opacity:0.1; fill:none\" points=\"\n",
       "  2292.8,1486.45 2292.8,47.2441 \n",
       "  \"/>\n",
       "<polyline clip-path=\"url(#clip960)\" style=\"stroke:#000000; stroke-width:4; stroke-opacity:1; fill:none\" points=\"\n",
       "  234.45,783.818 2352.76,783.818 \n",
       "  \"/>\n",
       "<polyline clip-path=\"url(#clip960)\" style=\"stroke:#000000; stroke-width:4; stroke-opacity:1; fill:none\" points=\"\n",
       "  294.402,801.088 294.402,766.547 \n",
       "  \"/>\n",
       "<polyline clip-path=\"url(#clip960)\" style=\"stroke:#000000; stroke-width:4; stroke-opacity:1; fill:none\" points=\"\n",
       "  579.888,801.088 579.888,766.547 \n",
       "  \"/>\n",
       "<polyline clip-path=\"url(#clip960)\" style=\"stroke:#000000; stroke-width:4; stroke-opacity:1; fill:none\" points=\"\n",
       "  865.374,801.088 865.374,766.547 \n",
       "  \"/>\n",
       "<polyline clip-path=\"url(#clip960)\" style=\"stroke:#000000; stroke-width:4; stroke-opacity:1; fill:none\" points=\"\n",
       "  1436.35,801.088 1436.35,766.547 \n",
       "  \"/>\n",
       "<polyline clip-path=\"url(#clip960)\" style=\"stroke:#000000; stroke-width:4; stroke-opacity:1; fill:none\" points=\"\n",
       "  1721.83,801.088 1721.83,766.547 \n",
       "  \"/>\n",
       "<polyline clip-path=\"url(#clip960)\" style=\"stroke:#000000; stroke-width:4; stroke-opacity:1; fill:none\" points=\"\n",
       "  2007.32,801.088 2007.32,766.547 \n",
       "  \"/>\n",
       "<polyline clip-path=\"url(#clip960)\" style=\"stroke:#000000; stroke-width:4; stroke-opacity:1; fill:none\" points=\"\n",
       "  2292.8,801.088 2292.8,766.547 \n",
       "  \"/>\n",
       "<path clip-path=\"url(#clip960)\" d=\"M 0 0 M266.381 827.661 L296.057 827.661 L296.057 831.596 L266.381 831.596 L266.381 827.661 Z\" fill=\"#000000\" fill-rule=\"evenodd\" fill-opacity=\"1\" /><path clip-path=\"url(#clip960)\" d=\"M 0 0 M315.293 825.856 Q318.649 826.573 320.524 828.842 Q322.422 831.11 322.422 834.443 Q322.422 839.559 318.904 842.36 Q315.385 845.161 308.904 845.161 Q306.728 845.161 304.413 844.721 Q302.121 844.305 299.668 843.448 L299.668 838.934 Q301.612 840.068 303.927 840.647 Q306.242 841.226 308.765 841.226 Q313.163 841.226 315.455 839.49 Q317.77 837.754 317.77 834.443 Q317.77 831.388 315.617 829.675 Q313.487 827.939 309.668 827.939 L305.64 827.939 L305.64 824.096 L309.853 824.096 Q313.302 824.096 315.131 822.731 Q316.959 821.342 316.959 818.749 Q316.959 816.087 315.061 814.675 Q313.186 813.24 309.668 813.24 Q307.746 813.24 305.547 813.657 Q303.348 814.073 300.709 814.953 L300.709 810.786 Q303.371 810.045 305.686 809.675 Q308.024 809.305 310.084 809.305 Q315.408 809.305 318.51 811.735 Q321.612 814.143 321.612 818.263 Q321.612 821.133 319.969 823.124 Q318.325 825.092 315.293 825.856 Z\" fill=\"#000000\" fill-rule=\"evenodd\" fill-opacity=\"1\" /><path clip-path=\"url(#clip960)\" d=\"M 0 0 M552.341 827.661 L582.017 827.661 L582.017 831.596 L552.341 831.596 L552.341 827.661 Z\" fill=\"#000000\" fill-rule=\"evenodd\" fill-opacity=\"1\" /><path clip-path=\"url(#clip960)\" d=\"M 0 0 M591.114 840.555 L607.434 840.555 L607.434 844.49 L585.489 844.49 L585.489 840.555 Q588.151 837.8 592.735 833.17 Q597.341 828.518 598.522 827.175 Q600.767 824.652 601.647 822.916 Q602.55 821.157 602.55 819.467 Q602.55 816.712 600.605 814.976 Q598.684 813.24 595.582 813.24 Q593.383 813.24 590.929 814.004 Q588.499 814.768 585.721 816.319 L585.721 811.596 Q588.545 810.462 590.999 809.883 Q593.452 809.305 595.489 809.305 Q600.86 809.305 604.054 811.99 Q607.249 814.675 607.249 819.166 Q607.249 821.295 606.438 823.217 Q605.651 825.115 603.545 827.707 Q602.966 828.379 599.864 831.596 Q596.763 834.791 591.114 840.555 Z\" fill=\"#000000\" fill-rule=\"evenodd\" fill-opacity=\"1\" /><path clip-path=\"url(#clip960)\" d=\"M 0 0 M837.642 827.661 L867.318 827.661 L867.318 831.596 L837.642 831.596 L837.642 827.661 Z\" fill=\"#000000\" fill-rule=\"evenodd\" fill-opacity=\"1\" /><path clip-path=\"url(#clip960)\" d=\"M 0 0 M873.198 840.555 L880.837 840.555 L880.837 814.189 L872.526 815.856 L872.526 811.596 L880.79 809.93 L885.466 809.93 L885.466 840.555 L893.105 840.555 L893.105 844.49 L873.198 844.49 L873.198 840.555 Z\" fill=\"#000000\" fill-rule=\"evenodd\" fill-opacity=\"1\" /><path clip-path=\"url(#clip960)\" d=\"M 0 0 M1426.73 840.555 L1434.37 840.555 L1434.37 814.189 L1426.06 815.856 L1426.06 811.596 L1434.32 809.93 L1439 809.93 L1439 840.555 L1446.64 840.555 L1446.64 844.49 L1426.73 844.49 L1426.73 840.555 Z\" fill=\"#000000\" fill-rule=\"evenodd\" fill-opacity=\"1\" /><path clip-path=\"url(#clip960)\" d=\"M 0 0 M1716.48 840.555 L1732.8 840.555 L1732.8 844.49 L1710.86 844.49 L1710.86 840.555 Q1713.52 837.8 1718.1 833.17 Q1722.71 828.518 1723.89 827.175 Q1726.14 824.652 1727.02 822.916 Q1727.92 821.157 1727.92 819.467 Q1727.92 816.712 1725.98 814.976 Q1724.05 813.24 1720.95 813.24 Q1718.75 813.24 1716.3 814.004 Q1713.87 814.768 1711.09 816.319 L1711.09 811.596 Q1713.92 810.462 1716.37 809.883 Q1718.82 809.305 1720.86 809.305 Q1726.23 809.305 1729.42 811.99 Q1732.62 814.675 1732.62 819.166 Q1732.62 821.295 1731.81 823.217 Q1731.02 825.115 1728.92 827.707 Q1728.34 828.379 1725.23 831.596 Q1722.13 834.791 1716.48 840.555 Z\" fill=\"#000000\" fill-rule=\"evenodd\" fill-opacity=\"1\" /><path clip-path=\"url(#clip960)\" d=\"M 0 0 M2011.57 825.856 Q2014.92 826.573 2016.8 828.842 Q2018.7 831.11 2018.7 834.443 Q2018.7 839.559 2015.18 842.36 Q2011.66 845.161 2005.18 845.161 Q2003 845.161 2000.69 844.721 Q1998.39 844.305 1995.94 843.448 L1995.94 838.934 Q1997.88 840.068 2000.2 840.647 Q2002.51 841.226 2005.04 841.226 Q2009.44 841.226 2011.73 839.49 Q2014.04 837.754 2014.04 834.443 Q2014.04 831.388 2011.89 829.675 Q2009.76 827.939 2005.94 827.939 L2001.91 827.939 L2001.91 824.096 L2006.13 824.096 Q2009.57 824.096 2011.4 822.731 Q2013.23 821.342 2013.23 818.749 Q2013.23 816.087 2011.33 814.675 Q2009.46 813.24 2005.94 813.24 Q2004.02 813.24 2001.82 813.657 Q1999.62 814.073 1996.98 814.953 L1996.98 810.786 Q1999.64 810.045 2001.96 809.675 Q2004.3 809.305 2006.36 809.305 Q2011.68 809.305 2014.78 811.735 Q2017.88 814.143 2017.88 818.263 Q2017.88 821.133 2016.24 823.124 Q2014.6 825.092 2011.57 825.856 Z\" fill=\"#000000\" fill-rule=\"evenodd\" fill-opacity=\"1\" /><path clip-path=\"url(#clip960)\" d=\"M 0 0 M2295.81 814.004 L2284.01 832.453 L2295.81 832.453 L2295.81 814.004 M2294.59 809.93 L2300.47 809.93 L2300.47 832.453 L2305.4 832.453 L2305.4 836.342 L2300.47 836.342 L2300.47 844.49 L2295.81 844.49 L2295.81 836.342 L2280.21 836.342 L2280.21 831.828 L2294.59 809.93 Z\" fill=\"#000000\" fill-rule=\"evenodd\" fill-opacity=\"1\" /><polyline clip-path=\"url(#clip962)\" style=\"stroke:#000000; stroke-width:2; stroke-opacity:0.1; fill:none\" points=\"\n",
       "  234.45,1462.69 2352.76,1462.69 \n",
       "  \"/>\n",
       "<polyline clip-path=\"url(#clip962)\" style=\"stroke:#000000; stroke-width:2; stroke-opacity:0.1; fill:none\" points=\"\n",
       "  234.45,1123.25 2352.76,1123.25 \n",
       "  \"/>\n",
       "<polyline clip-path=\"url(#clip962)\" style=\"stroke:#000000; stroke-width:2; stroke-opacity:0.1; fill:none\" points=\"\n",
       "  234.45,444.383 2352.76,444.383 \n",
       "  \"/>\n",
       "<polyline clip-path=\"url(#clip962)\" style=\"stroke:#000000; stroke-width:2; stroke-opacity:0.1; fill:none\" points=\"\n",
       "  234.45,104.948 2352.76,104.948 \n",
       "  \"/>\n",
       "<polyline clip-path=\"url(#clip960)\" style=\"stroke:#000000; stroke-width:4; stroke-opacity:1; fill:none\" points=\"\n",
       "  1150.86,1486.45 1150.86,47.2441 \n",
       "  \"/>\n",
       "<polyline clip-path=\"url(#clip960)\" style=\"stroke:#000000; stroke-width:4; stroke-opacity:1; fill:none\" points=\"\n",
       "  1125.44,1462.69 1176.28,1462.69 \n",
       "  \"/>\n",
       "<polyline clip-path=\"url(#clip960)\" style=\"stroke:#000000; stroke-width:4; stroke-opacity:1; fill:none\" points=\"\n",
       "  1125.44,1123.25 1176.28,1123.25 \n",
       "  \"/>\n",
       "<polyline clip-path=\"url(#clip960)\" style=\"stroke:#000000; stroke-width:4; stroke-opacity:1; fill:none\" points=\"\n",
       "  1125.44,444.383 1176.28,444.383 \n",
       "  \"/>\n",
       "<polyline clip-path=\"url(#clip960)\" style=\"stroke:#000000; stroke-width:4; stroke-opacity:1; fill:none\" points=\"\n",
       "  1125.44,104.948 1176.28,104.948 \n",
       "  \"/>\n",
       "<path clip-path=\"url(#clip960)\" d=\"M 0 0 M1030.67 1463.14 L1060.35 1463.14 L1060.35 1467.07 L1030.67 1467.07 L1030.67 1463.14 Z\" fill=\"#000000\" fill-rule=\"evenodd\" fill-opacity=\"1\" /><path clip-path=\"url(#clip960)\" d=\"M 0 0 M1078.26 1449.48 L1066.46 1467.93 L1078.26 1467.93 L1078.26 1449.48 M1077.04 1445.41 L1082.92 1445.41 L1082.92 1467.93 L1087.85 1467.93 L1087.85 1471.82 L1082.92 1471.82 L1082.92 1479.97 L1078.26 1479.97 L1078.26 1471.82 L1062.66 1471.82 L1062.66 1467.31 L1077.04 1445.41 Z\" fill=\"#000000\" fill-rule=\"evenodd\" fill-opacity=\"1\" /><path clip-path=\"url(#clip960)\" d=\"M 0 0 M1102.92 1448.49 Q1099.3 1448.49 1097.48 1452.05 Q1095.67 1455.59 1095.67 1462.72 Q1095.67 1469.83 1097.48 1473.39 Q1099.3 1476.94 1102.92 1476.94 Q1106.55 1476.94 1108.36 1473.39 Q1110.18 1469.83 1110.18 1462.72 Q1110.18 1455.59 1108.36 1452.05 Q1106.55 1448.49 1102.92 1448.49 M1102.92 1444.78 Q1108.73 1444.78 1111.78 1449.39 Q1114.86 1453.97 1114.86 1462.72 Q1114.86 1471.45 1111.78 1476.06 Q1108.73 1480.64 1102.92 1480.64 Q1097.11 1480.64 1094.03 1476.06 Q1090.97 1471.45 1090.97 1462.72 Q1090.97 1453.97 1094.03 1449.39 Q1097.11 1444.78 1102.92 1444.78 Z\" fill=\"#000000\" fill-rule=\"evenodd\" fill-opacity=\"1\" /><path clip-path=\"url(#clip960)\" d=\"M 0 0 M1032.75 1123.7 L1062.43 1123.7 L1062.43 1127.64 L1032.75 1127.64 L1032.75 1123.7 Z\" fill=\"#000000\" fill-rule=\"evenodd\" fill-opacity=\"1\" /><path clip-path=\"url(#clip960)\" d=\"M 0 0 M1071.53 1136.6 L1087.85 1136.6 L1087.85 1140.53 L1065.9 1140.53 L1065.9 1136.6 Q1068.56 1133.84 1073.15 1129.21 Q1077.75 1124.56 1078.93 1123.22 Q1081.18 1120.69 1082.06 1118.96 Q1082.96 1117.2 1082.96 1115.51 Q1082.96 1112.75 1081.02 1111.02 Q1079.1 1109.28 1075.99 1109.28 Q1073.8 1109.28 1071.34 1110.05 Q1068.91 1110.81 1066.13 1112.36 L1066.13 1107.64 Q1068.96 1106.5 1071.41 1105.93 Q1073.86 1105.35 1075.9 1105.35 Q1081.27 1105.35 1084.47 1108.03 Q1087.66 1110.72 1087.66 1115.21 Q1087.66 1117.34 1086.85 1119.26 Q1086.06 1121.16 1083.96 1123.75 Q1083.38 1124.42 1080.28 1127.64 Q1077.17 1130.83 1071.53 1136.6 Z\" fill=\"#000000\" fill-rule=\"evenodd\" fill-opacity=\"1\" /><path clip-path=\"url(#clip960)\" d=\"M 0 0 M1102.92 1109.05 Q1099.3 1109.05 1097.48 1112.62 Q1095.67 1116.16 1095.67 1123.29 Q1095.67 1130.39 1097.48 1133.96 Q1099.3 1137.5 1102.92 1137.5 Q1106.55 1137.5 1108.36 1133.96 Q1110.18 1130.39 1110.18 1123.29 Q1110.18 1116.16 1108.36 1112.62 Q1106.55 1109.05 1102.92 1109.05 M1102.92 1105.35 Q1108.73 1105.35 1111.78 1109.95 Q1114.86 1114.54 1114.86 1123.29 Q1114.86 1132.01 1111.78 1136.62 Q1108.73 1141.2 1102.92 1141.2 Q1097.11 1141.2 1094.03 1136.62 Q1090.97 1132.01 1090.97 1123.29 Q1090.97 1114.54 1094.03 1109.95 Q1097.11 1105.35 1102.92 1105.35 Z\" fill=\"#000000\" fill-rule=\"evenodd\" fill-opacity=\"1\" /><path clip-path=\"url(#clip960)\" d=\"M 0 0 M1071.53 457.728 L1087.85 457.728 L1087.85 461.663 L1065.9 461.663 L1065.9 457.728 Q1068.56 454.973 1073.15 450.343 Q1077.75 445.691 1078.93 444.348 Q1081.18 441.825 1082.06 440.089 Q1082.96 438.33 1082.96 436.64 Q1082.96 433.885 1081.02 432.149 Q1079.1 430.413 1075.99 430.413 Q1073.8 430.413 1071.34 431.177 Q1068.91 431.941 1066.13 433.492 L1066.13 428.77 Q1068.96 427.635 1071.41 427.057 Q1073.86 426.478 1075.9 426.478 Q1081.27 426.478 1084.47 429.163 Q1087.66 431.848 1087.66 436.339 Q1087.66 438.469 1086.85 440.39 Q1086.06 442.288 1083.96 444.881 Q1083.38 445.552 1080.28 448.769 Q1077.17 451.964 1071.53 457.728 Z\" fill=\"#000000\" fill-rule=\"evenodd\" fill-opacity=\"1\" /><path clip-path=\"url(#clip960)\" d=\"M 0 0 M1102.92 430.182 Q1099.3 430.182 1097.48 433.746 Q1095.67 437.288 1095.67 444.418 Q1095.67 451.524 1097.48 455.089 Q1099.3 458.63 1102.92 458.63 Q1106.55 458.63 1108.36 455.089 Q1110.18 451.524 1110.18 444.418 Q1110.18 437.288 1108.36 433.746 Q1106.55 430.182 1102.92 430.182 M1102.92 426.478 Q1108.73 426.478 1111.78 431.084 Q1114.86 435.668 1114.86 444.418 Q1114.86 453.144 1111.78 457.751 Q1108.73 462.334 1102.92 462.334 Q1097.11 462.334 1094.03 457.751 Q1090.97 453.144 1090.97 444.418 Q1090.97 435.668 1094.03 431.084 Q1097.11 426.478 1102.92 426.478 Z\" fill=\"#000000\" fill-rule=\"evenodd\" fill-opacity=\"1\" /><path clip-path=\"url(#clip960)\" d=\"M 0 0 M1078.26 91.7421 L1066.46 110.191 L1078.26 110.191 L1078.26 91.7421 M1077.04 87.668 L1082.92 87.668 L1082.92 110.191 L1087.85 110.191 L1087.85 114.08 L1082.92 114.08 L1082.92 122.228 L1078.26 122.228 L1078.26 114.08 L1062.66 114.08 L1062.66 109.566 L1077.04 87.668 Z\" fill=\"#000000\" fill-rule=\"evenodd\" fill-opacity=\"1\" /><path clip-path=\"url(#clip960)\" d=\"M 0 0 M1102.92 90.7467 Q1099.3 90.7467 1097.48 94.3115 Q1095.67 97.8532 1095.67 104.983 Q1095.67 112.089 1097.48 115.654 Q1099.3 119.196 1102.92 119.196 Q1106.55 119.196 1108.36 115.654 Q1110.18 112.089 1110.18 104.983 Q1110.18 97.8532 1108.36 94.3115 Q1106.55 90.7467 1102.92 90.7467 M1102.92 87.043 Q1108.73 87.043 1111.78 91.6495 Q1114.86 96.2328 1114.86 104.983 Q1114.86 113.71 1111.78 118.316 Q1108.73 122.899 1102.92 122.899 Q1097.11 122.899 1094.03 118.316 Q1090.97 113.71 1090.97 104.983 Q1090.97 96.2328 1094.03 91.6495 Q1097.11 87.043 1102.92 87.043 Z\" fill=\"#000000\" fill-rule=\"evenodd\" fill-opacity=\"1\" /><path clip-path=\"url(#clip960)\" d=\"M 0 0 M57.8307 794.648 Q57.2578 795.635 57.0032 796.813 Q56.7167 797.958 56.7167 799.359 Q56.7167 804.324 59.9632 806.998 Q63.1779 809.639 69.2253 809.639 L88.0042 809.639 L88.0042 815.528 L52.3562 815.528 L52.3562 809.639 L57.8944 809.639 Q54.6479 807.793 53.0883 804.833 Q51.4968 801.873 51.4968 797.64 Q51.4968 797.035 51.5923 796.303 Q51.656 795.571 51.8151 794.68 L57.8307 794.648 Z\" fill=\"#000000\" fill-rule=\"evenodd\" fill-opacity=\"1\" /><path clip-path=\"url(#clip960)\" d=\"M 0 0 M38.5426 774.437 Q45.8632 778.702 53.0246 780.771 Q60.186 782.84 67.5384 782.84 Q74.8908 782.84 82.1159 780.771 Q89.3091 778.67 96.5979 774.437 L96.5979 779.53 Q89.1182 784.304 81.8931 786.691 Q74.668 789.046 67.5384 789.046 Q60.4406 789.046 53.2474 786.691 Q46.0542 784.336 38.5426 779.53 L38.5426 774.437 Z\" fill=\"#000000\" fill-rule=\"evenodd\" fill-opacity=\"1\" /><path clip-path=\"url(#clip960)\" d=\"M 0 0 M52.3562 738.662 L69.7028 751.552 L88.0042 737.993 L88.0042 744.9 L73.9996 755.276 L88.0042 765.652 L88.0042 772.559 L69.3526 758.714 L52.3562 771.382 L52.3562 764.475 L65.0558 755.022 L52.3562 745.569 L52.3562 738.662 Z\" fill=\"#000000\" fill-rule=\"evenodd\" fill-opacity=\"1\" /><path clip-path=\"url(#clip960)\" d=\"M 0 0 M38.5426 732.774 L38.5426 727.681 Q46.0542 722.907 53.2474 720.551 Q60.4406 718.164 67.5384 718.164 Q74.668 718.164 81.8931 720.551 Q89.1182 722.907 96.5979 727.681 L96.5979 732.774 Q89.3091 728.54 82.1159 726.471 Q74.8908 724.371 67.5384 724.371 Q60.186 724.371 53.0246 726.471 Q45.8632 728.54 38.5426 732.774 Z\" fill=\"#000000\" fill-rule=\"evenodd\" fill-opacity=\"1\" /><polyline clip-path=\"url(#clip962)\" style=\"stroke:#009af9; stroke-width:4; stroke-opacity:1; fill:none\" points=\"\n",
       "  294.402,778.16 322.95,778.352 351.499,778.551 380.047,778.756 408.596,778.969 437.145,779.189 465.693,779.418 494.242,779.655 522.79,779.901 551.339,780.157 \n",
       "  579.888,780.423 608.436,780.7 636.985,780.989 665.533,781.29 694.082,781.604 722.631,781.932 751.179,782.275 779.728,782.634 808.276,783.01 836.825,783.404 \n",
       "  865.374,783.818 893.922,784.253 922.471,784.711 951.019,785.194 979.568,785.703 1008.12,786.242 1036.67,786.813 1065.21,787.418 1093.76,788.061 1122.31,788.745 \n",
       "  1150.86,789.475 1179.41,790.255 1207.96,791.091 1236.51,791.989 1265.05,792.956 1293.6,794.001 1322.15,795.132 1350.7,796.362 1379.25,797.704 1407.8,799.173 \n",
       "  1436.35,800.789 1464.89,802.576 1493.44,804.561 1521.99,806.779 1550.54,809.275 1579.09,812.104 1607.64,815.337 1636.19,819.067 1664.73,823.418 1693.28,828.561 \n",
       "  1721.83,834.733 1750.38,842.276 1778.93,851.705 1807.48,863.827 1836.03,879.991 1864.57,902.62 1893.12,936.563 1921.67,993.136 1950.22,1106.28 1978.77,1445.72 \n",
       "  \n",
       "  \"/>\n",
       "<polyline clip-path=\"url(#clip962)\" style=\"stroke:#009af9; stroke-width:4; stroke-opacity:1; fill:none\" points=\"\n",
       "  2035.87,87.9763 2064.42,427.411 2092.96,540.556 2121.51,597.129 2150.06,631.072 2178.61,653.701 2207.16,669.865 2235.71,681.987 2264.26,691.416 2292.8,698.959 \n",
       "  \n",
       "  \"/>\n",
       "<polyline clip-path=\"url(#clip962)\" style=\"stroke:#e26f46; stroke-width:4; stroke-opacity:1; fill:none\" stroke-dasharray=\"16, 10\" points=\"\n",
       "  2007.32,2925.65 2007.32,-1391.96 \n",
       "  \"/>\n",
       "<polyline clip-path=\"url(#clip962)\" style=\"stroke:#3da44d; stroke-width:4; stroke-opacity:1; fill:none\" stroke-dasharray=\"16, 10\" points=\"\n",
       "  -1883.86,766.846 4471.06,766.846 \n",
       "  \"/>\n",
       "</svg>\n"
      ]
     },
     "execution_count": 70,
     "metadata": {},
     "output_type": "execute_result"
    }
   ],
   "source": [
    "p = functionplot(lf:.1:rt, r(x), lf:rt, \"r(x)\")"
   ]
  },
  {
   "cell_type": "code",
   "execution_count": 71,
   "metadata": {},
   "outputs": [
    {
     "data": {
      "image/svg+xml": [
       "<?xml version=\"1.0\" encoding=\"utf-8\"?>\n",
       "<svg xmlns=\"http://www.w3.org/2000/svg\" xmlns:xlink=\"http://www.w3.org/1999/xlink\" width=\"600\" height=\"400\" viewBox=\"0 0 2400 1600\">\n",
       "<defs>\n",
       "  <clipPath id=\"clip000\">\n",
       "    <rect x=\"0\" y=\"0\" width=\"2400\" height=\"1600\"/>\n",
       "  </clipPath>\n",
       "</defs>\n",
       "<path clip-path=\"url(#clip000)\" d=\"\n",
       "M0 1600 L2400 1600 L2400 0 L0 0  Z\n",
       "  \" fill=\"#ffffff\" fill-rule=\"evenodd\" fill-opacity=\"1\"/>\n",
       "<defs>\n",
       "  <clipPath id=\"clip001\">\n",
       "    <rect x=\"480\" y=\"0\" width=\"1681\" height=\"1600\"/>\n",
       "  </clipPath>\n",
       "</defs>\n",
       "<path clip-path=\"url(#clip000)\" d=\"\n",
       "M227.042 1486.45 L2352.76 1486.45 L2352.76 47.2441 L227.042 47.2441  Z\n",
       "  \" fill=\"#ffffff\" fill-rule=\"evenodd\" fill-opacity=\"1\"/>\n",
       "<defs>\n",
       "  <clipPath id=\"clip002\">\n",
       "    <rect x=\"227\" y=\"47\" width=\"2127\" height=\"1440\"/>\n",
       "  </clipPath>\n",
       "</defs>\n",
       "<polyline clip-path=\"url(#clip002)\" style=\"stroke:#000000; stroke-width:2; stroke-opacity:0.1; fill:none\" points=\"\n",
       "  510.025,1486.45 510.025,47.2441 \n",
       "  \"/>\n",
       "<polyline clip-path=\"url(#clip002)\" style=\"stroke:#000000; stroke-width:2; stroke-opacity:0.1; fill:none\" points=\"\n",
       "  732.846,1486.45 732.846,47.2441 \n",
       "  \"/>\n",
       "<polyline clip-path=\"url(#clip002)\" style=\"stroke:#000000; stroke-width:2; stroke-opacity:0.1; fill:none\" points=\"\n",
       "  955.667,1486.45 955.667,47.2441 \n",
       "  \"/>\n",
       "<polyline clip-path=\"url(#clip002)\" style=\"stroke:#000000; stroke-width:2; stroke-opacity:0.1; fill:none\" points=\"\n",
       "  1178.49,1486.45 1178.49,47.2441 \n",
       "  \"/>\n",
       "<polyline clip-path=\"url(#clip002)\" style=\"stroke:#000000; stroke-width:2; stroke-opacity:0.1; fill:none\" points=\"\n",
       "  1401.31,1486.45 1401.31,47.2441 \n",
       "  \"/>\n",
       "<polyline clip-path=\"url(#clip002)\" style=\"stroke:#000000; stroke-width:2; stroke-opacity:0.1; fill:none\" points=\"\n",
       "  1624.13,1486.45 1624.13,47.2441 \n",
       "  \"/>\n",
       "<polyline clip-path=\"url(#clip002)\" style=\"stroke:#000000; stroke-width:2; stroke-opacity:0.1; fill:none\" points=\"\n",
       "  1846.95,1486.45 1846.95,47.2441 \n",
       "  \"/>\n",
       "<polyline clip-path=\"url(#clip002)\" style=\"stroke:#000000; stroke-width:2; stroke-opacity:0.1; fill:none\" points=\"\n",
       "  2069.77,1486.45 2069.77,47.2441 \n",
       "  \"/>\n",
       "<polyline clip-path=\"url(#clip002)\" style=\"stroke:#000000; stroke-width:2; stroke-opacity:0.1; fill:none\" points=\"\n",
       "  2292.59,1486.45 2292.59,47.2441 \n",
       "  \"/>\n",
       "<polyline clip-path=\"url(#clip000)\" style=\"stroke:#000000; stroke-width:4; stroke-opacity:1; fill:none\" points=\"\n",
       "  227.042,1391.49 2352.76,1391.49 \n",
       "  \"/>\n",
       "<polyline clip-path=\"url(#clip000)\" style=\"stroke:#000000; stroke-width:4; stroke-opacity:1; fill:none\" points=\"\n",
       "  510.025,1408.76 510.025,1374.22 \n",
       "  \"/>\n",
       "<polyline clip-path=\"url(#clip000)\" style=\"stroke:#000000; stroke-width:4; stroke-opacity:1; fill:none\" points=\"\n",
       "  732.846,1408.76 732.846,1374.22 \n",
       "  \"/>\n",
       "<polyline clip-path=\"url(#clip000)\" style=\"stroke:#000000; stroke-width:4; stroke-opacity:1; fill:none\" points=\"\n",
       "  955.667,1408.76 955.667,1374.22 \n",
       "  \"/>\n",
       "<polyline clip-path=\"url(#clip000)\" style=\"stroke:#000000; stroke-width:4; stroke-opacity:1; fill:none\" points=\"\n",
       "  1178.49,1408.76 1178.49,1374.22 \n",
       "  \"/>\n",
       "<polyline clip-path=\"url(#clip000)\" style=\"stroke:#000000; stroke-width:4; stroke-opacity:1; fill:none\" points=\"\n",
       "  1401.31,1408.76 1401.31,1374.22 \n",
       "  \"/>\n",
       "<polyline clip-path=\"url(#clip000)\" style=\"stroke:#000000; stroke-width:4; stroke-opacity:1; fill:none\" points=\"\n",
       "  1624.13,1408.76 1624.13,1374.22 \n",
       "  \"/>\n",
       "<polyline clip-path=\"url(#clip000)\" style=\"stroke:#000000; stroke-width:4; stroke-opacity:1; fill:none\" points=\"\n",
       "  1846.95,1408.76 1846.95,1374.22 \n",
       "  \"/>\n",
       "<polyline clip-path=\"url(#clip000)\" style=\"stroke:#000000; stroke-width:4; stroke-opacity:1; fill:none\" points=\"\n",
       "  2069.77,1408.76 2069.77,1374.22 \n",
       "  \"/>\n",
       "<polyline clip-path=\"url(#clip000)\" style=\"stroke:#000000; stroke-width:4; stroke-opacity:1; fill:none\" points=\"\n",
       "  2292.59,1408.76 2292.59,1374.22 \n",
       "  \"/>\n",
       "<path clip-path=\"url(#clip000)\" d=\"M 0 0 M500.407 1448.23 L508.046 1448.23 L508.046 1421.86 L499.736 1423.53 L499.736 1419.27 L508 1417.6 L512.675 1417.6 L512.675 1448.23 L520.314 1448.23 L520.314 1452.16 L500.407 1452.16 L500.407 1448.23 Z\" fill=\"#000000\" fill-rule=\"evenodd\" fill-opacity=\"1\" /><path clip-path=\"url(#clip000)\" d=\"M 0 0 M727.499 1448.23 L743.818 1448.23 L743.818 1452.16 L721.874 1452.16 L721.874 1448.23 Q724.536 1445.47 729.119 1440.84 Q733.726 1436.19 734.906 1434.85 Q737.152 1432.32 738.031 1430.59 Q738.934 1428.83 738.934 1427.14 Q738.934 1424.38 736.99 1422.65 Q735.068 1420.91 731.967 1420.91 Q729.767 1420.91 727.314 1421.68 Q724.883 1422.44 722.105 1423.99 L722.105 1419.27 Q724.93 1418.13 727.383 1417.56 Q729.837 1416.98 731.874 1416.98 Q737.244 1416.98 740.439 1419.66 Q743.633 1422.35 743.633 1426.84 Q743.633 1428.97 742.823 1430.89 Q742.036 1432.79 739.929 1435.38 Q739.351 1436.05 736.249 1439.27 Q733.147 1442.46 727.499 1448.23 Z\" fill=\"#000000\" fill-rule=\"evenodd\" fill-opacity=\"1\" /><path clip-path=\"url(#clip000)\" d=\"M 0 0 M959.915 1433.53 Q963.271 1434.24 965.146 1436.51 Q967.045 1438.78 967.045 1442.12 Q967.045 1447.23 963.526 1450.03 Q960.008 1452.83 953.526 1452.83 Q951.35 1452.83 949.035 1452.39 Q946.744 1451.98 944.29 1451.12 L944.29 1446.61 Q946.234 1447.74 948.549 1448.32 Q950.864 1448.9 953.387 1448.9 Q957.785 1448.9 960.077 1447.16 Q962.392 1445.43 962.392 1442.12 Q962.392 1439.06 960.239 1437.35 Q958.109 1435.61 954.29 1435.61 L950.262 1435.61 L950.262 1431.77 L954.475 1431.77 Q957.924 1431.77 959.753 1430.4 Q961.582 1429.01 961.582 1426.42 Q961.582 1423.76 959.683 1422.35 Q957.808 1420.91 954.29 1420.91 Q952.369 1420.91 950.17 1421.33 Q947.971 1421.75 945.332 1422.62 L945.332 1418.46 Q947.994 1417.72 950.309 1417.35 Q952.646 1416.98 954.707 1416.98 Q960.031 1416.98 963.133 1419.41 Q966.234 1421.81 966.234 1425.93 Q966.234 1428.81 964.591 1430.8 Q962.947 1432.76 959.915 1433.53 Z\" fill=\"#000000\" fill-rule=\"evenodd\" fill-opacity=\"1\" /><path clip-path=\"url(#clip000)\" d=\"M 0 0 M1181.5 1421.68 L1169.69 1440.12 L1181.5 1440.12 L1181.5 1421.68 M1180.27 1417.6 L1186.15 1417.6 L1186.15 1440.12 L1191.08 1440.12 L1191.08 1444.01 L1186.15 1444.01 L1186.15 1452.16 L1181.5 1452.16 L1181.5 1444.01 L1165.9 1444.01 L1165.9 1439.5 L1180.27 1417.6 Z\" fill=\"#000000\" fill-rule=\"evenodd\" fill-opacity=\"1\" /><path clip-path=\"url(#clip000)\" d=\"M 0 0 M1391.59 1417.6 L1409.94 1417.6 L1409.94 1421.54 L1395.87 1421.54 L1395.87 1430.01 Q1396.89 1429.66 1397.91 1429.5 Q1398.93 1429.31 1399.94 1429.31 Q1405.73 1429.31 1409.11 1432.49 Q1412.49 1435.66 1412.49 1441.07 Q1412.49 1446.65 1409.02 1449.75 Q1405.55 1452.83 1399.23 1452.83 Q1397.05 1452.83 1394.78 1452.46 Q1392.54 1452.09 1390.13 1451.35 L1390.13 1446.65 Q1392.21 1447.79 1394.43 1448.34 Q1396.66 1448.9 1399.13 1448.9 Q1403.14 1448.9 1405.48 1446.79 Q1407.81 1444.68 1407.81 1441.07 Q1407.81 1437.46 1405.48 1435.36 Q1403.14 1433.25 1399.13 1433.25 Q1397.26 1433.25 1395.38 1433.67 Q1393.53 1434.08 1391.59 1434.96 L1391.59 1417.6 Z\" fill=\"#000000\" fill-rule=\"evenodd\" fill-opacity=\"1\" /><path clip-path=\"url(#clip000)\" d=\"M 0 0 M1624.54 1433.02 Q1621.39 1433.02 1619.54 1435.17 Q1617.71 1437.32 1617.71 1441.07 Q1617.71 1444.8 1619.54 1446.98 Q1621.39 1449.13 1624.54 1449.13 Q1627.68 1449.13 1629.51 1446.98 Q1631.36 1444.8 1631.36 1441.07 Q1631.36 1437.32 1629.51 1435.17 Q1627.68 1433.02 1624.54 1433.02 M1633.82 1418.37 L1633.82 1422.62 Q1632.06 1421.79 1630.25 1421.35 Q1628.47 1420.91 1626.71 1420.91 Q1622.08 1420.91 1619.63 1424.04 Q1617.2 1427.16 1616.85 1433.48 Q1618.22 1431.47 1620.28 1430.4 Q1622.34 1429.31 1624.81 1429.31 Q1630.02 1429.31 1633.03 1432.49 Q1636.06 1435.63 1636.06 1441.07 Q1636.06 1446.4 1632.92 1449.62 Q1629.77 1452.83 1624.54 1452.83 Q1618.54 1452.83 1615.37 1448.25 Q1612.2 1443.64 1612.2 1434.92 Q1612.2 1426.72 1616.09 1421.86 Q1619.98 1416.98 1626.53 1416.98 Q1628.29 1416.98 1630.07 1417.32 Q1631.87 1417.67 1633.82 1418.37 Z\" fill=\"#000000\" fill-rule=\"evenodd\" fill-opacity=\"1\" /><path clip-path=\"url(#clip000)\" d=\"M 0 0 M1835.84 1417.6 L1858.06 1417.6 L1858.06 1419.59 L1845.52 1452.16 L1840.63 1452.16 L1852.44 1421.54 L1835.84 1421.54 L1835.84 1417.6 Z\" fill=\"#000000\" fill-rule=\"evenodd\" fill-opacity=\"1\" /><path clip-path=\"url(#clip000)\" d=\"M 0 0 M2069.77 1435.75 Q2066.44 1435.75 2064.52 1437.53 Q2062.62 1439.31 2062.62 1442.44 Q2062.62 1445.56 2064.52 1447.35 Q2066.44 1449.13 2069.77 1449.13 Q2073.11 1449.13 2075.03 1447.35 Q2076.95 1445.54 2076.95 1442.44 Q2076.95 1439.31 2075.03 1437.53 Q2073.13 1435.75 2069.77 1435.75 M2065.1 1433.76 Q2062.09 1433.02 2060.4 1430.96 Q2058.73 1428.9 2058.73 1425.93 Q2058.73 1421.79 2061.67 1419.38 Q2064.63 1416.98 2069.77 1416.98 Q2074.94 1416.98 2077.87 1419.38 Q2080.81 1421.79 2080.81 1425.93 Q2080.81 1428.9 2079.12 1430.96 Q2077.46 1433.02 2074.47 1433.76 Q2077.85 1434.55 2079.73 1436.84 Q2081.62 1439.13 2081.62 1442.44 Q2081.62 1447.46 2078.55 1450.15 Q2075.49 1452.83 2069.77 1452.83 Q2064.06 1452.83 2060.98 1450.15 Q2057.92 1447.46 2057.92 1442.44 Q2057.92 1439.13 2059.82 1436.84 Q2061.72 1434.55 2065.1 1433.76 M2063.38 1426.37 Q2063.38 1429.06 2065.05 1430.56 Q2066.74 1432.07 2069.77 1432.07 Q2072.78 1432.07 2074.47 1430.56 Q2076.19 1429.06 2076.19 1426.37 Q2076.19 1423.69 2074.47 1422.18 Q2072.78 1420.68 2069.77 1420.68 Q2066.74 1420.68 2065.05 1422.18 Q2063.38 1423.69 2063.38 1426.37 Z\" fill=\"#000000\" fill-rule=\"evenodd\" fill-opacity=\"1\" /><path clip-path=\"url(#clip000)\" d=\"M 0 0 M2282.9 1451.44 L2282.9 1447.18 Q2284.65 1448.02 2286.46 1448.46 Q2288.27 1448.9 2290 1448.9 Q2294.63 1448.9 2297.06 1445.8 Q2299.52 1442.67 2299.86 1436.33 Q2298.52 1438.32 2296.46 1439.38 Q2294.4 1440.45 2291.9 1440.45 Q2286.71 1440.45 2283.68 1437.32 Q2280.67 1434.18 2280.67 1428.74 Q2280.67 1423.41 2283.82 1420.19 Q2286.97 1416.98 2292.2 1416.98 Q2298.2 1416.98 2301.34 1421.58 Q2304.52 1426.17 2304.52 1434.92 Q2304.52 1443.09 2300.63 1447.97 Q2296.76 1452.83 2290.21 1452.83 Q2288.45 1452.83 2286.65 1452.49 Q2284.84 1452.14 2282.9 1451.44 M2292.2 1436.79 Q2295.35 1436.79 2297.18 1434.64 Q2299.03 1432.49 2299.03 1428.74 Q2299.03 1425.01 2297.18 1422.86 Q2295.35 1420.68 2292.2 1420.68 Q2289.05 1420.68 2287.2 1422.86 Q2285.37 1425.01 2285.37 1428.74 Q2285.37 1432.49 2287.2 1434.64 Q2289.05 1436.79 2292.2 1436.79 Z\" fill=\"#000000\" fill-rule=\"evenodd\" fill-opacity=\"1\" /><polyline clip-path=\"url(#clip002)\" style=\"stroke:#000000; stroke-width:2; stroke-opacity:0.1; fill:none\" points=\"\n",
       "  227.042,1052.03 2352.76,1052.03 \n",
       "  \"/>\n",
       "<polyline clip-path=\"url(#clip002)\" style=\"stroke:#000000; stroke-width:2; stroke-opacity:0.1; fill:none\" points=\"\n",
       "  227.042,712.576 2352.76,712.576 \n",
       "  \"/>\n",
       "<polyline clip-path=\"url(#clip002)\" style=\"stroke:#000000; stroke-width:2; stroke-opacity:0.1; fill:none\" points=\"\n",
       "  227.042,373.12 2352.76,373.12 \n",
       "  \"/>\n",
       "<polyline clip-path=\"url(#clip000)\" style=\"stroke:#000000; stroke-width:4; stroke-opacity:1; fill:none\" points=\"\n",
       "  287.204,1486.45 287.204,47.2441 \n",
       "  \"/>\n",
       "<polyline clip-path=\"url(#clip000)\" style=\"stroke:#000000; stroke-width:4; stroke-opacity:1; fill:none\" points=\"\n",
       "  261.695,1052.03 312.712,1052.03 \n",
       "  \"/>\n",
       "<polyline clip-path=\"url(#clip000)\" style=\"stroke:#000000; stroke-width:4; stroke-opacity:1; fill:none\" points=\"\n",
       "  261.695,712.576 312.712,712.576 \n",
       "  \"/>\n",
       "<polyline clip-path=\"url(#clip000)\" style=\"stroke:#000000; stroke-width:4; stroke-opacity:1; fill:none\" points=\"\n",
       "  261.695,373.12 312.712,373.12 \n",
       "  \"/>\n",
       "<path clip-path=\"url(#clip000)\" d=\"M 0 0 M177.269 1065.38 L184.908 1065.38 L184.908 1039.01 L176.598 1040.68 L176.598 1036.42 L184.862 1034.75 L189.538 1034.75 L189.538 1065.38 L197.176 1065.38 L197.176 1069.31 L177.269 1069.31 L177.269 1065.38 Z\" fill=\"#000000\" fill-rule=\"evenodd\" fill-opacity=\"1\" /><path clip-path=\"url(#clip000)\" d=\"M 0 0 M212.246 1037.83 Q208.635 1037.83 206.806 1041.4 Q205 1044.94 205 1052.07 Q205 1059.17 206.806 1062.74 Q208.635 1066.28 212.246 1066.28 Q215.88 1066.28 217.686 1062.74 Q219.514 1059.17 219.514 1052.07 Q219.514 1044.94 217.686 1041.4 Q215.88 1037.83 212.246 1037.83 M212.246 1034.13 Q218.056 1034.13 221.111 1038.73 Q224.19 1043.32 224.19 1052.07 Q224.19 1060.79 221.111 1065.4 Q218.056 1069.98 212.246 1069.98 Q206.436 1069.98 203.357 1065.4 Q200.301 1060.79 200.301 1052.07 Q200.301 1043.32 203.357 1038.73 Q206.436 1034.13 212.246 1034.13 Z\" fill=\"#000000\" fill-rule=\"evenodd\" fill-opacity=\"1\" /><path clip-path=\"url(#clip000)\" d=\"M 0 0 M239.259 1037.83 Q235.648 1037.83 233.82 1041.4 Q232.014 1044.94 232.014 1052.07 Q232.014 1059.17 233.82 1062.74 Q235.648 1066.28 239.259 1066.28 Q242.894 1066.28 244.699 1062.74 Q246.528 1059.17 246.528 1052.07 Q246.528 1044.94 244.699 1041.4 Q242.894 1037.83 239.259 1037.83 M239.259 1034.13 Q245.07 1034.13 248.125 1038.73 Q251.204 1043.32 251.204 1052.07 Q251.204 1060.79 248.125 1065.4 Q245.07 1069.98 239.259 1069.98 Q233.449 1069.98 230.371 1065.4 Q227.315 1060.79 227.315 1052.07 Q227.315 1043.32 230.371 1038.73 Q233.449 1034.13 239.259 1034.13 Z\" fill=\"#000000\" fill-rule=\"evenodd\" fill-opacity=\"1\" /><path clip-path=\"url(#clip000)\" d=\"M 0 0 M180.857 725.921 L197.176 725.921 L197.176 729.856 L175.232 729.856 L175.232 725.921 Q177.894 723.167 182.477 718.537 Q187.084 713.884 188.264 712.542 Q190.51 710.019 191.389 708.282 Q192.292 706.523 192.292 704.833 Q192.292 702.079 190.348 700.343 Q188.426 698.607 185.325 698.607 Q183.126 698.607 180.672 699.37 Q178.241 700.134 175.464 701.685 L175.464 696.963 Q178.288 695.829 180.741 695.25 Q183.195 694.671 185.232 694.671 Q190.602 694.671 193.797 697.357 Q196.991 700.042 196.991 704.532 Q196.991 706.662 196.181 708.583 Q195.394 710.481 193.288 713.074 Q192.709 713.745 189.607 716.963 Q186.505 720.157 180.857 725.921 Z\" fill=\"#000000\" fill-rule=\"evenodd\" fill-opacity=\"1\" /><path clip-path=\"url(#clip000)\" d=\"M 0 0 M212.246 698.375 Q208.635 698.375 206.806 701.94 Q205 705.482 205 712.611 Q205 719.718 206.806 723.282 Q208.635 726.824 212.246 726.824 Q215.88 726.824 217.686 723.282 Q219.514 719.718 219.514 712.611 Q219.514 705.482 217.686 701.94 Q215.88 698.375 212.246 698.375 M212.246 694.671 Q218.056 694.671 221.111 699.278 Q224.19 703.861 224.19 712.611 Q224.19 721.338 221.111 725.944 Q218.056 730.528 212.246 730.528 Q206.436 730.528 203.357 725.944 Q200.301 721.338 200.301 712.611 Q200.301 703.861 203.357 699.278 Q206.436 694.671 212.246 694.671 Z\" fill=\"#000000\" fill-rule=\"evenodd\" fill-opacity=\"1\" /><path clip-path=\"url(#clip000)\" d=\"M 0 0 M239.259 698.375 Q235.648 698.375 233.82 701.94 Q232.014 705.482 232.014 712.611 Q232.014 719.718 233.82 723.282 Q235.648 726.824 239.259 726.824 Q242.894 726.824 244.699 723.282 Q246.528 719.718 246.528 712.611 Q246.528 705.482 244.699 701.94 Q242.894 698.375 239.259 698.375 M239.259 694.671 Q245.07 694.671 248.125 699.278 Q251.204 703.861 251.204 712.611 Q251.204 721.338 248.125 725.944 Q245.07 730.528 239.259 730.528 Q233.449 730.528 230.371 725.944 Q227.315 721.338 227.315 712.611 Q227.315 703.861 230.371 699.278 Q233.449 694.671 239.259 694.671 Z\" fill=\"#000000\" fill-rule=\"evenodd\" fill-opacity=\"1\" /><path clip-path=\"url(#clip000)\" d=\"M 0 0 M190.047 371.766 Q193.403 372.483 195.278 374.752 Q197.176 377.02 197.176 380.354 Q197.176 385.469 193.658 388.27 Q190.139 391.071 183.658 391.071 Q181.482 391.071 179.167 390.631 Q176.876 390.215 174.422 389.358 L174.422 384.844 Q176.366 385.979 178.681 386.557 Q180.996 387.136 183.519 387.136 Q187.917 387.136 190.209 385.4 Q192.524 383.664 192.524 380.354 Q192.524 377.298 190.371 375.585 Q188.241 373.849 184.422 373.849 L180.394 373.849 L180.394 370.006 L184.607 370.006 Q188.056 370.006 189.885 368.641 Q191.713 367.252 191.713 364.659 Q191.713 361.997 189.815 360.585 Q187.94 359.15 184.422 359.15 Q182.501 359.15 180.301 359.567 Q178.102 359.983 175.464 360.863 L175.464 356.696 Q178.126 355.956 180.44 355.585 Q182.778 355.215 184.838 355.215 Q190.163 355.215 193.264 357.645 Q196.366 360.053 196.366 364.173 Q196.366 367.043 194.723 369.034 Q193.079 371.002 190.047 371.766 Z\" fill=\"#000000\" fill-rule=\"evenodd\" fill-opacity=\"1\" /><path clip-path=\"url(#clip000)\" d=\"M 0 0 M212.246 358.918 Q208.635 358.918 206.806 362.483 Q205 366.025 205 373.155 Q205 380.261 206.806 383.826 Q208.635 387.367 212.246 387.367 Q215.88 387.367 217.686 383.826 Q219.514 380.261 219.514 373.155 Q219.514 366.025 217.686 362.483 Q215.88 358.918 212.246 358.918 M212.246 355.215 Q218.056 355.215 221.111 359.821 Q224.19 364.405 224.19 373.155 Q224.19 381.881 221.111 386.488 Q218.056 391.071 212.246 391.071 Q206.436 391.071 203.357 386.488 Q200.301 381.881 200.301 373.155 Q200.301 364.405 203.357 359.821 Q206.436 355.215 212.246 355.215 Z\" fill=\"#000000\" fill-rule=\"evenodd\" fill-opacity=\"1\" /><path clip-path=\"url(#clip000)\" d=\"M 0 0 M239.259 358.918 Q235.648 358.918 233.82 362.483 Q232.014 366.025 232.014 373.155 Q232.014 380.261 233.82 383.826 Q235.648 387.367 239.259 387.367 Q242.894 387.367 244.699 383.826 Q246.528 380.261 246.528 373.155 Q246.528 366.025 244.699 362.483 Q242.894 358.918 239.259 358.918 M239.259 355.215 Q245.07 355.215 248.125 359.821 Q251.204 364.405 251.204 373.155 Q251.204 381.881 248.125 386.488 Q245.07 391.071 239.259 391.071 Q233.449 391.071 230.371 386.488 Q227.315 381.881 227.315 373.155 Q227.315 364.405 230.371 359.821 Q233.449 355.215 239.259 355.215 Z\" fill=\"#000000\" fill-rule=\"evenodd\" fill-opacity=\"1\" /><path clip-path=\"url(#clip000)\" d=\"M 0 0 M70.212 814.971 Q76.6732 814.971 80.3653 812.329 Q84.0256 809.655 84.0256 805.008 Q84.0256 800.361 80.3653 797.688 Q76.6732 795.014 70.212 795.014 Q63.7508 795.014 60.0905 797.688 Q56.3984 800.361 56.3984 805.008 Q56.3984 809.655 60.0905 812.329 Q63.7508 814.971 70.212 814.971 M82.657 795.014 Q85.8398 796.86 87.3994 799.693 Q88.9272 802.494 88.9272 806.441 Q88.9272 812.902 83.771 816.976 Q78.6147 821.018 70.212 821.018 Q61.8093 821.018 56.6531 816.976 Q51.4968 812.902 51.4968 806.441 Q51.4968 802.494 53.0564 799.693 Q54.5842 796.86 57.7671 795.014 L52.3562 795.014 L52.3562 789.158 L101.563 789.158 L101.563 795.014 L82.657 795.014 Z\" fill=\"#000000\" fill-rule=\"evenodd\" fill-opacity=\"1\" /><path clip-path=\"url(#clip000)\" d=\"M 0 0 M38.5426 768.947 Q45.8632 773.212 53.0246 775.281 Q60.186 777.349 67.5384 777.349 Q74.8908 777.349 82.1159 775.281 Q89.3091 773.18 96.5979 768.947 L96.5979 774.039 Q89.1182 778.814 81.8931 781.201 Q74.668 783.556 67.5384 783.556 Q60.4406 783.556 53.2474 781.201 Q46.0542 778.845 38.5426 774.039 L38.5426 768.947 Z\" fill=\"#000000\" fill-rule=\"evenodd\" fill-opacity=\"1\" /><path clip-path=\"url(#clip000)\" d=\"M 0 0 M52.3562 733.171 L69.7028 746.062 L88.0042 732.503 L88.0042 739.41 L73.9996 749.786 L88.0042 760.162 L88.0042 767.069 L69.3526 753.223 L52.3562 765.891 L52.3562 758.984 L65.0558 749.531 L52.3562 740.078 L52.3562 733.171 Z\" fill=\"#000000\" fill-rule=\"evenodd\" fill-opacity=\"1\" /><path clip-path=\"url(#clip000)\" d=\"M 0 0 M38.5426 727.283 L38.5426 722.191 Q46.0542 717.416 53.2474 715.061 Q60.4406 712.674 67.5384 712.674 Q74.668 712.674 81.8931 715.061 Q89.1182 717.416 96.5979 722.191 L96.5979 727.283 Q89.3091 723.05 82.1159 720.981 Q74.8908 718.88 67.5384 718.88 Q60.186 718.88 53.0246 720.981 Q45.8632 723.05 38.5426 727.283 Z\" fill=\"#000000\" fill-rule=\"evenodd\" fill-opacity=\"1\" /><polyline clip-path=\"url(#clip002)\" style=\"stroke:#009af9; stroke-width:4; stroke-opacity:1; fill:none\" points=\"\n",
       "  287.204,1035.06 309.486,1091.94 331.768,1143.3 354.05,1189.46 376.332,1230.72 398.614,1267.38 420.897,1299.72 443.179,1328.04 465.461,1352.6 487.743,1373.66 \n",
       "  510.025,1391.49 532.307,1406.33 554.589,1418.42 576.871,1428 599.153,1435.29 621.436,1440.5 643.718,1443.84 666,1445.52 688.282,1445.72 710.564,1444.62 \n",
       "  732.846,1442.41 755.128,1439.24 777.41,1435.29 799.693,1430.69 821.975,1425.59 844.257,1420.13 866.539,1414.43 888.821,1408.61 911.103,1402.78 933.385,1397.04 \n",
       "  955.667,1391.49 977.949,1386.21 1000.23,1381.27 1022.51,1376.76 1044.8,1372.72 1067.08,1369.21 1089.36,1366.28 1111.64,1363.97 1133.92,1362.29 1156.21,1361.28 \n",
       "  1178.49,1360.94 1200.77,1361.28 1223.05,1362.29 1245.33,1363.97 1267.62,1366.28 1289.9,1369.21 1312.18,1372.72 1334.46,1376.76 1356.75,1381.27 1379.03,1386.21 \n",
       "  1401.31,1391.49 1423.59,1397.04 1445.87,1402.78 1468.16,1408.61 1490.44,1414.43 1512.72,1420.13 1535,1425.59 1557.28,1430.69 1579.57,1435.29 1601.85,1439.24 \n",
       "  1624.13,1442.41 1646.41,1444.62 1668.69,1445.72 1690.98,1445.52 1713.26,1443.84 1735.54,1440.5 1757.82,1435.29 1780.11,1428 1802.39,1418.42 1824.67,1406.33 \n",
       "  1846.95,1391.49 1869.23,1373.66 1891.52,1352.6 1913.8,1328.04 1936.08,1299.72 1958.36,1267.38 1980.64,1230.72 2002.93,1189.46 2025.21,1143.3 2047.49,1091.94 \n",
       "  2069.77,1035.06 2092.06,972.342 2114.34,903.454 2136.62,828.059 2158.9,745.811 2181.18,656.354 2203.47,559.327 2225.75,454.358 2248.03,341.07 2270.31,219.074 \n",
       "  2292.59,87.9763 \n",
       "  \"/>\n",
       "</svg>\n"
      ]
     },
     "execution_count": 71,
     "metadata": {},
     "output_type": "execute_result"
    }
   ],
   "source": [
    "q(x) = (x - 1)*(x - 3)*(x - 5)*(x - 7)\n",
    "p = functionplot(0:.1:9, q(x), 1:9, \"q(x)\")"
   ]
  },
  {
   "cell_type": "markdown",
   "metadata": {},
   "source": [
    "<a id='plot_function_sign_chart_cell'></a>\n",
    "We can plot the function and its three associated signcharts with the `plot_function_sign_chart` command:"
   ]
  },
  {
   "cell_type": "code",
   "execution_count": 72,
   "metadata": {},
   "outputs": [
    {
     "data": {
      "image/svg+xml": [
       "<?xml version=\"1.0\" encoding=\"utf-8\"?>\n",
       "<svg xmlns=\"http://www.w3.org/2000/svg\" xmlns:xlink=\"http://www.w3.org/1999/xlink\" width=\"500\" height=\"800\" viewBox=\"0 0 2000 3200\">\n",
       "<defs>\n",
       "  <clipPath id=\"clip040\">\n",
       "    <rect x=\"0\" y=\"0\" width=\"2000\" height=\"3200\"/>\n",
       "  </clipPath>\n",
       "</defs>\n",
       "<path clip-path=\"url(#clip040)\" d=\"\n",
       "M0 3200 L2000 3200 L2000 0 L0 0  Z\n",
       "  \" fill=\"#ffffff\" fill-rule=\"evenodd\" fill-opacity=\"1\"/>\n",
       "<defs>\n",
       "  <clipPath id=\"clip041\">\n",
       "    <rect x=\"640\" y=\"320\" width=\"2000\" height=\"2241\"/>\n",
       "  </clipPath>\n",
       "</defs>\n",
       "<path clip-path=\"url(#clip040)\" d=\"\n",
       "M265.867 1909.1 L1952.76 1909.1 L1952.76 47.2441 L265.867 47.2441  Z\n",
       "  \" fill=\"#ffffff\" fill-rule=\"evenodd\" fill-opacity=\"1\"/>\n",
       "<defs>\n",
       "  <clipPath id=\"clip042\">\n",
       "    <rect x=\"265\" y=\"47\" width=\"1688\" height=\"1863\"/>\n",
       "  </clipPath>\n",
       "</defs>\n",
       "<polyline clip-path=\"url(#clip042)\" style=\"stroke:#000000; stroke-width:2; stroke-opacity:0.1; fill:none\" points=\"\n",
       "  490.432,1909.1 490.432,47.2441 \n",
       "  \"/>\n",
       "<polyline clip-path=\"url(#clip042)\" style=\"stroke:#000000; stroke-width:2; stroke-opacity:0.1; fill:none\" points=\"\n",
       "  667.255,1909.1 667.255,47.2441 \n",
       "  \"/>\n",
       "<polyline clip-path=\"url(#clip042)\" style=\"stroke:#000000; stroke-width:2; stroke-opacity:0.1; fill:none\" points=\"\n",
       "  844.078,1909.1 844.078,47.2441 \n",
       "  \"/>\n",
       "<polyline clip-path=\"url(#clip042)\" style=\"stroke:#000000; stroke-width:2; stroke-opacity:0.1; fill:none\" points=\"\n",
       "  1020.9,1909.1 1020.9,47.2441 \n",
       "  \"/>\n",
       "<polyline clip-path=\"url(#clip042)\" style=\"stroke:#000000; stroke-width:2; stroke-opacity:0.1; fill:none\" points=\"\n",
       "  1197.72,1909.1 1197.72,47.2441 \n",
       "  \"/>\n",
       "<polyline clip-path=\"url(#clip042)\" style=\"stroke:#000000; stroke-width:2; stroke-opacity:0.1; fill:none\" points=\"\n",
       "  1374.55,1909.1 1374.55,47.2441 \n",
       "  \"/>\n",
       "<polyline clip-path=\"url(#clip042)\" style=\"stroke:#000000; stroke-width:2; stroke-opacity:0.1; fill:none\" points=\"\n",
       "  1551.37,1909.1 1551.37,47.2441 \n",
       "  \"/>\n",
       "<polyline clip-path=\"url(#clip042)\" style=\"stroke:#000000; stroke-width:2; stroke-opacity:0.1; fill:none\" points=\"\n",
       "  1728.19,1909.1 1728.19,47.2441 \n",
       "  \"/>\n",
       "<polyline clip-path=\"url(#clip042)\" style=\"stroke:#000000; stroke-width:2; stroke-opacity:0.1; fill:none\" points=\"\n",
       "  1905.01,1909.1 1905.01,47.2441 \n",
       "  \"/>\n",
       "<polyline clip-path=\"url(#clip040)\" style=\"stroke:#000000; stroke-width:4; stroke-opacity:1; fill:none\" points=\"\n",
       "  265.867,1786.25 1952.76,1786.25 \n",
       "  \"/>\n",
       "<polyline clip-path=\"url(#clip040)\" style=\"stroke:#000000; stroke-width:4; stroke-opacity:1; fill:none\" points=\"\n",
       "  490.432,1808.59 490.432,1763.91 \n",
       "  \"/>\n",
       "<polyline clip-path=\"url(#clip040)\" style=\"stroke:#000000; stroke-width:4; stroke-opacity:1; fill:none\" points=\"\n",
       "  667.255,1808.59 667.255,1763.91 \n",
       "  \"/>\n",
       "<polyline clip-path=\"url(#clip040)\" style=\"stroke:#000000; stroke-width:4; stroke-opacity:1; fill:none\" points=\"\n",
       "  844.078,1808.59 844.078,1763.91 \n",
       "  \"/>\n",
       "<polyline clip-path=\"url(#clip040)\" style=\"stroke:#000000; stroke-width:4; stroke-opacity:1; fill:none\" points=\"\n",
       "  1020.9,1808.59 1020.9,1763.91 \n",
       "  \"/>\n",
       "<polyline clip-path=\"url(#clip040)\" style=\"stroke:#000000; stroke-width:4; stroke-opacity:1; fill:none\" points=\"\n",
       "  1197.72,1808.59 1197.72,1763.91 \n",
       "  \"/>\n",
       "<polyline clip-path=\"url(#clip040)\" style=\"stroke:#000000; stroke-width:4; stroke-opacity:1; fill:none\" points=\"\n",
       "  1374.55,1808.59 1374.55,1763.91 \n",
       "  \"/>\n",
       "<polyline clip-path=\"url(#clip040)\" style=\"stroke:#000000; stroke-width:4; stroke-opacity:1; fill:none\" points=\"\n",
       "  1551.37,1808.59 1551.37,1763.91 \n",
       "  \"/>\n",
       "<polyline clip-path=\"url(#clip040)\" style=\"stroke:#000000; stroke-width:4; stroke-opacity:1; fill:none\" points=\"\n",
       "  1728.19,1808.59 1728.19,1763.91 \n",
       "  \"/>\n",
       "<polyline clip-path=\"url(#clip040)\" style=\"stroke:#000000; stroke-width:4; stroke-opacity:1; fill:none\" points=\"\n",
       "  1905.01,1808.59 1905.01,1763.91 \n",
       "  \"/>\n",
       "<path clip-path=\"url(#clip040)\" d=\"M 0 0 M480.814 1849.39 L488.453 1849.39 L488.453 1823.02 L480.143 1824.69 L480.143 1820.43 L488.407 1818.76 L493.083 1818.76 L493.083 1849.39 L500.722 1849.39 L500.722 1853.32 L480.814 1853.32 L480.814 1849.39 Z\" fill=\"#000000\" fill-rule=\"evenodd\" fill-opacity=\"1\" /><path clip-path=\"url(#clip040)\" d=\"M 0 0 M661.908 1849.39 L678.227 1849.39 L678.227 1853.32 L656.283 1853.32 L656.283 1849.39 Q658.945 1846.63 663.528 1842 Q668.135 1837.35 669.315 1836.01 Q671.56 1833.49 672.44 1831.75 Q673.343 1829.99 673.343 1828.3 Q673.343 1825.55 671.398 1823.81 Q669.477 1822.07 666.375 1822.07 Q664.176 1822.07 661.723 1822.84 Q659.292 1823.6 656.514 1825.15 L656.514 1820.43 Q659.338 1819.3 661.792 1818.72 Q664.246 1818.14 666.283 1818.14 Q671.653 1818.14 674.848 1820.82 Q678.042 1823.51 678.042 1828 Q678.042 1830.13 677.232 1832.05 Q676.445 1833.95 674.338 1836.54 Q673.76 1837.21 670.658 1840.43 Q667.556 1843.63 661.908 1849.39 Z\" fill=\"#000000\" fill-rule=\"evenodd\" fill-opacity=\"1\" /><path clip-path=\"url(#clip040)\" d=\"M 0 0 M848.325 1834.69 Q851.682 1835.41 853.557 1837.68 Q855.455 1839.94 855.455 1843.28 Q855.455 1848.39 851.936 1851.19 Q848.418 1854 841.936 1854 Q839.761 1854 837.446 1853.56 Q835.154 1853.14 832.7 1852.28 L832.7 1847.77 Q834.645 1848.9 836.96 1849.48 Q839.274 1850.06 841.798 1850.06 Q846.196 1850.06 848.487 1848.32 Q850.802 1846.59 850.802 1843.28 Q850.802 1840.22 848.649 1838.51 Q846.52 1836.77 842.7 1836.77 L838.673 1836.77 L838.673 1832.93 L842.886 1832.93 Q846.335 1832.93 848.163 1831.57 Q849.992 1830.18 849.992 1827.58 Q849.992 1824.92 848.094 1823.51 Q846.219 1822.07 842.7 1822.07 Q840.779 1822.07 838.58 1822.49 Q836.381 1822.91 833.742 1823.79 L833.742 1819.62 Q836.404 1818.88 838.719 1818.51 Q841.057 1818.14 843.117 1818.14 Q848.441 1818.14 851.543 1820.57 Q854.645 1822.98 854.645 1827.1 Q854.645 1829.97 853.001 1831.96 Q851.358 1833.93 848.325 1834.69 Z\" fill=\"#000000\" fill-rule=\"evenodd\" fill-opacity=\"1\" /><path clip-path=\"url(#clip040)\" d=\"M 0 0 M1023.91 1822.84 L1012.1 1841.29 L1023.91 1841.29 L1023.91 1822.84 M1022.68 1818.76 L1028.56 1818.76 L1028.56 1841.29 L1033.49 1841.29 L1033.49 1845.18 L1028.56 1845.18 L1028.56 1853.32 L1023.91 1853.32 L1023.91 1845.18 L1008.31 1845.18 L1008.31 1840.66 L1022.68 1818.76 Z\" fill=\"#000000\" fill-rule=\"evenodd\" fill-opacity=\"1\" /><path clip-path=\"url(#clip040)\" d=\"M 0 0 M1188 1818.76 L1206.36 1818.76 L1206.36 1822.7 L1192.28 1822.7 L1192.28 1831.17 Q1193.3 1830.82 1194.32 1830.66 Q1195.34 1830.48 1196.36 1830.48 Q1202.14 1830.48 1205.52 1833.65 Q1208.9 1836.82 1208.9 1842.24 Q1208.9 1847.82 1205.43 1850.92 Q1201.96 1854 1195.64 1854 Q1193.46 1854 1191.2 1853.63 Q1188.95 1853.25 1186.54 1852.51 L1186.54 1847.82 Q1188.63 1848.95 1190.85 1849.5 Q1193.07 1850.06 1195.55 1850.06 Q1199.55 1850.06 1201.89 1847.95 Q1204.23 1845.85 1204.23 1842.24 Q1204.23 1838.63 1201.89 1836.52 Q1199.55 1834.41 1195.55 1834.41 Q1193.67 1834.41 1191.8 1834.83 Q1189.95 1835.25 1188 1836.13 L1188 1818.76 Z\" fill=\"#000000\" fill-rule=\"evenodd\" fill-opacity=\"1\" /><path clip-path=\"url(#clip040)\" d=\"M 0 0 M1374.95 1834.18 Q1371.8 1834.18 1369.95 1836.33 Q1368.12 1838.49 1368.12 1842.24 Q1368.12 1845.96 1369.95 1848.14 Q1371.8 1850.29 1374.95 1850.29 Q1378.1 1850.29 1379.93 1848.14 Q1381.78 1845.96 1381.78 1842.24 Q1381.78 1838.49 1379.93 1836.33 Q1378.1 1834.18 1374.95 1834.18 M1384.23 1819.53 L1384.23 1823.79 Q1382.47 1822.95 1380.67 1822.51 Q1378.89 1822.07 1377.13 1822.07 Q1372.5 1822.07 1370.04 1825.2 Q1367.61 1828.32 1367.27 1834.64 Q1368.63 1832.63 1370.69 1831.57 Q1372.75 1830.48 1375.23 1830.48 Q1380.44 1830.48 1383.45 1833.65 Q1386.48 1836.8 1386.48 1842.24 Q1386.48 1847.56 1383.33 1850.78 Q1380.18 1854 1374.95 1854 Q1368.96 1854 1365.78 1849.41 Q1362.61 1844.81 1362.61 1836.08 Q1362.61 1827.88 1366.5 1823.02 Q1370.39 1818.14 1376.94 1818.14 Q1378.7 1818.14 1380.48 1818.49 Q1382.29 1818.83 1384.23 1819.53 Z\" fill=\"#000000\" fill-rule=\"evenodd\" fill-opacity=\"1\" /><path clip-path=\"url(#clip040)\" d=\"M 0 0 M1540.26 1818.76 L1562.48 1818.76 L1562.48 1820.76 L1549.93 1853.32 L1545.05 1853.32 L1556.85 1822.7 L1540.26 1822.7 L1540.26 1818.76 Z\" fill=\"#000000\" fill-rule=\"evenodd\" fill-opacity=\"1\" /><path clip-path=\"url(#clip040)\" d=\"M 0 0 M1728.19 1836.91 Q1724.86 1836.91 1722.94 1838.69 Q1721.04 1840.48 1721.04 1843.6 Q1721.04 1846.73 1722.94 1848.51 Q1724.86 1850.29 1728.19 1850.29 Q1731.52 1850.29 1733.45 1848.51 Q1735.37 1846.7 1735.37 1843.6 Q1735.37 1840.48 1733.45 1838.69 Q1731.55 1836.91 1728.19 1836.91 M1723.52 1834.92 Q1720.51 1834.18 1718.82 1832.12 Q1717.15 1830.06 1717.15 1827.1 Q1717.15 1822.95 1720.09 1820.55 Q1723.05 1818.14 1728.19 1818.14 Q1733.35 1818.14 1736.29 1820.55 Q1739.23 1822.95 1739.23 1827.1 Q1739.23 1830.06 1737.54 1832.12 Q1735.88 1834.18 1732.89 1834.92 Q1736.27 1835.71 1738.14 1838 Q1740.04 1840.29 1740.04 1843.6 Q1740.04 1848.63 1736.96 1851.31 Q1733.91 1854 1728.19 1854 Q1722.47 1854 1719.39 1851.31 Q1716.34 1848.63 1716.34 1843.6 Q1716.34 1840.29 1718.24 1838 Q1720.14 1835.71 1723.52 1834.92 M1721.8 1827.54 Q1721.8 1830.22 1723.47 1831.73 Q1725.16 1833.23 1728.19 1833.23 Q1731.2 1833.23 1732.89 1831.73 Q1734.6 1830.22 1734.6 1827.54 Q1734.6 1824.85 1732.89 1823.35 Q1731.2 1821.84 1728.19 1821.84 Q1725.16 1821.84 1723.47 1823.35 Q1721.8 1824.85 1721.8 1827.54 Z\" fill=\"#000000\" fill-rule=\"evenodd\" fill-opacity=\"1\" /><path clip-path=\"url(#clip040)\" d=\"M 0 0 M1895.31 1852.61 L1895.31 1848.35 Q1897.07 1849.18 1898.88 1849.62 Q1900.69 1850.06 1902.42 1850.06 Q1907.05 1850.06 1909.48 1846.96 Q1911.94 1843.83 1912.28 1837.49 Q1910.94 1839.48 1908.88 1840.55 Q1906.82 1841.61 1904.32 1841.61 Q1899.13 1841.61 1896.1 1838.49 Q1893.09 1835.34 1893.09 1829.9 Q1893.09 1824.57 1896.24 1821.36 Q1899.39 1818.14 1904.62 1818.14 Q1910.62 1818.14 1913.76 1822.75 Q1916.94 1827.33 1916.94 1836.08 Q1916.94 1844.25 1913.05 1849.13 Q1909.18 1854 1902.63 1854 Q1900.87 1854 1899.06 1853.65 Q1897.26 1853.3 1895.31 1852.61 M1904.62 1837.95 Q1907.77 1837.95 1909.6 1835.8 Q1911.45 1833.65 1911.45 1829.9 Q1911.45 1826.17 1909.6 1824.02 Q1907.77 1821.84 1904.62 1821.84 Q1901.47 1821.84 1899.62 1824.02 Q1897.79 1826.17 1897.79 1829.9 Q1897.79 1833.65 1899.62 1835.8 Q1901.47 1837.95 1904.62 1837.95 Z\" fill=\"#000000\" fill-rule=\"evenodd\" fill-opacity=\"1\" /><polyline clip-path=\"url(#clip042)\" style=\"stroke:#000000; stroke-width:2; stroke-opacity:0.1; fill:none\" points=\"\n",
       "  265.867,1347.11 1952.76,1347.11 \n",
       "  \"/>\n",
       "<polyline clip-path=\"url(#clip042)\" style=\"stroke:#000000; stroke-width:2; stroke-opacity:0.1; fill:none\" points=\"\n",
       "  265.867,907.964 1952.76,907.964 \n",
       "  \"/>\n",
       "<polyline clip-path=\"url(#clip042)\" style=\"stroke:#000000; stroke-width:2; stroke-opacity:0.1; fill:none\" points=\"\n",
       "  265.867,468.819 1952.76,468.819 \n",
       "  \"/>\n",
       "<polyline clip-path=\"url(#clip040)\" style=\"stroke:#000000; stroke-width:4; stroke-opacity:1; fill:none\" points=\"\n",
       "  313.61,1909.1 313.61,47.2441 \n",
       "  \"/>\n",
       "<polyline clip-path=\"url(#clip040)\" style=\"stroke:#000000; stroke-width:4; stroke-opacity:1; fill:none\" points=\"\n",
       "  293.367,1347.11 333.852,1347.11 \n",
       "  \"/>\n",
       "<polyline clip-path=\"url(#clip040)\" style=\"stroke:#000000; stroke-width:4; stroke-opacity:1; fill:none\" points=\"\n",
       "  293.367,907.964 333.852,907.964 \n",
       "  \"/>\n",
       "<polyline clip-path=\"url(#clip040)\" style=\"stroke:#000000; stroke-width:4; stroke-opacity:1; fill:none\" points=\"\n",
       "  293.367,468.819 333.852,468.819 \n",
       "  \"/>\n",
       "<path clip-path=\"url(#clip040)\" d=\"M 0 0 M191.675 1360.45 L199.314 1360.45 L199.314 1334.09 L191.003 1335.75 L191.003 1331.49 L199.267 1329.83 L203.943 1329.83 L203.943 1360.45 L211.582 1360.45 L211.582 1364.39 L191.675 1364.39 L191.675 1360.45 Z\" fill=\"#000000\" fill-rule=\"evenodd\" fill-opacity=\"1\" /><path clip-path=\"url(#clip040)\" d=\"M 0 0 M226.651 1332.91 Q223.04 1332.91 221.212 1336.47 Q219.406 1340.01 219.406 1347.14 Q219.406 1354.25 221.212 1357.81 Q223.04 1361.36 226.651 1361.36 Q230.286 1361.36 232.091 1357.81 Q233.92 1354.25 233.92 1347.14 Q233.92 1340.01 232.091 1336.47 Q230.286 1332.91 226.651 1332.91 M226.651 1329.2 Q232.462 1329.2 235.517 1333.81 Q238.596 1338.39 238.596 1347.14 Q238.596 1355.87 235.517 1360.48 Q232.462 1365.06 226.651 1365.06 Q220.841 1365.06 217.763 1360.48 Q214.707 1355.87 214.707 1347.14 Q214.707 1338.39 217.763 1333.81 Q220.841 1329.2 226.651 1329.2 Z\" fill=\"#000000\" fill-rule=\"evenodd\" fill-opacity=\"1\" /><path clip-path=\"url(#clip040)\" d=\"M 0 0 M253.665 1332.91 Q250.054 1332.91 248.225 1336.47 Q246.42 1340.01 246.42 1347.14 Q246.42 1354.25 248.225 1357.81 Q250.054 1361.36 253.665 1361.36 Q257.299 1361.36 259.105 1357.81 Q260.934 1354.25 260.934 1347.14 Q260.934 1340.01 259.105 1336.47 Q257.299 1332.91 253.665 1332.91 M253.665 1329.2 Q259.475 1329.2 262.531 1333.81 Q265.61 1338.39 265.61 1347.14 Q265.61 1355.87 262.531 1360.48 Q259.475 1365.06 253.665 1365.06 Q247.855 1365.06 244.776 1360.48 Q241.721 1355.87 241.721 1347.14 Q241.721 1338.39 244.776 1333.81 Q247.855 1329.2 253.665 1329.2 Z\" fill=\"#000000\" fill-rule=\"evenodd\" fill-opacity=\"1\" /><path clip-path=\"url(#clip040)\" d=\"M 0 0 M195.263 921.308 L211.582 921.308 L211.582 925.244 L189.638 925.244 L189.638 921.308 Q192.3 918.554 196.883 913.924 Q201.49 909.271 202.67 907.929 Q204.915 905.406 205.795 903.67 Q206.698 901.91 206.698 900.221 Q206.698 897.466 204.753 895.73 Q202.832 893.994 199.73 893.994 Q197.531 893.994 195.078 894.758 Q192.647 895.522 189.869 897.072 L189.869 892.35 Q192.693 891.216 195.147 890.637 Q197.601 890.059 199.638 890.059 Q205.008 890.059 208.202 892.744 Q211.397 895.429 211.397 899.92 Q211.397 902.049 210.587 903.971 Q209.8 905.869 207.693 908.461 Q207.115 909.133 204.013 912.35 Q200.911 915.545 195.263 921.308 Z\" fill=\"#000000\" fill-rule=\"evenodd\" fill-opacity=\"1\" /><path clip-path=\"url(#clip040)\" d=\"M 0 0 M226.651 893.762 Q223.04 893.762 221.212 897.327 Q219.406 900.869 219.406 907.998 Q219.406 915.105 221.212 918.67 Q223.04 922.211 226.651 922.211 Q230.286 922.211 232.091 918.67 Q233.92 915.105 233.92 907.998 Q233.92 900.869 232.091 897.327 Q230.286 893.762 226.651 893.762 M226.651 890.059 Q232.462 890.059 235.517 894.665 Q238.596 899.248 238.596 907.998 Q238.596 916.725 235.517 921.332 Q232.462 925.915 226.651 925.915 Q220.841 925.915 217.763 921.332 Q214.707 916.725 214.707 907.998 Q214.707 899.248 217.763 894.665 Q220.841 890.059 226.651 890.059 Z\" fill=\"#000000\" fill-rule=\"evenodd\" fill-opacity=\"1\" /><path clip-path=\"url(#clip040)\" d=\"M 0 0 M253.665 893.762 Q250.054 893.762 248.225 897.327 Q246.42 900.869 246.42 907.998 Q246.42 915.105 248.225 918.67 Q250.054 922.211 253.665 922.211 Q257.299 922.211 259.105 918.67 Q260.934 915.105 260.934 907.998 Q260.934 900.869 259.105 897.327 Q257.299 893.762 253.665 893.762 M253.665 890.059 Q259.475 890.059 262.531 894.665 Q265.61 899.248 265.61 907.998 Q265.61 916.725 262.531 921.332 Q259.475 925.915 253.665 925.915 Q247.855 925.915 244.776 921.332 Q241.721 916.725 241.721 907.998 Q241.721 899.248 244.776 894.665 Q247.855 890.059 253.665 890.059 Z\" fill=\"#000000\" fill-rule=\"evenodd\" fill-opacity=\"1\" /><path clip-path=\"url(#clip040)\" d=\"M 0 0 M204.452 467.465 Q207.809 468.183 209.684 470.451 Q211.582 472.72 211.582 476.053 Q211.582 481.169 208.064 483.97 Q204.545 486.771 198.064 486.771 Q195.888 486.771 193.573 486.331 Q191.281 485.914 188.828 485.058 L188.828 480.544 Q190.772 481.678 193.087 482.257 Q195.402 482.835 197.925 482.835 Q202.323 482.835 204.615 481.099 Q206.929 479.363 206.929 476.053 Q206.929 472.998 204.777 471.285 Q202.647 469.548 198.828 469.548 L194.8 469.548 L194.8 465.706 L199.013 465.706 Q202.462 465.706 204.29 464.34 Q206.119 462.951 206.119 460.359 Q206.119 457.697 204.221 456.285 Q202.346 454.849 198.828 454.849 Q196.906 454.849 194.707 455.266 Q192.508 455.683 189.869 456.562 L189.869 452.396 Q192.531 451.655 194.846 451.285 Q197.184 450.914 199.244 450.914 Q204.568 450.914 207.67 453.345 Q210.772 455.752 210.772 459.873 Q210.772 462.743 209.128 464.734 Q207.485 466.701 204.452 467.465 Z\" fill=\"#000000\" fill-rule=\"evenodd\" fill-opacity=\"1\" /><path clip-path=\"url(#clip040)\" d=\"M 0 0 M226.651 454.618 Q223.04 454.618 221.212 458.183 Q219.406 461.724 219.406 468.854 Q219.406 475.96 221.212 479.525 Q223.04 483.067 226.651 483.067 Q230.286 483.067 232.091 479.525 Q233.92 475.96 233.92 468.854 Q233.92 461.724 232.091 458.183 Q230.286 454.618 226.651 454.618 M226.651 450.914 Q232.462 450.914 235.517 455.521 Q238.596 460.104 238.596 468.854 Q238.596 477.581 235.517 482.187 Q232.462 486.771 226.651 486.771 Q220.841 486.771 217.763 482.187 Q214.707 477.581 214.707 468.854 Q214.707 460.104 217.763 455.521 Q220.841 450.914 226.651 450.914 Z\" fill=\"#000000\" fill-rule=\"evenodd\" fill-opacity=\"1\" /><path clip-path=\"url(#clip040)\" d=\"M 0 0 M253.665 454.618 Q250.054 454.618 248.225 458.183 Q246.42 461.724 246.42 468.854 Q246.42 475.96 248.225 479.525 Q250.054 483.067 253.665 483.067 Q257.299 483.067 259.105 479.525 Q260.934 475.96 260.934 468.854 Q260.934 461.724 259.105 458.183 Q257.299 454.618 253.665 454.618 M253.665 450.914 Q259.475 450.914 262.531 455.521 Q265.61 460.104 265.61 468.854 Q265.61 477.581 262.531 482.187 Q259.475 486.771 253.665 486.771 Q247.855 486.771 244.776 482.187 Q241.721 477.581 241.721 468.854 Q241.721 460.104 244.776 455.521 Q247.855 450.914 253.665 450.914 Z\" fill=\"#000000\" fill-rule=\"evenodd\" fill-opacity=\"1\" /><path clip-path=\"url(#clip040)\" d=\"M 0 0 M93.0373 988.053 Q99.4985 988.053 103.191 985.412 Q106.851 982.738 106.851 978.091 Q106.851 973.444 103.191 970.77 Q99.4985 968.097 93.0373 968.097 Q86.5761 968.097 82.9158 970.77 Q79.2237 973.444 79.2237 978.091 Q79.2237 982.738 82.9158 985.412 Q86.5761 988.053 93.0373 988.053 M105.482 968.097 Q108.665 969.943 110.225 972.776 Q111.752 975.576 111.752 979.523 Q111.752 985.984 106.596 990.058 Q101.44 994.101 93.0373 994.101 Q84.6346 994.101 79.4783 990.058 Q74.3221 985.984 74.3221 979.523 Q74.3221 975.576 75.8817 972.776 Q77.4095 969.943 80.5923 968.097 L75.1815 968.097 L75.1815 962.24 L124.388 962.24 L124.388 968.097 L105.482 968.097 Z\" fill=\"#000000\" fill-rule=\"evenodd\" fill-opacity=\"1\" /><polyline clip-path=\"url(#clip042)\" style=\"stroke:#009af9; stroke-width:4; stroke-opacity:1; fill:none\" points=\"\n",
       "  313.61,1325.15 331.292,1398.73 348.974,1465.18 366.656,1524.89 384.339,1578.27 402.021,1625.69 419.703,1667.54 437.385,1704.17 455.068,1735.94 472.75,1763.19 \n",
       "  490.432,1786.25 508.115,1805.45 525.797,1821.1 543.479,1833.49 561.161,1842.91 578.844,1849.65 596.526,1853.98 614.208,1856.15 631.89,1856.4 649.573,1854.99 \n",
       "  667.255,1852.12 684.937,1848.03 702.619,1842.91 720.302,1836.96 737.984,1830.37 755.666,1823.31 773.349,1815.93 791.031,1808.4 808.713,1800.86 826.395,1793.44 \n",
       "  844.078,1786.25 861.76,1779.42 879.442,1773.04 897.124,1767.19 914.807,1761.97 932.489,1757.43 950.171,1753.64 967.854,1750.65 985.536,1748.48 1003.22,1747.17 \n",
       "  1020.9,1746.73 1038.58,1747.17 1056.26,1748.48 1073.95,1750.65 1091.63,1753.64 1109.31,1757.43 1126.99,1761.97 1144.68,1767.19 1162.36,1773.04 1180.04,1779.42 \n",
       "  1197.72,1786.25 1215.41,1793.44 1233.09,1800.86 1250.77,1808.4 1268.45,1815.93 1286.13,1823.31 1303.82,1830.37 1321.5,1836.96 1339.18,1842.91 1356.86,1848.03 \n",
       "  1374.55,1852.12 1392.23,1854.99 1409.91,1856.4 1427.59,1856.15 1445.27,1853.98 1462.96,1849.65 1480.64,1842.91 1498.32,1833.49 1516,1821.1 1533.69,1805.45 \n",
       "  1551.37,1786.25 1569.05,1763.19 1586.73,1735.94 1604.42,1704.17 1622.1,1667.54 1639.78,1625.69 1657.46,1578.27 1675.14,1524.89 1692.83,1465.18 1710.51,1398.73 \n",
       "  1728.19,1325.15 1745.87,1244.01 1763.56,1154.9 1781.24,1057.36 1798.92,950.958 1816.6,835.23 1834.28,709.709 1851.97,573.915 1869.65,427.357 1887.33,269.535 \n",
       "  1905.01,99.938 \n",
       "  \"/>\n",
       "<path clip-path=\"url(#clip040)\" d=\"\n",
       "M265.867 2212.69 L1952.76 2212.69 L1952.76 2103.17 L265.867 2103.17  Z\n",
       "  \" fill=\"#ffffff\" fill-rule=\"evenodd\" fill-opacity=\"1\"/>\n",
       "<defs>\n",
       "  <clipPath id=\"clip043\">\n",
       "    <rect x=\"265\" y=\"2103\" width=\"1688\" height=\"111\"/>\n",
       "  </clipPath>\n",
       "</defs>\n",
       "<polyline clip-path=\"url(#clip043)\" style=\"stroke:#000000; stroke-width:2; stroke-opacity:0.1; fill:none\" points=\"\n",
       "  485.896,2212.69 485.896,2103.17 \n",
       "  \"/>\n",
       "<polyline clip-path=\"url(#clip043)\" style=\"stroke:#000000; stroke-width:2; stroke-opacity:0.1; fill:none\" points=\"\n",
       "  852.611,2212.69 852.611,2103.17 \n",
       "  \"/>\n",
       "<polyline clip-path=\"url(#clip043)\" style=\"stroke:#000000; stroke-width:2; stroke-opacity:0.1; fill:none\" points=\"\n",
       "  1219.33,2212.69 1219.33,2103.17 \n",
       "  \"/>\n",
       "<polyline clip-path=\"url(#clip043)\" style=\"stroke:#000000; stroke-width:2; stroke-opacity:0.1; fill:none\" points=\"\n",
       "  1586.04,2212.69 1586.04,2103.17 \n",
       "  \"/>\n",
       "<polyline clip-path=\"url(#clip040)\" style=\"stroke:#000000; stroke-width:4; stroke-opacity:0; fill:none\" points=\"\n",
       "  485.896,2212.69 485.896,2211.38 \n",
       "  \"/>\n",
       "<polyline clip-path=\"url(#clip040)\" style=\"stroke:#000000; stroke-width:4; stroke-opacity:0; fill:none\" points=\"\n",
       "  852.611,2212.69 852.611,2211.38 \n",
       "  \"/>\n",
       "<polyline clip-path=\"url(#clip040)\" style=\"stroke:#000000; stroke-width:4; stroke-opacity:0; fill:none\" points=\"\n",
       "  1219.33,2212.69 1219.33,2211.38 \n",
       "  \"/>\n",
       "<polyline clip-path=\"url(#clip040)\" style=\"stroke:#000000; stroke-width:4; stroke-opacity:0; fill:none\" points=\"\n",
       "  1586.04,2212.69 1586.04,2211.38 \n",
       "  \"/>\n",
       "<path clip-path=\"url(#clip040)\" d=\"M 0 0 M381.875 2332.14 L400.972 2332.14 L400.972 2266.22 L380.197 2270.39 L380.197 2259.74 L400.856 2255.57 L412.546 2255.57 L412.546 2332.14 L431.643 2332.14 L431.643 2341.97 L381.875 2341.97 L381.875 2332.14 Z\" fill=\"#000000\" fill-rule=\"evenodd\" fill-opacity=\"1\" /><path clip-path=\"url(#clip040)\" d=\"M 0 0 M444.317 2327.27 L456.527 2327.27 L456.527 2341.97 L444.317 2341.97 L444.317 2327.27 Z\" fill=\"#000000\" fill-rule=\"evenodd\" fill-opacity=\"1\" /><path clip-path=\"url(#clip040)\" d=\"M 0 0 M494.201 2263.27 Q485.173 2263.27 480.601 2272.18 Q476.087 2281.04 476.087 2298.86 Q476.087 2316.63 480.601 2325.54 Q485.173 2334.39 494.201 2334.39 Q503.286 2334.39 507.8 2325.54 Q512.372 2316.63 512.372 2298.86 Q512.372 2281.04 507.8 2272.18 Q503.286 2263.27 494.201 2263.27 M494.201 2254.01 Q508.726 2254.01 516.365 2265.53 Q524.062 2276.99 524.062 2298.86 Q524.062 2320.68 516.365 2332.19 Q508.726 2343.65 494.201 2343.65 Q479.675 2343.65 471.979 2332.19 Q464.34 2320.68 464.34 2298.86 Q464.34 2276.99 471.979 2265.53 Q479.675 2254.01 494.201 2254.01 Z\" fill=\"#000000\" fill-rule=\"evenodd\" fill-opacity=\"1\" /><path clip-path=\"url(#clip040)\" d=\"M 0 0 M561.735 2263.27 Q552.707 2263.27 548.136 2272.18 Q543.622 2281.04 543.622 2298.86 Q543.622 2316.63 548.136 2325.54 Q552.707 2334.39 561.735 2334.39 Q570.821 2334.39 575.335 2325.54 Q579.906 2316.63 579.906 2298.86 Q579.906 2281.04 575.335 2272.18 Q570.821 2263.27 561.735 2263.27 M561.735 2254.01 Q576.26 2254.01 583.899 2265.53 Q591.596 2276.99 591.596 2298.86 Q591.596 2320.68 583.899 2332.19 Q576.26 2343.65 561.735 2343.65 Q547.21 2343.65 539.513 2332.19 Q531.874 2320.68 531.874 2298.86 Q531.874 2276.99 539.513 2265.53 Q547.21 2254.01 561.735 2254.01 Z\" fill=\"#000000\" fill-rule=\"evenodd\" fill-opacity=\"1\" /><path clip-path=\"url(#clip040)\" d=\"M 0 0 M783.254 2295.39 Q791.645 2297.18 796.333 2302.85 Q801.078 2308.53 801.078 2316.86 Q801.078 2329.65 792.282 2336.65 Q783.485 2343.65 767.282 2343.65 Q761.842 2343.65 756.055 2342.55 Q750.326 2341.51 744.192 2339.37 L744.192 2328.09 Q749.053 2330.92 754.84 2332.37 Q760.627 2333.81 766.935 2333.81 Q777.93 2333.81 783.659 2329.47 Q789.446 2325.13 789.446 2316.86 Q789.446 2309.22 784.064 2304.94 Q778.74 2300.6 769.192 2300.6 L759.122 2300.6 L759.122 2290.99 L769.655 2290.99 Q778.277 2290.99 782.849 2287.58 Q787.421 2284.1 787.421 2277.62 Q787.421 2270.97 782.675 2267.44 Q777.988 2263.85 769.192 2263.85 Q764.388 2263.85 758.891 2264.89 Q753.393 2265.93 746.796 2268.13 L746.796 2257.72 Q753.451 2255.86 759.238 2254.94 Q765.083 2254.01 770.233 2254.01 Q783.543 2254.01 791.298 2260.09 Q799.053 2266.11 799.053 2276.41 Q799.053 2283.58 794.944 2288.56 Q790.835 2293.48 783.254 2295.39 Z\" fill=\"#000000\" fill-rule=\"evenodd\" fill-opacity=\"1\" /><path clip-path=\"url(#clip040)\" d=\"M 0 0 M813.752 2327.27 L825.962 2327.27 L825.962 2341.97 L813.752 2341.97 L813.752 2327.27 Z\" fill=\"#000000\" fill-rule=\"evenodd\" fill-opacity=\"1\" /><path clip-path=\"url(#clip040)\" d=\"M 0 0 M863.636 2263.27 Q854.608 2263.27 850.036 2272.18 Q845.522 2281.04 845.522 2298.86 Q845.522 2316.63 850.036 2325.54 Q854.608 2334.39 863.636 2334.39 Q872.721 2334.39 877.235 2325.54 Q881.807 2316.63 881.807 2298.86 Q881.807 2281.04 877.235 2272.18 Q872.721 2263.27 863.636 2263.27 M863.636 2254.01 Q878.161 2254.01 885.8 2265.53 Q893.496 2276.99 893.496 2298.86 Q893.496 2320.68 885.8 2332.19 Q878.161 2343.65 863.636 2343.65 Q849.11 2343.65 841.413 2332.19 Q833.775 2320.68 833.775 2298.86 Q833.775 2276.99 841.413 2265.53 Q849.11 2254.01 863.636 2254.01 Z\" fill=\"#000000\" fill-rule=\"evenodd\" fill-opacity=\"1\" /><path clip-path=\"url(#clip040)\" d=\"M 0 0 M931.17 2263.27 Q922.142 2263.27 917.57 2272.18 Q913.057 2281.04 913.057 2298.86 Q913.057 2316.63 917.57 2325.54 Q922.142 2334.39 931.17 2334.39 Q940.255 2334.39 944.769 2325.54 Q949.341 2316.63 949.341 2298.86 Q949.341 2281.04 944.769 2272.18 Q940.255 2263.27 931.17 2263.27 M931.17 2254.01 Q945.695 2254.01 953.334 2265.53 Q961.031 2276.99 961.031 2298.86 Q961.031 2320.68 953.334 2332.19 Q945.695 2343.65 931.17 2343.65 Q916.644 2343.65 908.948 2332.19 Q901.309 2320.68 901.309 2298.86 Q901.309 2276.99 908.948 2265.53 Q916.644 2254.01 931.17 2254.01 Z\" fill=\"#000000\" fill-rule=\"evenodd\" fill-opacity=\"1\" /><path clip-path=\"url(#clip040)\" d=\"M 0 0 M1115.04 2255.57 L1160.94 2255.57 L1160.94 2265.41 L1125.75 2265.41 L1125.75 2286.59 Q1128.3 2285.72 1130.84 2285.32 Q1133.39 2284.86 1135.94 2284.86 Q1150.4 2284.86 1158.85 2292.78 Q1167.3 2300.71 1167.3 2314.25 Q1167.3 2328.2 1158.62 2335.96 Q1149.94 2343.65 1134.14 2343.65 Q1128.7 2343.65 1123.03 2342.73 Q1117.42 2341.8 1111.4 2339.95 L1111.4 2328.2 Q1116.61 2331.04 1122.16 2332.43 Q1127.72 2333.81 1133.91 2333.81 Q1143.92 2333.81 1149.77 2328.55 Q1155.61 2323.28 1155.61 2314.25 Q1155.61 2305.23 1149.77 2299.96 Q1143.92 2294.69 1133.91 2294.69 Q1129.22 2294.69 1124.53 2295.74 Q1119.91 2296.78 1115.04 2298.98 L1115.04 2255.57 Z\" fill=\"#000000\" fill-rule=\"evenodd\" fill-opacity=\"1\" /><path clip-path=\"url(#clip040)\" d=\"M 0 0 M1179.97 2327.27 L1192.19 2327.27 L1192.19 2341.97 L1179.97 2341.97 L1179.97 2327.27 Z\" fill=\"#000000\" fill-rule=\"evenodd\" fill-opacity=\"1\" /><path clip-path=\"url(#clip040)\" d=\"M 0 0 M1229.86 2263.27 Q1220.83 2263.27 1216.26 2272.18 Q1211.75 2281.04 1211.75 2298.86 Q1211.75 2316.63 1216.26 2325.54 Q1220.83 2334.39 1229.86 2334.39 Q1238.94 2334.39 1243.46 2325.54 Q1248.03 2316.63 1248.03 2298.86 Q1248.03 2281.04 1243.46 2272.18 Q1238.94 2263.27 1229.86 2263.27 M1229.86 2254.01 Q1244.38 2254.01 1252.02 2265.53 Q1259.72 2276.99 1259.72 2298.86 Q1259.72 2320.68 1252.02 2332.19 Q1244.38 2343.65 1229.86 2343.65 Q1215.33 2343.65 1207.64 2332.19 Q1200 2320.68 1200 2298.86 Q1200 2276.99 1207.64 2265.53 Q1215.33 2254.01 1229.86 2254.01 Z\" fill=\"#000000\" fill-rule=\"evenodd\" fill-opacity=\"1\" /><path clip-path=\"url(#clip040)\" d=\"M 0 0 M1297.39 2263.27 Q1288.37 2263.27 1283.79 2272.18 Q1279.28 2281.04 1279.28 2298.86 Q1279.28 2316.63 1283.79 2325.54 Q1288.37 2334.39 1297.39 2334.39 Q1306.48 2334.39 1310.99 2325.54 Q1315.56 2316.63 1315.56 2298.86 Q1315.56 2281.04 1310.99 2272.18 Q1306.48 2263.27 1297.39 2263.27 M1297.39 2254.01 Q1311.92 2254.01 1319.56 2265.53 Q1327.25 2276.99 1327.25 2298.86 Q1327.25 2320.68 1319.56 2332.19 Q1311.92 2343.65 1297.39 2343.65 Q1282.87 2343.65 1275.17 2332.19 Q1267.53 2320.68 1267.53 2298.86 Q1267.53 2276.99 1275.17 2265.53 Q1282.87 2254.01 1297.39 2254.01 Z\" fill=\"#000000\" fill-rule=\"evenodd\" fill-opacity=\"1\" /><path clip-path=\"url(#clip040)\" d=\"M 0 0 M1478.29 2255.57 L1533.84 2255.57 L1533.84 2260.55 L1502.48 2341.97 L1490.27 2341.97 L1519.78 2265.41 L1478.29 2265.41 L1478.29 2255.57 Z\" fill=\"#000000\" fill-rule=\"evenodd\" fill-opacity=\"1\" /><path clip-path=\"url(#clip040)\" d=\"M 0 0 M1546.52 2327.27 L1558.73 2327.27 L1558.73 2341.97 L1546.52 2341.97 L1546.52 2327.27 Z\" fill=\"#000000\" fill-rule=\"evenodd\" fill-opacity=\"1\" /><path clip-path=\"url(#clip040)\" d=\"M 0 0 M1596.4 2263.27 Q1587.37 2263.27 1582.8 2272.18 Q1578.29 2281.04 1578.29 2298.86 Q1578.29 2316.63 1582.8 2325.54 Q1587.37 2334.39 1596.4 2334.39 Q1605.49 2334.39 1610 2325.54 Q1614.57 2316.63 1614.57 2298.86 Q1614.57 2281.04 1610 2272.18 Q1605.49 2263.27 1596.4 2263.27 M1596.4 2254.01 Q1610.93 2254.01 1618.56 2265.53 Q1626.26 2276.99 1626.26 2298.86 Q1626.26 2320.68 1618.56 2332.19 Q1610.93 2343.65 1596.4 2343.65 Q1581.87 2343.65 1574.18 2332.19 Q1566.54 2320.68 1566.54 2298.86 Q1566.54 2276.99 1574.18 2265.53 Q1581.87 2254.01 1596.4 2254.01 Z\" fill=\"#000000\" fill-rule=\"evenodd\" fill-opacity=\"1\" /><path clip-path=\"url(#clip040)\" d=\"M 0 0 M1663.93 2263.27 Q1654.91 2263.27 1650.33 2272.18 Q1645.82 2281.04 1645.82 2298.86 Q1645.82 2316.63 1650.33 2325.54 Q1654.91 2334.39 1663.93 2334.39 Q1673.02 2334.39 1677.53 2325.54 Q1682.11 2316.63 1682.11 2298.86 Q1682.11 2281.04 1677.53 2272.18 Q1673.02 2263.27 1663.93 2263.27 M1663.93 2254.01 Q1678.46 2254.01 1686.1 2265.53 Q1693.8 2276.99 1693.8 2298.86 Q1693.8 2320.68 1686.1 2332.19 Q1678.46 2343.65 1663.93 2343.65 Q1649.41 2343.65 1641.71 2332.19 Q1634.07 2320.68 1634.07 2298.86 Q1634.07 2276.99 1641.71 2265.53 Q1649.41 2254.01 1663.93 2254.01 Z\" fill=\"#000000\" fill-rule=\"evenodd\" fill-opacity=\"1\" /><polyline clip-path=\"url(#clip043)\" style=\"stroke:#000000; stroke-width:2; stroke-opacity:0.1; fill:none\" points=\"\n",
       "  265.867,2204.27 1952.76,2204.27 \n",
       "  \"/>\n",
       "<polyline clip-path=\"url(#clip043)\" style=\"stroke:#000000; stroke-width:2; stroke-opacity:0.1; fill:none\" points=\"\n",
       "  265.867,2187.42 1952.76,2187.42 \n",
       "  \"/>\n",
       "<polyline clip-path=\"url(#clip043)\" style=\"stroke:#000000; stroke-width:2; stroke-opacity:0.1; fill:none\" points=\"\n",
       "  265.867,2170.57 1952.76,2170.57 \n",
       "  \"/>\n",
       "<polyline clip-path=\"url(#clip043)\" style=\"stroke:#000000; stroke-width:2; stroke-opacity:0.1; fill:none\" points=\"\n",
       "  265.867,2153.72 1952.76,2153.72 \n",
       "  \"/>\n",
       "<polyline clip-path=\"url(#clip043)\" style=\"stroke:#000000; stroke-width:2; stroke-opacity:0.1; fill:none\" points=\"\n",
       "  265.867,2136.87 1952.76,2136.87 \n",
       "  \"/>\n",
       "<polyline clip-path=\"url(#clip043)\" style=\"stroke:#000000; stroke-width:2; stroke-opacity:0.1; fill:none\" points=\"\n",
       "  265.867,2120.02 1952.76,2120.02 \n",
       "  \"/>\n",
       "<path clip-path=\"url(#clip040)\" d=\"M 0 0 M95.588 2168.77 Q86.5603 2168.77 81.9885 2177.68 Q77.4747 2186.53 77.4747 2204.36 Q77.4747 2222.12 81.9885 2231.03 Q86.5603 2239.89 95.588 2239.89 Q104.674 2239.89 109.187 2231.03 Q113.759 2222.12 113.759 2204.36 Q113.759 2186.53 109.187 2177.68 Q104.674 2168.77 95.588 2168.77 M95.588 2159.51 Q110.113 2159.51 117.752 2171.02 Q125.449 2182.48 125.449 2204.36 Q125.449 2226.17 117.752 2237.69 Q110.113 2249.15 95.588 2249.15 Q81.0626 2249.15 73.3659 2237.69 Q65.7271 2226.17 65.7271 2204.36 Q65.7271 2182.48 73.3659 2171.02 Q81.0626 2159.51 95.588 2159.51 Z\" fill=\"#000000\" fill-rule=\"evenodd\" fill-opacity=\"1\" /><path clip-path=\"url(#clip040)\" d=\"M 0 0 M138.123 2232.77 L150.333 2232.77 L150.333 2247.47 L138.123 2247.47 L138.123 2232.77 Z\" fill=\"#000000\" fill-rule=\"evenodd\" fill-opacity=\"1\" /><path clip-path=\"url(#clip040)\" d=\"M 0 0 M188.006 2168.77 Q178.979 2168.77 174.407 2177.68 Q169.893 2186.53 169.893 2204.36 Q169.893 2222.12 174.407 2231.03 Q178.979 2239.89 188.006 2239.89 Q197.092 2239.89 201.606 2231.03 Q206.178 2222.12 206.178 2204.36 Q206.178 2186.53 201.606 2177.68 Q197.092 2168.77 188.006 2168.77 M188.006 2159.51 Q202.532 2159.51 210.171 2171.02 Q217.867 2182.48 217.867 2204.36 Q217.867 2226.17 210.171 2237.69 Q202.532 2249.15 188.006 2249.15 Q173.481 2249.15 165.784 2237.69 Q158.146 2226.17 158.146 2204.36 Q158.146 2182.48 165.784 2171.02 Q173.481 2159.51 188.006 2159.51 Z\" fill=\"#000000\" fill-rule=\"evenodd\" fill-opacity=\"1\" /><path clip-path=\"url(#clip040)\" d=\"M 0 0 M98.6551 2151.92 Q89.6274 2151.92 85.0557 2160.83 Q80.5418 2169.68 80.5418 2187.51 Q80.5418 2205.27 85.0557 2214.18 Q89.6274 2223.04 98.6551 2223.04 Q107.741 2223.04 112.255 2214.18 Q116.826 2205.27 116.826 2187.51 Q116.826 2169.68 112.255 2160.83 Q107.741 2151.92 98.6551 2151.92 M98.6551 2142.66 Q113.181 2142.66 120.819 2154.17 Q128.516 2165.63 128.516 2187.51 Q128.516 2209.32 120.819 2220.84 Q113.181 2232.3 98.6551 2232.3 Q84.1297 2232.3 76.433 2220.84 Q68.7942 2209.32 68.7942 2187.51 Q68.7942 2165.63 76.433 2154.17 Q84.1297 2142.66 98.6551 2142.66 Z\" fill=\"#000000\" fill-rule=\"evenodd\" fill-opacity=\"1\" /><path clip-path=\"url(#clip040)\" d=\"M 0 0 M141.19 2215.92 L153.4 2215.92 L153.4 2230.62 L141.19 2230.62 L141.19 2215.92 Z\" fill=\"#000000\" fill-rule=\"evenodd\" fill-opacity=\"1\" /><path clip-path=\"url(#clip040)\" d=\"M 0 0 M168.099 2220.78 L187.196 2220.78 L187.196 2154.87 L166.421 2159.03 L166.421 2148.39 L187.081 2144.22 L198.77 2144.22 L198.77 2220.78 L217.867 2220.78 L217.867 2230.62 L168.099 2230.62 L168.099 2220.78 Z\" fill=\"#000000\" fill-rule=\"evenodd\" fill-opacity=\"1\" /><path clip-path=\"url(#clip040)\" d=\"M 0 0 M99.581 2135.07 Q90.5533 2135.07 85.9816 2143.98 Q81.4677 2152.83 81.4677 2170.66 Q81.4677 2188.42 85.9816 2197.34 Q90.5533 2206.19 99.581 2206.19 Q108.667 2206.19 113.181 2197.34 Q117.752 2188.42 117.752 2170.66 Q117.752 2152.83 113.181 2143.98 Q108.667 2135.07 99.581 2135.07 M99.581 2125.81 Q114.106 2125.81 121.745 2137.32 Q129.442 2148.78 129.442 2170.66 Q129.442 2192.47 121.745 2203.99 Q114.106 2215.45 99.581 2215.45 Q85.0557 2215.45 77.3589 2203.99 Q69.7201 2192.47 69.7201 2170.66 Q69.7201 2148.78 77.3589 2137.32 Q85.0557 2125.81 99.581 2125.81 Z\" fill=\"#000000\" fill-rule=\"evenodd\" fill-opacity=\"1\" /><path clip-path=\"url(#clip040)\" d=\"M 0 0 M142.116 2199.07 L154.326 2199.07 L154.326 2213.77 L142.116 2213.77 L142.116 2199.07 Z\" fill=\"#000000\" fill-rule=\"evenodd\" fill-opacity=\"1\" /><path clip-path=\"url(#clip040)\" d=\"M 0 0 M177.069 2203.93 L217.867 2203.93 L217.867 2213.77 L163.007 2213.77 L163.007 2203.93 Q169.662 2197.05 181.12 2185.47 Q192.636 2173.84 195.587 2170.48 Q201.201 2164.18 203.4 2159.84 Q205.657 2155.44 205.657 2151.21 Q205.657 2144.33 200.796 2139.99 Q195.993 2135.65 188.238 2135.65 Q182.74 2135.65 176.606 2137.56 Q170.53 2139.47 163.585 2143.34 L163.585 2131.54 Q170.645 2128.7 176.78 2127.25 Q182.914 2125.81 188.006 2125.81 Q201.432 2125.81 209.418 2132.52 Q217.404 2139.23 217.404 2150.46 Q217.404 2155.78 215.379 2160.59 Q213.411 2165.33 208.145 2171.81 Q206.699 2173.49 198.944 2181.54 Q191.189 2189.52 177.069 2203.93 Z\" fill=\"#000000\" fill-rule=\"evenodd\" fill-opacity=\"1\" /><path clip-path=\"url(#clip040)\" d=\"M 0 0 M97.2084 2118.22 Q88.1806 2118.22 83.6089 2127.13 Q79.095 2135.98 79.095 2153.81 Q79.095 2171.57 83.6089 2180.49 Q88.1806 2189.34 97.2084 2189.34 Q106.294 2189.34 110.808 2180.49 Q115.38 2171.57 115.38 2153.81 Q115.38 2135.98 110.808 2127.13 Q106.294 2118.22 97.2084 2118.22 M97.2084 2108.96 Q111.734 2108.96 119.373 2120.47 Q127.069 2131.93 127.069 2153.81 Q127.069 2175.63 119.373 2187.14 Q111.734 2198.6 97.2084 2198.6 Q82.683 2198.6 74.9863 2187.14 Q67.3474 2175.63 67.3474 2153.81 Q67.3474 2131.93 74.9863 2120.47 Q82.683 2108.96 97.2084 2108.96 Z\" fill=\"#000000\" fill-rule=\"evenodd\" fill-opacity=\"1\" /><path clip-path=\"url(#clip040)\" d=\"M 0 0 M139.743 2182.22 L151.953 2182.22 L151.953 2196.92 L139.743 2196.92 L139.743 2182.22 Z\" fill=\"#000000\" fill-rule=\"evenodd\" fill-opacity=\"1\" /><path clip-path=\"url(#clip040)\" d=\"M 0 0 M200.043 2150.34 Q208.435 2152.13 213.122 2157.8 Q217.867 2163.47 217.867 2171.81 Q217.867 2184.59 209.071 2191.6 Q200.275 2198.6 184.071 2198.6 Q178.632 2198.6 172.845 2197.5 Q167.115 2196.46 160.981 2194.32 L160.981 2183.03 Q165.842 2185.87 171.629 2187.31 Q177.416 2188.76 183.724 2188.76 Q194.719 2188.76 200.449 2184.42 Q206.236 2180.08 206.236 2171.81 Q206.236 2164.17 200.854 2159.88 Q195.53 2155.54 185.981 2155.54 L175.912 2155.54 L175.912 2145.94 L186.444 2145.94 Q195.067 2145.94 199.638 2142.52 Q204.21 2139.05 204.21 2132.57 Q204.21 2125.91 199.465 2122.38 Q194.777 2118.8 185.981 2118.8 Q181.178 2118.8 175.68 2119.84 Q170.183 2120.88 163.585 2123.08 L163.585 2112.66 Q170.24 2110.81 176.027 2109.88 Q181.872 2108.96 187.023 2108.96 Q200.333 2108.96 208.087 2115.04 Q215.842 2121.05 215.842 2131.35 Q215.842 2138.53 211.733 2143.51 Q207.624 2148.43 200.043 2150.34 Z\" fill=\"#000000\" fill-rule=\"evenodd\" fill-opacity=\"1\" /><path clip-path=\"url(#clip040)\" d=\"M 0 0 M94.3727 2101.37 Q85.345 2101.37 80.7733 2110.28 Q76.2594 2119.13 76.2594 2136.96 Q76.2594 2154.72 80.7733 2163.64 Q85.345 2172.49 94.3727 2172.49 Q103.458 2172.49 107.972 2163.64 Q112.544 2154.72 112.544 2136.96 Q112.544 2119.13 107.972 2110.28 Q103.458 2101.37 94.3727 2101.37 M94.3727 2092.11 Q108.898 2092.11 116.537 2103.63 Q124.234 2115.08 124.234 2136.96 Q124.234 2158.78 116.537 2170.29 Q108.898 2181.75 94.3727 2181.75 Q79.8474 2181.75 72.1506 2170.29 Q64.5118 2158.78 64.5118 2136.96 Q64.5118 2115.08 72.1506 2103.63 Q79.8474 2092.11 94.3727 2092.11 Z\" fill=\"#000000\" fill-rule=\"evenodd\" fill-opacity=\"1\" /><path clip-path=\"url(#clip040)\" d=\"M 0 0 M136.907 2165.37 L149.118 2165.37 L149.118 2180.07 L136.907 2180.07 L136.907 2165.37 Z\" fill=\"#000000\" fill-rule=\"evenodd\" fill-opacity=\"1\" /><path clip-path=\"url(#clip040)\" d=\"M 0 0 M193.909 2103.86 L164.396 2149.98 L193.909 2149.98 L193.909 2103.86 M190.842 2093.67 L205.541 2093.67 L205.541 2149.98 L217.867 2149.98 L217.867 2159.7 L205.541 2159.7 L205.541 2180.07 L193.909 2180.07 L193.909 2159.7 L154.905 2159.7 L154.905 2148.42 L190.842 2093.67 Z\" fill=\"#000000\" fill-rule=\"evenodd\" fill-opacity=\"1\" /><path clip-path=\"url(#clip040)\" d=\"M 0 0 M98.0764 2084.52 Q89.0487 2084.52 84.477 2093.43 Q79.9631 2102.29 79.9631 2120.11 Q79.9631 2137.88 84.477 2146.79 Q89.0487 2155.64 98.0764 2155.64 Q107.162 2155.64 111.676 2146.79 Q116.248 2137.88 116.248 2120.11 Q116.248 2102.29 111.676 2093.43 Q107.162 2084.52 98.0764 2084.52 M98.0764 2075.26 Q112.602 2075.26 120.241 2086.78 Q127.937 2098.23 127.937 2120.11 Q127.937 2141.93 120.241 2153.44 Q112.602 2164.9 98.0764 2164.9 Q83.551 2164.9 75.8543 2153.44 Q68.2155 2141.93 68.2155 2120.11 Q68.2155 2098.23 75.8543 2086.78 Q83.551 2075.26 98.0764 2075.26 Z\" fill=\"#000000\" fill-rule=\"evenodd\" fill-opacity=\"1\" /><path clip-path=\"url(#clip040)\" d=\"M 0 0 M140.611 2148.52 L152.821 2148.52 L152.821 2163.22 L140.611 2163.22 L140.611 2148.52 Z\" fill=\"#000000\" fill-rule=\"evenodd\" fill-opacity=\"1\" /><path clip-path=\"url(#clip040)\" d=\"M 0 0 M165.611 2076.82 L211.502 2076.82 L211.502 2086.66 L176.317 2086.66 L176.317 2107.84 Q178.863 2106.97 181.409 2106.57 Q183.956 2106.1 186.502 2106.1 Q200.969 2106.1 209.418 2114.03 Q217.867 2121.96 217.867 2135.5 Q217.867 2149.45 209.187 2157.2 Q200.506 2164.9 184.708 2164.9 Q179.268 2164.9 173.597 2163.97 Q167.983 2163.05 161.965 2161.2 L161.965 2149.45 Q167.173 2152.29 172.729 2153.67 Q178.284 2155.06 184.476 2155.06 Q194.488 2155.06 200.333 2149.8 Q206.178 2144.53 206.178 2135.5 Q206.178 2126.48 200.333 2121.21 Q194.488 2115.94 184.476 2115.94 Q179.789 2115.94 175.101 2116.98 Q170.472 2118.03 165.611 2120.23 L165.611 2076.82 Z\" fill=\"#000000\" fill-rule=\"evenodd\" fill-opacity=\"1\" /><path clip-path=\"url(#clip040)\" d=\"M 0 0 M16.4636 2167.82 Q22.9248 2167.82 26.6169 2165.17 Q30.2772 2162.5 30.2772 2157.85 Q30.2772 2153.21 26.6169 2150.53 Q22.9248 2147.86 16.4636 2147.86 Q10.0024 2147.86 6.34216 2150.53 Q2.65005 2153.21 2.65005 2157.85 Q2.65005 2162.5 6.34216 2165.17 Q10.0024 2167.82 16.4636 2167.82 M28.9086 2147.86 Q32.0914 2149.71 33.651 2152.54 Q35.1788 2155.34 35.1788 2159.29 Q35.1788 2165.75 30.0226 2169.82 Q24.8664 2173.86 16.4636 2173.86 Q8.0609 2173.86 2.90468 2169.82 Q-2.25154 2165.75 -2.25154 2159.29 Q-2.25154 2155.34 -0.691944 2152.54 Q0.835825 2149.71 4.01868 2147.86 L-1.39217 2147.86 L-1.39217 2142 L47.8147 2142 L47.8147 2147.86 L28.9086 2147.86 Z\" fill=\"#000000\" fill-rule=\"evenodd\" fill-opacity=\"1\" /><polyline clip-path=\"url(#clip043)\" style=\"stroke:#009af9; stroke-width:4; stroke-opacity:1; fill:none\" points=\"\n",
       "  394.218,2204.27 669.254,2204.27 1035.97,2204.27 1402.68,2204.27 1769.4,2204.27 \n",
       "  \"/>\n",
       "<polyline clip-path=\"url(#clip043)\" style=\"stroke:#000000; stroke-width:4; stroke-opacity:1; fill:none\" points=\"\n",
       "  -1421.02,2204.27 3639.64,2204.27 \n",
       "  \"/>\n",
       "<polyline clip-path=\"url(#clip043)\" style=\"stroke:#ff0000; stroke-width:4; stroke-opacity:1; fill:none\" stroke-dasharray=\"16, 10\" points=\"\n",
       "  485.896,2322.21 485.896,1993.65 \n",
       "  \"/>\n",
       "<polyline clip-path=\"url(#clip043)\" style=\"stroke:#ff0000; stroke-width:4; stroke-opacity:1; fill:none\" stroke-dasharray=\"16, 10\" points=\"\n",
       "  852.611,2322.21 852.611,1993.65 \n",
       "  \"/>\n",
       "<polyline clip-path=\"url(#clip043)\" style=\"stroke:#ff0000; stroke-width:4; stroke-opacity:1; fill:none\" stroke-dasharray=\"16, 10\" points=\"\n",
       "  1219.33,2322.21 1219.33,1993.65 \n",
       "  \"/>\n",
       "<polyline clip-path=\"url(#clip043)\" style=\"stroke:#ff0000; stroke-width:4; stroke-opacity:1; fill:none\" stroke-dasharray=\"16, 10\" points=\"\n",
       "  1586.04,2322.21 1586.04,1993.65 \n",
       "  \"/>\n",
       "<circle clip-path=\"url(#clip043)\" cx=\"485.896\" cy=\"2204.27\" r=\"28\" fill=\"#000000\" fill-rule=\"evenodd\" fill-opacity=\"1\" stroke=\"none\"/>\n",
       "<circle clip-path=\"url(#clip043)\" cx=\"852.611\" cy=\"2204.27\" r=\"28\" fill=\"#000000\" fill-rule=\"evenodd\" fill-opacity=\"1\" stroke=\"none\"/>\n",
       "<circle clip-path=\"url(#clip043)\" cx=\"1219.33\" cy=\"2204.27\" r=\"28\" fill=\"#000000\" fill-rule=\"evenodd\" fill-opacity=\"1\" stroke=\"none\"/>\n",
       "<circle clip-path=\"url(#clip043)\" cx=\"1586.04\" cy=\"2204.27\" r=\"28\" fill=\"#000000\" fill-rule=\"evenodd\" fill-opacity=\"1\" stroke=\"none\"/>\n",
       "<path clip-path=\"url(#clip040)\" d=\"M 0 0 M401.509 2073.36 L401.509 2121.72 L449.86 2121.72 L449.86 2136.47 L401.509 2136.47 L401.509 2184.82 L386.926 2184.82 L386.926 2136.47 L338.576 2136.47 L338.576 2121.72 L386.926 2121.72 L386.926 2073.36 L401.509 2073.36 Z\" fill=\"#000000\" fill-rule=\"evenodd\" fill-opacity=\"1\" /><path clip-path=\"url(#clip040)\" d=\"M 0 0 M645.86 2129.01 L692.648 2129.01 L692.648 2143.24 L645.86 2143.24 L645.86 2129.01 Z\" fill=\"#000000\" fill-rule=\"evenodd\" fill-opacity=\"1\" /><path clip-path=\"url(#clip040)\" d=\"M 0 0 M1043.26 2073.36 L1043.26 2121.72 L1091.61 2121.72 L1091.61 2136.47 L1043.26 2136.47 L1043.26 2184.82 L1028.68 2184.82 L1028.68 2136.47 L980.327 2136.47 L980.327 2121.72 L1028.68 2121.72 L1028.68 2073.36 L1043.26 2073.36 Z\" fill=\"#000000\" fill-rule=\"evenodd\" fill-opacity=\"1\" /><path clip-path=\"url(#clip040)\" d=\"M 0 0 M1379.29 2129.01 L1426.08 2129.01 L1426.08 2143.24 L1379.29 2143.24 L1379.29 2129.01 Z\" fill=\"#000000\" fill-rule=\"evenodd\" fill-opacity=\"1\" /><path clip-path=\"url(#clip040)\" d=\"M 0 0 M1776.69 2073.36 L1776.69 2121.72 L1825.04 2121.72 L1825.04 2136.47 L1776.69 2136.47 L1776.69 2184.82 L1762.11 2184.82 L1762.11 2136.47 L1713.76 2136.47 L1713.76 2121.72 L1762.11 2121.72 L1762.11 2073.36 L1776.69 2073.36 Z\" fill=\"#000000\" fill-rule=\"evenodd\" fill-opacity=\"1\" /><path clip-path=\"url(#clip040)\" d=\"\n",
       "M265.867 2594.05 L1952.76 2594.05 L1952.76 2484.53 L265.867 2484.53  Z\n",
       "  \" fill=\"#ffffff\" fill-rule=\"evenodd\" fill-opacity=\"1\"/>\n",
       "<defs>\n",
       "  <clipPath id=\"clip044\">\n",
       "    <rect x=\"265\" y=\"2484\" width=\"1688\" height=\"111\"/>\n",
       "  </clipPath>\n",
       "</defs>\n",
       "<polyline clip-path=\"url(#clip044)\" style=\"stroke:#000000; stroke-width:2; stroke-opacity:0.1; fill:none\" points=\"\n",
       "  625.969,2594.05 625.969,2484.53 \n",
       "  \"/>\n",
       "<polyline clip-path=\"url(#clip044)\" style=\"stroke:#000000; stroke-width:2; stroke-opacity:0.1; fill:none\" points=\"\n",
       "  1035.97,2594.05 1035.97,2484.53 \n",
       "  \"/>\n",
       "<polyline clip-path=\"url(#clip044)\" style=\"stroke:#000000; stroke-width:2; stroke-opacity:0.1; fill:none\" points=\"\n",
       "  1445.97,2594.05 1445.97,2484.53 \n",
       "  \"/>\n",
       "<polyline clip-path=\"url(#clip040)\" style=\"stroke:#000000; stroke-width:4; stroke-opacity:0; fill:none\" points=\"\n",
       "  625.969,2594.05 625.969,2592.74 \n",
       "  \"/>\n",
       "<polyline clip-path=\"url(#clip040)\" style=\"stroke:#000000; stroke-width:4; stroke-opacity:0; fill:none\" points=\"\n",
       "  1035.97,2594.05 1035.97,2592.74 \n",
       "  \"/>\n",
       "<polyline clip-path=\"url(#clip040)\" style=\"stroke:#000000; stroke-width:4; stroke-opacity:0; fill:none\" points=\"\n",
       "  1445.97,2594.05 1445.97,2592.74 \n",
       "  \"/>\n",
       "<path clip-path=\"url(#clip040)\" d=\"M 0 0 M522.873 2713.49 L541.971 2713.49 L541.971 2647.58 L521.195 2651.75 L521.195 2641.1 L541.855 2636.93 L553.545 2636.93 L553.545 2713.49 L572.642 2713.49 L572.642 2723.33 L522.873 2723.33 L522.873 2713.49 Z\" fill=\"#000000\" fill-rule=\"evenodd\" fill-opacity=\"1\" /><path clip-path=\"url(#clip040)\" d=\"M 0 0 M585.315 2708.63 L597.526 2708.63 L597.526 2723.33 L585.315 2723.33 L585.315 2708.63 Z\" fill=\"#000000\" fill-rule=\"evenodd\" fill-opacity=\"1\" /><path clip-path=\"url(#clip040)\" d=\"M 0 0 M607.248 2636.93 L662.803 2636.93 L662.803 2641.91 L631.438 2723.33 L619.227 2723.33 L648.741 2646.77 L607.248 2646.77 L607.248 2636.93 Z\" fill=\"#000000\" fill-rule=\"evenodd\" fill-opacity=\"1\" /><path clip-path=\"url(#clip040)\" d=\"M 0 0 M701.923 2675.47 Q694.053 2675.47 689.424 2680.85 Q684.852 2686.24 684.852 2695.61 Q684.852 2704.93 689.424 2710.37 Q694.053 2715.75 701.923 2715.75 Q709.794 2715.75 714.366 2710.37 Q718.995 2704.93 718.995 2695.61 Q718.995 2686.24 714.366 2680.85 Q709.794 2675.47 701.923 2675.47 M725.129 2638.84 L725.129 2649.49 Q720.731 2647.41 716.217 2646.31 Q711.761 2645.21 707.363 2645.21 Q695.789 2645.21 689.655 2653.02 Q683.579 2660.83 682.711 2676.63 Q686.125 2671.6 691.275 2668.93 Q696.426 2666.21 702.618 2666.21 Q715.639 2666.21 723.162 2674.14 Q730.743 2682.01 730.743 2695.61 Q730.743 2708.92 722.872 2716.97 Q715.002 2725.01 701.923 2725.01 Q686.935 2725.01 679.007 2713.55 Q671.079 2702.03 671.079 2680.22 Q671.079 2659.73 680.801 2647.58 Q690.523 2635.37 706.9 2635.37 Q711.298 2635.37 715.754 2636.24 Q720.268 2637.1 725.129 2638.84 Z\" fill=\"#000000\" fill-rule=\"evenodd\" fill-opacity=\"1\" /><path clip-path=\"url(#clip040)\" d=\"M 0 0 M963.515 2647.12 L934.002 2693.24 L963.515 2693.24 L963.515 2647.12 M960.448 2636.93 L975.147 2636.93 L975.147 2693.24 L987.474 2693.24 L987.474 2702.96 L975.147 2702.96 L975.147 2723.33 L963.515 2723.33 L963.515 2702.96 L924.511 2702.96 L924.511 2691.68 L960.448 2636.93 Z\" fill=\"#000000\" fill-rule=\"evenodd\" fill-opacity=\"1\" /><path clip-path=\"url(#clip040)\" d=\"M 0 0 M1000.15 2708.63 L1012.36 2708.63 L1012.36 2723.33 L1000.15 2723.33 L1000.15 2708.63 Z\" fill=\"#000000\" fill-rule=\"evenodd\" fill-opacity=\"1\" /><path clip-path=\"url(#clip040)\" d=\"M 0 0 M1050.03 2644.63 Q1041 2644.63 1036.43 2653.54 Q1031.92 2662.39 1031.92 2680.22 Q1031.92 2697.98 1036.43 2706.9 Q1041 2715.75 1050.03 2715.75 Q1059.12 2715.75 1063.63 2706.9 Q1068.2 2697.98 1068.2 2680.22 Q1068.2 2662.39 1063.63 2653.54 Q1059.12 2644.63 1050.03 2644.63 M1050.03 2635.37 Q1064.56 2635.37 1072.2 2646.88 Q1079.89 2658.34 1079.89 2680.22 Q1079.89 2702.03 1072.2 2713.55 Q1064.56 2725.01 1050.03 2725.01 Q1035.51 2725.01 1027.81 2713.55 Q1020.17 2702.03 1020.17 2680.22 Q1020.17 2658.34 1027.81 2646.88 Q1035.51 2635.37 1050.03 2635.37 Z\" fill=\"#000000\" fill-rule=\"evenodd\" fill-opacity=\"1\" /><path clip-path=\"url(#clip040)\" d=\"M 0 0 M1117.57 2644.63 Q1108.54 2644.63 1103.97 2653.54 Q1099.45 2662.39 1099.45 2680.22 Q1099.45 2697.98 1103.97 2706.9 Q1108.54 2715.75 1117.57 2715.75 Q1126.65 2715.75 1131.16 2706.9 Q1135.74 2697.98 1135.74 2680.22 Q1135.74 2662.39 1131.16 2653.54 Q1126.65 2644.63 1117.57 2644.63 M1117.57 2635.37 Q1132.09 2635.37 1139.73 2646.88 Q1147.43 2658.34 1147.43 2680.22 Q1147.43 2702.03 1139.73 2713.55 Q1132.09 2725.01 1117.57 2725.01 Q1103.04 2725.01 1095.34 2713.55 Q1087.7 2702.03 1087.7 2680.22 Q1087.7 2658.34 1095.34 2646.88 Q1103.04 2635.37 1117.57 2635.37 Z\" fill=\"#000000\" fill-rule=\"evenodd\" fill-opacity=\"1\" /><path clip-path=\"url(#clip040)\" d=\"M 0 0 M1368.39 2675.47 Q1360.52 2675.47 1355.89 2680.85 Q1351.32 2686.24 1351.32 2695.61 Q1351.32 2704.93 1355.89 2710.37 Q1360.52 2715.75 1368.39 2715.75 Q1376.26 2715.75 1380.84 2710.37 Q1385.47 2704.93 1385.47 2695.61 Q1385.47 2686.24 1380.84 2680.85 Q1376.26 2675.47 1368.39 2675.47 M1391.6 2638.84 L1391.6 2649.49 Q1387.2 2647.41 1382.69 2646.31 Q1378.23 2645.21 1373.83 2645.21 Q1362.26 2645.21 1356.13 2653.02 Q1350.05 2660.83 1349.18 2676.63 Q1352.6 2671.6 1357.75 2668.93 Q1362.9 2666.21 1369.09 2666.21 Q1382.11 2666.21 1389.63 2674.14 Q1397.21 2682.01 1397.21 2695.61 Q1397.21 2708.92 1389.34 2716.97 Q1381.47 2725.01 1368.39 2725.01 Q1353.41 2725.01 1345.48 2713.55 Q1337.55 2702.03 1337.55 2680.22 Q1337.55 2659.73 1347.27 2647.58 Q1356.99 2635.37 1373.37 2635.37 Q1377.77 2635.37 1382.22 2636.24 Q1386.74 2637.1 1391.6 2638.84 Z\" fill=\"#000000\" fill-rule=\"evenodd\" fill-opacity=\"1\" /><path clip-path=\"url(#clip040)\" d=\"M 0 0 M1409.89 2708.63 L1422.1 2708.63 L1422.1 2723.33 L1409.89 2723.33 L1409.89 2708.63 Z\" fill=\"#000000\" fill-rule=\"evenodd\" fill-opacity=\"1\" /><path clip-path=\"url(#clip040)\" d=\"M 0 0 M1444.84 2713.49 L1485.64 2713.49 L1485.64 2723.33 L1430.78 2723.33 L1430.78 2713.49 Q1437.43 2706.61 1448.89 2695.03 Q1460.41 2683.4 1463.36 2680.04 Q1468.97 2673.74 1471.17 2669.4 Q1473.43 2665 1473.43 2660.77 Q1473.43 2653.89 1468.57 2649.55 Q1463.76 2645.21 1456.01 2645.21 Q1450.51 2645.21 1444.38 2647.12 Q1438.3 2649.03 1431.36 2652.9 L1431.36 2641.1 Q1438.42 2638.26 1444.55 2636.82 Q1450.68 2635.37 1455.78 2635.37 Q1469.2 2635.37 1477.19 2642.08 Q1485.18 2648.79 1485.18 2660.02 Q1485.18 2665.35 1483.15 2670.15 Q1481.18 2674.89 1475.92 2681.38 Q1474.47 2683.05 1466.71 2691.1 Q1458.96 2699.08 1444.84 2713.49 Z\" fill=\"#000000\" fill-rule=\"evenodd\" fill-opacity=\"1\" /><path clip-path=\"url(#clip040)\" d=\"M 0 0 M1530.43 2647.12 L1500.92 2693.24 L1530.43 2693.24 L1530.43 2647.12 M1527.36 2636.93 L1542.06 2636.93 L1542.06 2693.24 L1554.39 2693.24 L1554.39 2702.96 L1542.06 2702.96 L1542.06 2723.33 L1530.43 2723.33 L1530.43 2702.96 L1491.43 2702.96 L1491.43 2691.68 L1527.36 2636.93 Z\" fill=\"#000000\" fill-rule=\"evenodd\" fill-opacity=\"1\" /><polyline clip-path=\"url(#clip044)\" style=\"stroke:#000000; stroke-width:2; stroke-opacity:0.1; fill:none\" points=\"\n",
       "  265.867,2585.63 1952.76,2585.63 \n",
       "  \"/>\n",
       "<polyline clip-path=\"url(#clip044)\" style=\"stroke:#000000; stroke-width:2; stroke-opacity:0.1; fill:none\" points=\"\n",
       "  265.867,2568.78 1952.76,2568.78 \n",
       "  \"/>\n",
       "<polyline clip-path=\"url(#clip044)\" style=\"stroke:#000000; stroke-width:2; stroke-opacity:0.1; fill:none\" points=\"\n",
       "  265.867,2551.93 1952.76,2551.93 \n",
       "  \"/>\n",
       "<polyline clip-path=\"url(#clip044)\" style=\"stroke:#000000; stroke-width:2; stroke-opacity:0.1; fill:none\" points=\"\n",
       "  265.867,2535.08 1952.76,2535.08 \n",
       "  \"/>\n",
       "<polyline clip-path=\"url(#clip044)\" style=\"stroke:#000000; stroke-width:2; stroke-opacity:0.1; fill:none\" points=\"\n",
       "  265.867,2518.23 1952.76,2518.23 \n",
       "  \"/>\n",
       "<polyline clip-path=\"url(#clip044)\" style=\"stroke:#000000; stroke-width:2; stroke-opacity:0.1; fill:none\" points=\"\n",
       "  265.867,2501.38 1952.76,2501.38 \n",
       "  \"/>\n",
       "<path clip-path=\"url(#clip040)\" d=\"M 0 0 M95.588 2550.12 Q86.5603 2550.12 81.9885 2559.03 Q77.4747 2567.89 77.4747 2585.71 Q77.4747 2603.48 81.9885 2612.39 Q86.5603 2621.25 95.588 2621.25 Q104.674 2621.25 109.187 2612.39 Q113.759 2603.48 113.759 2585.71 Q113.759 2567.89 109.187 2559.03 Q104.674 2550.12 95.588 2550.12 M95.588 2540.86 Q110.113 2540.86 117.752 2552.38 Q125.449 2563.84 125.449 2585.71 Q125.449 2607.53 117.752 2619.05 Q110.113 2630.5 95.588 2630.5 Q81.0626 2630.5 73.3659 2619.05 Q65.7271 2607.53 65.7271 2585.71 Q65.7271 2563.84 73.3659 2552.38 Q81.0626 2540.86 95.588 2540.86 Z\" fill=\"#000000\" fill-rule=\"evenodd\" fill-opacity=\"1\" /><path clip-path=\"url(#clip040)\" d=\"M 0 0 M138.123 2614.13 L150.333 2614.13 L150.333 2628.83 L138.123 2628.83 L138.123 2614.13 Z\" fill=\"#000000\" fill-rule=\"evenodd\" fill-opacity=\"1\" /><path clip-path=\"url(#clip040)\" d=\"M 0 0 M188.006 2550.12 Q178.979 2550.12 174.407 2559.03 Q169.893 2567.89 169.893 2585.71 Q169.893 2603.48 174.407 2612.39 Q178.979 2621.25 188.006 2621.25 Q197.092 2621.25 201.606 2612.39 Q206.178 2603.48 206.178 2585.71 Q206.178 2567.89 201.606 2559.03 Q197.092 2550.12 188.006 2550.12 M188.006 2540.86 Q202.532 2540.86 210.171 2552.38 Q217.867 2563.84 217.867 2585.71 Q217.867 2607.53 210.171 2619.05 Q202.532 2630.5 188.006 2630.5 Q173.481 2630.5 165.784 2619.05 Q158.146 2607.53 158.146 2585.71 Q158.146 2563.84 165.784 2552.38 Q173.481 2540.86 188.006 2540.86 Z\" fill=\"#000000\" fill-rule=\"evenodd\" fill-opacity=\"1\" /><path clip-path=\"url(#clip040)\" d=\"M 0 0 M98.6551 2533.27 Q89.6274 2533.27 85.0557 2542.19 Q80.5418 2551.04 80.5418 2568.86 Q80.5418 2586.63 85.0557 2595.54 Q89.6274 2604.4 98.6551 2604.4 Q107.741 2604.4 112.255 2595.54 Q116.826 2586.63 116.826 2568.86 Q116.826 2551.04 112.255 2542.19 Q107.741 2533.27 98.6551 2533.27 M98.6551 2524.01 Q113.181 2524.01 120.819 2535.53 Q128.516 2546.99 128.516 2568.86 Q128.516 2590.68 120.819 2602.2 Q113.181 2613.66 98.6551 2613.66 Q84.1297 2613.66 76.433 2602.2 Q68.7942 2590.68 68.7942 2568.86 Q68.7942 2546.99 76.433 2535.53 Q84.1297 2524.01 98.6551 2524.01 Z\" fill=\"#000000\" fill-rule=\"evenodd\" fill-opacity=\"1\" /><path clip-path=\"url(#clip040)\" d=\"M 0 0 M141.19 2597.28 L153.4 2597.28 L153.4 2611.98 L141.19 2611.98 L141.19 2597.28 Z\" fill=\"#000000\" fill-rule=\"evenodd\" fill-opacity=\"1\" /><path clip-path=\"url(#clip040)\" d=\"M 0 0 M168.099 2602.14 L187.196 2602.14 L187.196 2536.22 L166.421 2540.39 L166.421 2529.74 L187.081 2525.58 L198.77 2525.58 L198.77 2602.14 L217.867 2602.14 L217.867 2611.98 L168.099 2611.98 L168.099 2602.14 Z\" fill=\"#000000\" fill-rule=\"evenodd\" fill-opacity=\"1\" /><path clip-path=\"url(#clip040)\" d=\"M 0 0 M99.581 2516.42 Q90.5533 2516.42 85.9816 2525.34 Q81.4677 2534.19 81.4677 2552.01 Q81.4677 2569.78 85.9816 2578.69 Q90.5533 2587.55 99.581 2587.55 Q108.667 2587.55 113.181 2578.69 Q117.752 2569.78 117.752 2552.01 Q117.752 2534.19 113.181 2525.34 Q108.667 2516.42 99.581 2516.42 M99.581 2507.17 Q114.106 2507.17 121.745 2518.68 Q129.442 2530.14 129.442 2552.01 Q129.442 2573.83 121.745 2585.35 Q114.106 2596.81 99.581 2596.81 Q85.0557 2596.81 77.3589 2585.35 Q69.7201 2573.83 69.7201 2552.01 Q69.7201 2530.14 77.3589 2518.68 Q85.0557 2507.17 99.581 2507.17 Z\" fill=\"#000000\" fill-rule=\"evenodd\" fill-opacity=\"1\" /><path clip-path=\"url(#clip040)\" d=\"M 0 0 M142.116 2580.43 L154.326 2580.43 L154.326 2595.13 L142.116 2595.13 L142.116 2580.43 Z\" fill=\"#000000\" fill-rule=\"evenodd\" fill-opacity=\"1\" /><path clip-path=\"url(#clip040)\" d=\"M 0 0 M177.069 2585.29 L217.867 2585.29 L217.867 2595.13 L163.007 2595.13 L163.007 2585.29 Q169.662 2578.4 181.12 2566.83 Q192.636 2555.2 195.587 2551.84 Q201.201 2545.53 203.4 2541.19 Q205.657 2536.79 205.657 2532.57 Q205.657 2525.68 200.796 2521.34 Q195.993 2517 188.238 2517 Q182.74 2517 176.606 2518.91 Q170.53 2520.82 163.585 2524.7 L163.585 2512.89 Q170.645 2510.06 176.78 2508.61 Q182.914 2507.17 188.006 2507.17 Q201.432 2507.17 209.418 2513.88 Q217.404 2520.59 217.404 2531.82 Q217.404 2537.14 215.379 2541.94 Q213.411 2546.69 208.145 2553.17 Q206.699 2554.85 198.944 2562.89 Q191.189 2570.88 177.069 2585.29 Z\" fill=\"#000000\" fill-rule=\"evenodd\" fill-opacity=\"1\" /><path clip-path=\"url(#clip040)\" d=\"M 0 0 M97.2084 2499.57 Q88.1806 2499.57 83.6089 2508.49 Q79.095 2517.34 79.095 2535.16 Q79.095 2552.93 83.6089 2561.84 Q88.1806 2570.7 97.2084 2570.7 Q106.294 2570.7 110.808 2561.84 Q115.38 2552.93 115.38 2535.16 Q115.38 2517.34 110.808 2508.49 Q106.294 2499.57 97.2084 2499.57 M97.2084 2490.32 Q111.734 2490.32 119.373 2501.83 Q127.069 2513.29 127.069 2535.16 Q127.069 2556.98 119.373 2568.5 Q111.734 2579.96 97.2084 2579.96 Q82.683 2579.96 74.9863 2568.5 Q67.3474 2556.98 67.3474 2535.16 Q67.3474 2513.29 74.9863 2501.83 Q82.683 2490.32 97.2084 2490.32 Z\" fill=\"#000000\" fill-rule=\"evenodd\" fill-opacity=\"1\" /><path clip-path=\"url(#clip040)\" d=\"M 0 0 M139.743 2563.58 L151.953 2563.58 L151.953 2578.28 L139.743 2578.28 L139.743 2563.58 Z\" fill=\"#000000\" fill-rule=\"evenodd\" fill-opacity=\"1\" /><path clip-path=\"url(#clip040)\" d=\"M 0 0 M200.043 2531.69 Q208.435 2533.49 213.122 2539.16 Q217.867 2544.83 217.867 2553.16 Q217.867 2565.95 209.071 2572.95 Q200.275 2579.96 184.071 2579.96 Q178.632 2579.96 172.845 2578.86 Q167.115 2577.82 160.981 2575.67 L160.981 2564.39 Q165.842 2567.23 171.629 2568.67 Q177.416 2570.12 183.724 2570.12 Q194.719 2570.12 200.449 2565.78 Q206.236 2561.44 206.236 2553.16 Q206.236 2545.52 200.854 2541.24 Q195.53 2536.9 185.981 2536.9 L175.912 2536.9 L175.912 2527.29 L186.444 2527.29 Q195.067 2527.29 199.638 2523.88 Q204.21 2520.41 204.21 2513.93 Q204.21 2507.27 199.465 2503.74 Q194.777 2500.15 185.981 2500.15 Q181.178 2500.15 175.68 2501.2 Q170.183 2502.24 163.585 2504.44 L163.585 2494.02 Q170.24 2492.17 176.027 2491.24 Q181.872 2490.32 187.023 2490.32 Q200.333 2490.32 208.087 2496.39 Q215.842 2502.41 215.842 2512.71 Q215.842 2519.89 211.733 2524.86 Q207.624 2529.78 200.043 2531.69 Z\" fill=\"#000000\" fill-rule=\"evenodd\" fill-opacity=\"1\" /><path clip-path=\"url(#clip040)\" d=\"M 0 0 M94.3727 2482.73 Q85.345 2482.73 80.7733 2491.64 Q76.2594 2500.49 76.2594 2518.32 Q76.2594 2536.08 80.7733 2544.99 Q85.345 2553.85 94.3727 2553.85 Q103.458 2553.85 107.972 2544.99 Q112.544 2536.08 112.544 2518.32 Q112.544 2500.49 107.972 2491.64 Q103.458 2482.73 94.3727 2482.73 M94.3727 2473.47 Q108.898 2473.47 116.537 2484.98 Q124.234 2496.44 124.234 2518.32 Q124.234 2540.13 116.537 2551.65 Q108.898 2563.11 94.3727 2563.11 Q79.8474 2563.11 72.1506 2551.65 Q64.5118 2540.13 64.5118 2518.32 Q64.5118 2496.44 72.1506 2484.98 Q79.8474 2473.47 94.3727 2473.47 Z\" fill=\"#000000\" fill-rule=\"evenodd\" fill-opacity=\"1\" /><path clip-path=\"url(#clip040)\" d=\"M 0 0 M136.907 2546.73 L149.118 2546.73 L149.118 2561.43 L136.907 2561.43 L136.907 2546.73 Z\" fill=\"#000000\" fill-rule=\"evenodd\" fill-opacity=\"1\" /><path clip-path=\"url(#clip040)\" d=\"M 0 0 M193.909 2485.21 L164.396 2531.34 L193.909 2531.34 L193.909 2485.21 M190.842 2475.03 L205.541 2475.03 L205.541 2531.34 L217.867 2531.34 L217.867 2541.06 L205.541 2541.06 L205.541 2561.43 L193.909 2561.43 L193.909 2541.06 L154.905 2541.06 L154.905 2529.77 L190.842 2475.03 Z\" fill=\"#000000\" fill-rule=\"evenodd\" fill-opacity=\"1\" /><path clip-path=\"url(#clip040)\" d=\"M 0 0 M98.0764 2465.88 Q89.0487 2465.88 84.477 2474.79 Q79.9631 2483.64 79.9631 2501.47 Q79.9631 2519.23 84.477 2528.14 Q89.0487 2537 98.0764 2537 Q107.162 2537 111.676 2528.14 Q116.248 2519.23 116.248 2501.47 Q116.248 2483.64 111.676 2474.79 Q107.162 2465.88 98.0764 2465.88 M98.0764 2456.62 Q112.602 2456.62 120.241 2468.13 Q127.937 2479.59 127.937 2501.47 Q127.937 2523.28 120.241 2534.8 Q112.602 2546.26 98.0764 2546.26 Q83.551 2546.26 75.8543 2534.8 Q68.2155 2523.28 68.2155 2501.47 Q68.2155 2479.59 75.8543 2468.13 Q83.551 2456.62 98.0764 2456.62 Z\" fill=\"#000000\" fill-rule=\"evenodd\" fill-opacity=\"1\" /><path clip-path=\"url(#clip040)\" d=\"M 0 0 M140.611 2529.88 L152.821 2529.88 L152.821 2544.58 L140.611 2544.58 L140.611 2529.88 Z\" fill=\"#000000\" fill-rule=\"evenodd\" fill-opacity=\"1\" /><path clip-path=\"url(#clip040)\" d=\"M 0 0 M165.611 2458.18 L211.502 2458.18 L211.502 2468.02 L176.317 2468.02 L176.317 2489.2 Q178.863 2488.33 181.409 2487.92 Q183.956 2487.46 186.502 2487.46 Q200.969 2487.46 209.418 2495.39 Q217.867 2503.32 217.867 2516.86 Q217.867 2530.81 209.187 2538.56 Q200.506 2546.26 184.708 2546.26 Q179.268 2546.26 173.597 2545.33 Q167.983 2544.41 161.965 2542.55 L161.965 2530.81 Q167.173 2533.64 172.729 2535.03 Q178.284 2536.42 184.476 2536.42 Q194.488 2536.42 200.333 2531.15 Q206.178 2525.89 206.178 2516.86 Q206.178 2507.83 200.333 2502.57 Q194.488 2497.3 184.476 2497.3 Q179.789 2497.3 175.101 2498.34 Q170.472 2499.38 165.611 2501.58 L165.611 2458.18 Z\" fill=\"#000000\" fill-rule=\"evenodd\" fill-opacity=\"1\" /><path clip-path=\"url(#clip040)\" d=\"M 0 0 M16.4636 2555.79 Q22.9248 2555.79 26.6169 2553.15 Q30.2772 2550.48 30.2772 2545.83 Q30.2772 2541.18 26.6169 2538.51 Q22.9248 2535.84 16.4636 2535.84 Q10.0024 2535.84 6.34216 2538.51 Q2.65005 2541.18 2.65005 2545.83 Q2.65005 2550.48 6.34216 2553.15 Q10.0024 2555.79 16.4636 2555.79 M28.9086 2535.84 Q32.0914 2537.68 33.651 2540.52 Q35.1788 2543.32 35.1788 2547.26 Q35.1788 2553.72 30.0226 2557.8 Q24.8664 2561.84 16.4636 2561.84 Q8.0609 2561.84 2.90468 2557.8 Q-2.25154 2553.72 -2.25154 2547.26 Q-2.25154 2543.32 -0.691944 2540.52 Q0.835825 2537.68 4.01868 2535.84 L-1.39217 2535.84 L-1.39217 2529.98 L47.8147 2529.98 L47.8147 2535.84 L28.9086 2535.84 Z\" fill=\"#000000\" fill-rule=\"evenodd\" fill-opacity=\"1\" /><path clip-path=\"url(#clip040)\" d=\"M 0 0 M-1.39217 2528.71 L-13.2642 2523.2 L-13.2642 2516.74 L-1.39217 2525.94 L-1.39217 2528.71 Z\" fill=\"#000000\" fill-rule=\"evenodd\" fill-opacity=\"1\" /><polyline clip-path=\"url(#clip044)\" style=\"stroke:#009af9; stroke-width:4; stroke-opacity:1; fill:none\" points=\"\n",
       "  464.254,2585.63 830.969,2585.63 1240.97,2585.63 1699.36,2585.63 \n",
       "  \"/>\n",
       "<polyline clip-path=\"url(#clip044)\" style=\"stroke:#000000; stroke-width:4; stroke-opacity:1; fill:none\" points=\"\n",
       "  -1421.02,2585.63 3639.64,2585.63 \n",
       "  \"/>\n",
       "<polyline clip-path=\"url(#clip044)\" style=\"stroke:#ff0000; stroke-width:4; stroke-opacity:1; fill:none\" stroke-dasharray=\"16, 10\" points=\"\n",
       "  625.969,2703.57 625.969,2375.01 \n",
       "  \"/>\n",
       "<polyline clip-path=\"url(#clip044)\" style=\"stroke:#ff0000; stroke-width:4; stroke-opacity:1; fill:none\" stroke-dasharray=\"16, 10\" points=\"\n",
       "  1035.97,2703.57 1035.97,2375.01 \n",
       "  \"/>\n",
       "<polyline clip-path=\"url(#clip044)\" style=\"stroke:#ff0000; stroke-width:4; stroke-opacity:1; fill:none\" stroke-dasharray=\"16, 10\" points=\"\n",
       "  1445.97,2703.57 1445.97,2375.01 \n",
       "  \"/>\n",
       "<circle clip-path=\"url(#clip044)\" cx=\"625.969\" cy=\"2585.63\" r=\"28\" fill=\"#000000\" fill-rule=\"evenodd\" fill-opacity=\"1\" stroke=\"none\"/>\n",
       "<circle clip-path=\"url(#clip044)\" cx=\"1035.97\" cy=\"2585.63\" r=\"28\" fill=\"#000000\" fill-rule=\"evenodd\" fill-opacity=\"1\" stroke=\"none\"/>\n",
       "<circle clip-path=\"url(#clip044)\" cx=\"1445.97\" cy=\"2585.63\" r=\"28\" fill=\"#000000\" fill-rule=\"evenodd\" fill-opacity=\"1\" stroke=\"none\"/>\n",
       "<path clip-path=\"url(#clip040)\" d=\"M 0 0 M440.86 2510.36 L487.648 2510.36 L487.648 2524.6 L440.86 2524.6 L440.86 2510.36 Z\" fill=\"#000000\" fill-rule=\"evenodd\" fill-opacity=\"1\" /><path clip-path=\"url(#clip040)\" d=\"M 0 0 M838.26 2454.72 L838.26 2503.07 L886.611 2503.07 L886.611 2517.83 L838.26 2517.83 L838.26 2566.18 L823.677 2566.18 L823.677 2517.83 L775.327 2517.83 L775.327 2503.07 L823.677 2503.07 L823.677 2454.72 L838.26 2454.72 Z\" fill=\"#000000\" fill-rule=\"evenodd\" fill-opacity=\"1\" /><path clip-path=\"url(#clip040)\" d=\"M 0 0 M1217.57 2510.36 L1264.36 2510.36 L1264.36 2524.6 L1217.57 2524.6 L1217.57 2510.36 Z\" fill=\"#000000\" fill-rule=\"evenodd\" fill-opacity=\"1\" /><path clip-path=\"url(#clip040)\" d=\"M 0 0 M1706.65 2454.72 L1706.65 2503.07 L1755 2503.07 L1755 2517.83 L1706.65 2517.83 L1706.65 2566.18 L1692.07 2566.18 L1692.07 2517.83 L1643.72 2517.83 L1643.72 2503.07 L1692.07 2503.07 L1692.07 2454.72 L1706.65 2454.72 Z\" fill=\"#000000\" fill-rule=\"evenodd\" fill-opacity=\"1\" /><path clip-path=\"url(#clip040)\" d=\"\n",
       "M265.867 2975.41 L1952.76 2975.41 L1952.76 2865.89 L265.867 2865.89  Z\n",
       "  \" fill=\"#ffffff\" fill-rule=\"evenodd\" fill-opacity=\"1\"/>\n",
       "<defs>\n",
       "  <clipPath id=\"clip045\">\n",
       "    <rect x=\"265\" y=\"2865\" width=\"1688\" height=\"111\"/>\n",
       "  </clipPath>\n",
       "</defs>\n",
       "<polyline clip-path=\"url(#clip045)\" style=\"stroke:#000000; stroke-width:2; stroke-opacity:0.1; fill:none\" points=\"\n",
       "  799.255,2975.41 799.255,2865.89 \n",
       "  \"/>\n",
       "<polyline clip-path=\"url(#clip045)\" style=\"stroke:#000000; stroke-width:2; stroke-opacity:0.1; fill:none\" points=\"\n",
       "  1272.68,2975.41 1272.68,2865.89 \n",
       "  \"/>\n",
       "<polyline clip-path=\"url(#clip040)\" style=\"stroke:#000000; stroke-width:4; stroke-opacity:0; fill:none\" points=\"\n",
       "  799.255,2975.41 799.255,2974.09 \n",
       "  \"/>\n",
       "<polyline clip-path=\"url(#clip040)\" style=\"stroke:#000000; stroke-width:4; stroke-opacity:0; fill:none\" points=\"\n",
       "  1272.68,2975.41 1272.68,2974.09 \n",
       "  \"/>\n",
       "<path clip-path=\"url(#clip040)\" d=\"M 0 0 M708.573 3094.85 L749.371 3094.85 L749.371 3104.69 L694.51 3104.69 L694.51 3094.85 Q701.166 3087.96 712.624 3076.39 Q724.14 3064.76 727.091 3061.4 Q732.705 3055.09 734.904 3050.75 Q737.161 3046.35 737.161 3042.13 Q737.161 3035.24 732.3 3030.9 Q727.496 3026.56 719.742 3026.56 Q714.244 3026.56 708.11 3028.47 Q702.034 3030.38 695.089 3034.26 L695.089 3022.45 Q702.149 3019.62 708.284 3018.17 Q714.418 3016.73 719.51 3016.73 Q732.936 3016.73 740.922 3023.44 Q748.908 3030.15 748.908 3041.38 Q748.908 3046.7 746.883 3051.51 Q744.915 3056.25 739.649 3062.73 Q738.202 3064.41 730.448 3072.45 Q722.693 3080.44 708.573 3094.85 Z\" fill=\"#000000\" fill-rule=\"evenodd\" fill-opacity=\"1\" /><path clip-path=\"url(#clip040)\" d=\"M 0 0 M762.045 3089.99 L774.255 3089.99 L774.255 3104.69 L762.045 3104.69 L762.045 3089.99 Z\" fill=\"#000000\" fill-rule=\"evenodd\" fill-opacity=\"1\" /><path clip-path=\"url(#clip040)\" d=\"M 0 0 M783.978 3018.29 L839.533 3018.29 L839.533 3023.26 L808.167 3104.69 L795.957 3104.69 L825.47 3028.13 L783.978 3028.13 L783.978 3018.29 Z\" fill=\"#000000\" fill-rule=\"evenodd\" fill-opacity=\"1\" /><path clip-path=\"url(#clip040)\" d=\"M 0 0 M854.232 3094.85 L873.329 3094.85 L873.329 3028.94 L852.554 3033.1 L852.554 3022.45 L873.213 3018.29 L884.903 3018.29 L884.903 3094.85 L904 3094.85 L904 3104.69 L854.232 3104.69 L854.232 3094.85 Z\" fill=\"#000000\" fill-rule=\"evenodd\" fill-opacity=\"1\" /><path clip-path=\"url(#clip040)\" d=\"M 0 0 M1170.63 3018.29 L1216.52 3018.29 L1216.52 3028.13 L1181.33 3028.13 L1181.33 3049.31 Q1183.88 3048.44 1186.43 3048.03 Q1188.97 3047.57 1191.52 3047.57 Q1205.99 3047.57 1214.44 3055.5 Q1222.88 3063.43 1222.88 3076.97 Q1222.88 3090.91 1214.2 3098.67 Q1205.52 3106.37 1189.73 3106.37 Q1184.29 3106.37 1178.61 3105.44 Q1173 3104.51 1166.98 3102.66 L1166.98 3090.91 Q1172.19 3093.75 1177.75 3095.14 Q1183.3 3096.53 1189.49 3096.53 Q1199.51 3096.53 1205.35 3091.26 Q1211.2 3086 1211.2 3076.97 Q1211.2 3067.94 1205.35 3062.67 Q1199.51 3057.41 1189.49 3057.41 Q1184.81 3057.41 1180.12 3058.45 Q1175.49 3059.49 1170.63 3061.69 L1170.63 3018.29 Z\" fill=\"#000000\" fill-rule=\"evenodd\" fill-opacity=\"1\" /><path clip-path=\"url(#clip040)\" d=\"M 0 0 M1235.56 3089.99 L1247.77 3089.99 L1247.77 3104.69 L1235.56 3104.69 L1235.56 3089.99 Z\" fill=\"#000000\" fill-rule=\"evenodd\" fill-opacity=\"1\" /><path clip-path=\"url(#clip040)\" d=\"M 0 0 M1270.51 3094.85 L1311.31 3094.85 L1311.31 3104.69 L1256.45 3104.69 L1256.45 3094.85 Q1263.1 3087.96 1274.56 3076.39 Q1286.08 3064.76 1289.03 3061.4 Q1294.64 3055.09 1296.84 3050.75 Q1299.1 3046.35 1299.1 3042.13 Q1299.1 3035.24 1294.24 3030.9 Q1289.44 3026.56 1281.68 3026.56 Q1276.18 3026.56 1270.05 3028.47 Q1263.97 3030.38 1257.03 3034.26 L1257.03 3022.45 Q1264.09 3019.62 1270.22 3018.17 Q1276.36 3016.73 1281.45 3016.73 Q1294.88 3016.73 1302.86 3023.44 Q1310.85 3030.15 1310.85 3041.38 Q1310.85 3046.7 1308.82 3051.51 Q1306.85 3056.25 1301.59 3062.73 Q1300.14 3064.41 1292.39 3072.45 Q1284.63 3080.44 1270.51 3094.85 Z\" fill=\"#000000\" fill-rule=\"evenodd\" fill-opacity=\"1\" /><path clip-path=\"url(#clip040)\" d=\"M 0 0 M1324.33 3102.89 L1324.33 3092.25 Q1328.73 3094.33 1333.24 3095.43 Q1337.76 3096.53 1342.1 3096.53 Q1353.67 3096.53 1359.75 3088.77 Q1365.88 3080.96 1366.75 3065.1 Q1363.39 3070.08 1358.24 3072.74 Q1353.09 3075.41 1346.84 3075.41 Q1333.88 3075.41 1326.3 3067.59 Q1318.78 3059.72 1318.78 3046.12 Q1318.78 3032.81 1326.65 3024.77 Q1334.52 3016.73 1347.59 3016.73 Q1362.58 3016.73 1370.45 3028.24 Q1378.38 3039.7 1378.38 3061.57 Q1378.38 3082 1368.66 3094.21 Q1359 3106.37 1342.62 3106.37 Q1338.22 3106.37 1333.71 3105.5 Q1329.19 3104.63 1324.33 3102.89 M1347.59 3066.26 Q1355.47 3066.26 1360.04 3060.88 Q1364.67 3055.5 1364.67 3046.12 Q1364.67 3036.81 1360.04 3031.42 Q1355.47 3025.98 1347.59 3025.98 Q1339.72 3025.98 1335.09 3031.42 Q1330.52 3036.81 1330.52 3046.12 Q1330.52 3055.5 1335.09 3060.88 Q1339.72 3066.26 1347.59 3066.26 Z\" fill=\"#000000\" fill-rule=\"evenodd\" fill-opacity=\"1\" /><polyline clip-path=\"url(#clip045)\" style=\"stroke:#000000; stroke-width:2; stroke-opacity:0.1; fill:none\" points=\"\n",
       "  265.867,2966.98 1952.76,2966.98 \n",
       "  \"/>\n",
       "<polyline clip-path=\"url(#clip045)\" style=\"stroke:#000000; stroke-width:2; stroke-opacity:0.1; fill:none\" points=\"\n",
       "  265.867,2950.13 1952.76,2950.13 \n",
       "  \"/>\n",
       "<polyline clip-path=\"url(#clip045)\" style=\"stroke:#000000; stroke-width:2; stroke-opacity:0.1; fill:none\" points=\"\n",
       "  265.867,2933.28 1952.76,2933.28 \n",
       "  \"/>\n",
       "<polyline clip-path=\"url(#clip045)\" style=\"stroke:#000000; stroke-width:2; stroke-opacity:0.1; fill:none\" points=\"\n",
       "  265.867,2916.44 1952.76,2916.44 \n",
       "  \"/>\n",
       "<polyline clip-path=\"url(#clip045)\" style=\"stroke:#000000; stroke-width:2; stroke-opacity:0.1; fill:none\" points=\"\n",
       "  265.867,2899.59 1952.76,2899.59 \n",
       "  \"/>\n",
       "<polyline clip-path=\"url(#clip045)\" style=\"stroke:#000000; stroke-width:2; stroke-opacity:0.1; fill:none\" points=\"\n",
       "  265.867,2882.74 1952.76,2882.74 \n",
       "  \"/>\n",
       "<path clip-path=\"url(#clip040)\" d=\"M 0 0 M95.588 2931.48 Q86.5603 2931.48 81.9885 2940.39 Q77.4747 2949.25 77.4747 2967.07 Q77.4747 2984.84 81.9885 2993.75 Q86.5603 3002.6 95.588 3002.6 Q104.674 3002.6 109.187 2993.75 Q113.759 2984.84 113.759 2967.07 Q113.759 2949.25 109.187 2940.39 Q104.674 2931.48 95.588 2931.48 M95.588 2922.22 Q110.113 2922.22 117.752 2933.74 Q125.449 2945.2 125.449 2967.07 Q125.449 2988.89 117.752 3000.4 Q110.113 3011.86 95.588 3011.86 Q81.0626 3011.86 73.3659 3000.4 Q65.7271 2988.89 65.7271 2967.07 Q65.7271 2945.2 73.3659 2933.74 Q81.0626 2922.22 95.588 2922.22 Z\" fill=\"#000000\" fill-rule=\"evenodd\" fill-opacity=\"1\" /><path clip-path=\"url(#clip040)\" d=\"M 0 0 M138.123 2995.48 L150.333 2995.48 L150.333 3010.18 L138.123 3010.18 L138.123 2995.48 Z\" fill=\"#000000\" fill-rule=\"evenodd\" fill-opacity=\"1\" /><path clip-path=\"url(#clip040)\" d=\"M 0 0 M188.006 2931.48 Q178.979 2931.48 174.407 2940.39 Q169.893 2949.25 169.893 2967.07 Q169.893 2984.84 174.407 2993.75 Q178.979 3002.6 188.006 3002.6 Q197.092 3002.6 201.606 2993.75 Q206.178 2984.84 206.178 2967.07 Q206.178 2949.25 201.606 2940.39 Q197.092 2931.48 188.006 2931.48 M188.006 2922.22 Q202.532 2922.22 210.171 2933.74 Q217.867 2945.2 217.867 2967.07 Q217.867 2988.89 210.171 3000.4 Q202.532 3011.86 188.006 3011.86 Q173.481 3011.86 165.784 3000.4 Q158.146 2988.89 158.146 2967.07 Q158.146 2945.2 165.784 2933.74 Q173.481 2922.22 188.006 2922.22 Z\" fill=\"#000000\" fill-rule=\"evenodd\" fill-opacity=\"1\" /><path clip-path=\"url(#clip040)\" d=\"M 0 0 M98.6551 2914.63 Q89.6274 2914.63 85.0557 2923.54 Q80.5418 2932.4 80.5418 2950.22 Q80.5418 2967.99 85.0557 2976.9 Q89.6274 2985.75 98.6551 2985.75 Q107.741 2985.75 112.255 2976.9 Q116.826 2967.99 116.826 2950.22 Q116.826 2932.4 112.255 2923.54 Q107.741 2914.63 98.6551 2914.63 M98.6551 2905.37 Q113.181 2905.37 120.819 2916.89 Q128.516 2928.35 128.516 2950.22 Q128.516 2972.04 120.819 2983.55 Q113.181 2995.01 98.6551 2995.01 Q84.1297 2995.01 76.433 2983.55 Q68.7942 2972.04 68.7942 2950.22 Q68.7942 2928.35 76.433 2916.89 Q84.1297 2905.37 98.6551 2905.37 Z\" fill=\"#000000\" fill-rule=\"evenodd\" fill-opacity=\"1\" /><path clip-path=\"url(#clip040)\" d=\"M 0 0 M141.19 2978.63 L153.4 2978.63 L153.4 2993.33 L141.19 2993.33 L141.19 2978.63 Z\" fill=\"#000000\" fill-rule=\"evenodd\" fill-opacity=\"1\" /><path clip-path=\"url(#clip040)\" d=\"M 0 0 M168.099 2983.5 L187.196 2983.5 L187.196 2917.58 L166.421 2921.75 L166.421 2911.1 L187.081 2906.93 L198.77 2906.93 L198.77 2983.5 L217.867 2983.5 L217.867 2993.33 L168.099 2993.33 L168.099 2983.5 Z\" fill=\"#000000\" fill-rule=\"evenodd\" fill-opacity=\"1\" /><path clip-path=\"url(#clip040)\" d=\"M 0 0 M99.581 2897.78 Q90.5533 2897.78 85.9816 2906.69 Q81.4677 2915.55 81.4677 2933.37 Q81.4677 2951.14 85.9816 2960.05 Q90.5533 2968.9 99.581 2968.9 Q108.667 2968.9 113.181 2960.05 Q117.752 2951.14 117.752 2933.37 Q117.752 2915.55 113.181 2906.69 Q108.667 2897.78 99.581 2897.78 M99.581 2888.52 Q114.106 2888.52 121.745 2900.04 Q129.442 2911.5 129.442 2933.37 Q129.442 2955.19 121.745 2966.7 Q114.106 2978.16 99.581 2978.16 Q85.0557 2978.16 77.3589 2966.7 Q69.7201 2955.19 69.7201 2933.37 Q69.7201 2911.5 77.3589 2900.04 Q85.0557 2888.52 99.581 2888.52 Z\" fill=\"#000000\" fill-rule=\"evenodd\" fill-opacity=\"1\" /><path clip-path=\"url(#clip040)\" d=\"M 0 0 M142.116 2961.79 L154.326 2961.79 L154.326 2976.48 L142.116 2976.48 L142.116 2961.79 Z\" fill=\"#000000\" fill-rule=\"evenodd\" fill-opacity=\"1\" /><path clip-path=\"url(#clip040)\" d=\"M 0 0 M177.069 2966.65 L217.867 2966.65 L217.867 2976.48 L163.007 2976.48 L163.007 2966.65 Q169.662 2959.76 181.12 2948.19 Q192.636 2936.55 195.587 2933.2 Q201.201 2926.89 203.4 2922.55 Q205.657 2918.15 205.657 2913.93 Q205.657 2907.04 200.796 2902.7 Q195.993 2898.36 188.238 2898.36 Q182.74 2898.36 176.606 2900.27 Q170.53 2902.18 163.585 2906.06 L163.585 2894.25 Q170.645 2891.42 176.78 2889.97 Q182.914 2888.52 188.006 2888.52 Q201.432 2888.52 209.418 2895.23 Q217.404 2901.95 217.404 2913.17 Q217.404 2918.5 215.379 2923.3 Q213.411 2928.05 208.145 2934.53 Q206.699 2936.21 198.944 2944.25 Q191.189 2952.24 177.069 2966.65 Z\" fill=\"#000000\" fill-rule=\"evenodd\" fill-opacity=\"1\" /><path clip-path=\"url(#clip040)\" d=\"M 0 0 M97.2084 2880.93 Q88.1806 2880.93 83.6089 2889.84 Q79.095 2898.7 79.095 2916.52 Q79.095 2934.29 83.6089 2943.2 Q88.1806 2952.05 97.2084 2952.05 Q106.294 2952.05 110.808 2943.2 Q115.38 2934.29 115.38 2916.52 Q115.38 2898.7 110.808 2889.84 Q106.294 2880.93 97.2084 2880.93 M97.2084 2871.67 Q111.734 2871.67 119.373 2883.19 Q127.069 2894.65 127.069 2916.52 Q127.069 2938.34 119.373 2949.86 Q111.734 2961.31 97.2084 2961.31 Q82.683 2961.31 74.9863 2949.86 Q67.3474 2938.34 67.3474 2916.52 Q67.3474 2894.65 74.9863 2883.19 Q82.683 2871.67 97.2084 2871.67 Z\" fill=\"#000000\" fill-rule=\"evenodd\" fill-opacity=\"1\" /><path clip-path=\"url(#clip040)\" d=\"M 0 0 M139.743 2944.94 L151.953 2944.94 L151.953 2959.64 L139.743 2959.64 L139.743 2944.94 Z\" fill=\"#000000\" fill-rule=\"evenodd\" fill-opacity=\"1\" /><path clip-path=\"url(#clip040)\" d=\"M 0 0 M200.043 2913.05 Q208.435 2914.84 213.122 2920.51 Q217.867 2926.19 217.867 2934.52 Q217.867 2947.31 209.071 2954.31 Q200.275 2961.31 184.071 2961.31 Q178.632 2961.31 172.845 2960.21 Q167.115 2959.17 160.981 2957.03 L160.981 2945.75 Q165.842 2948.58 171.629 2950.03 Q177.416 2951.48 183.724 2951.48 Q194.719 2951.48 200.449 2947.14 Q206.236 2942.79 206.236 2934.52 Q206.236 2926.88 200.854 2922.6 Q195.53 2918.26 185.981 2918.26 L175.912 2918.26 L175.912 2908.65 L186.444 2908.65 Q195.067 2908.65 199.638 2905.24 Q204.21 2901.77 204.21 2895.28 Q204.21 2888.63 199.465 2885.1 Q194.777 2881.51 185.981 2881.51 Q181.178 2881.51 175.68 2882.55 Q170.183 2883.59 163.585 2885.79 L163.585 2875.38 Q170.24 2873.52 176.027 2872.6 Q181.872 2871.67 187.023 2871.67 Q200.333 2871.67 208.087 2877.75 Q215.842 2883.77 215.842 2894.07 Q215.842 2901.24 211.733 2906.22 Q207.624 2911.14 200.043 2913.05 Z\" fill=\"#000000\" fill-rule=\"evenodd\" fill-opacity=\"1\" /><path clip-path=\"url(#clip040)\" d=\"M 0 0 M94.3727 2864.08 Q85.345 2864.08 80.7733 2872.99 Q76.2594 2881.85 76.2594 2899.67 Q76.2594 2917.44 80.7733 2926.35 Q85.345 2935.2 94.3727 2935.2 Q103.458 2935.2 107.972 2926.35 Q112.544 2917.44 112.544 2899.67 Q112.544 2881.85 107.972 2872.99 Q103.458 2864.08 94.3727 2864.08 M94.3727 2854.82 Q108.898 2854.82 116.537 2866.34 Q124.234 2877.8 124.234 2899.67 Q124.234 2921.49 116.537 2933.01 Q108.898 2944.46 94.3727 2944.46 Q79.8474 2944.46 72.1506 2933.01 Q64.5118 2921.49 64.5118 2899.67 Q64.5118 2877.8 72.1506 2866.34 Q79.8474 2854.82 94.3727 2854.82 Z\" fill=\"#000000\" fill-rule=\"evenodd\" fill-opacity=\"1\" /><path clip-path=\"url(#clip040)\" d=\"M 0 0 M136.907 2928.09 L149.118 2928.09 L149.118 2942.79 L136.907 2942.79 L136.907 2928.09 Z\" fill=\"#000000\" fill-rule=\"evenodd\" fill-opacity=\"1\" /><path clip-path=\"url(#clip040)\" d=\"M 0 0 M193.909 2866.57 L164.396 2912.69 L193.909 2912.69 L193.909 2866.57 M190.842 2856.39 L205.541 2856.39 L205.541 2912.69 L217.867 2912.69 L217.867 2922.42 L205.541 2922.42 L205.541 2942.79 L193.909 2942.79 L193.909 2922.42 L154.905 2922.42 L154.905 2911.13 L190.842 2856.39 Z\" fill=\"#000000\" fill-rule=\"evenodd\" fill-opacity=\"1\" /><path clip-path=\"url(#clip040)\" d=\"M 0 0 M98.0764 2847.23 Q89.0487 2847.23 84.477 2856.15 Q79.9631 2865 79.9631 2882.82 Q79.9631 2900.59 84.477 2909.5 Q89.0487 2918.36 98.0764 2918.36 Q107.162 2918.36 111.676 2909.5 Q116.248 2900.59 116.248 2882.82 Q116.248 2865 111.676 2856.15 Q107.162 2847.23 98.0764 2847.23 M98.0764 2837.97 Q112.602 2837.97 120.241 2849.49 Q127.937 2860.95 127.937 2882.82 Q127.937 2904.64 120.241 2916.16 Q112.602 2927.61 98.0764 2927.61 Q83.551 2927.61 75.8543 2916.16 Q68.2155 2904.64 68.2155 2882.82 Q68.2155 2860.95 75.8543 2849.49 Q83.551 2837.97 98.0764 2837.97 Z\" fill=\"#000000\" fill-rule=\"evenodd\" fill-opacity=\"1\" /><path clip-path=\"url(#clip040)\" d=\"M 0 0 M140.611 2911.24 L152.821 2911.24 L152.821 2925.94 L140.611 2925.94 L140.611 2911.24 Z\" fill=\"#000000\" fill-rule=\"evenodd\" fill-opacity=\"1\" /><path clip-path=\"url(#clip040)\" d=\"M 0 0 M165.611 2839.54 L211.502 2839.54 L211.502 2849.37 L176.317 2849.37 L176.317 2870.55 Q178.863 2869.69 181.409 2869.28 Q183.956 2868.82 186.502 2868.82 Q200.969 2868.82 209.418 2876.75 Q217.867 2884.68 217.867 2898.22 Q217.867 2912.16 209.187 2919.92 Q200.506 2927.61 184.708 2927.61 Q179.268 2927.61 173.597 2926.69 Q167.983 2925.76 161.965 2923.91 L161.965 2912.16 Q167.173 2915 172.729 2916.39 Q178.284 2917.78 184.476 2917.78 Q194.488 2917.78 200.333 2912.51 Q206.178 2907.24 206.178 2898.22 Q206.178 2889.19 200.333 2883.92 Q194.488 2878.66 184.476 2878.66 Q179.789 2878.66 175.101 2879.7 Q170.472 2880.74 165.611 2882.94 L165.611 2839.54 Z\" fill=\"#000000\" fill-rule=\"evenodd\" fill-opacity=\"1\" /><path clip-path=\"url(#clip040)\" d=\"M 0 0 M16.4636 2943.77 Q22.9248 2943.77 26.6169 2941.13 Q30.2772 2938.46 30.2772 2933.81 Q30.2772 2929.16 26.6169 2926.49 Q22.9248 2923.81 16.4636 2923.81 Q10.0024 2923.81 6.34216 2926.49 Q2.65005 2929.16 2.65005 2933.81 Q2.65005 2938.46 6.34216 2941.13 Q10.0024 2943.77 16.4636 2943.77 M28.9086 2923.81 Q32.0914 2925.66 33.651 2928.49 Q35.1788 2931.29 35.1788 2935.24 Q35.1788 2941.7 30.0226 2945.78 Q24.8664 2949.82 16.4636 2949.82 Q8.0609 2949.82 2.90468 2945.78 Q-2.25154 2941.7 -2.25154 2935.24 Q-2.25154 2931.29 -0.691944 2928.49 Q0.835825 2925.66 4.01868 2923.81 L-1.39217 2923.81 L-1.39217 2917.96 L47.8147 2917.96 L47.8147 2923.81 L28.9086 2923.81 Z\" fill=\"#000000\" fill-rule=\"evenodd\" fill-opacity=\"1\" /><path clip-path=\"url(#clip040)\" d=\"M 0 0 M-1.39217 2916.68 L-13.2642 2911.18 L-13.2642 2904.72 L-1.39217 2913.92 L-1.39217 2916.68 Z\" fill=\"#000000\" fill-rule=\"evenodd\" fill-opacity=\"1\" /><path clip-path=\"url(#clip040)\" d=\"M 0 0 M-1.39217 2903.44 L-13.2642 2897.94 L-13.2642 2891.48 L-1.39217 2900.68 L-1.39217 2903.44 Z\" fill=\"#000000\" fill-rule=\"evenodd\" fill-opacity=\"1\" /><polyline clip-path=\"url(#clip045)\" style=\"stroke:#009af9; stroke-width:4; stroke-opacity:1; fill:none\" points=\"\n",
       "  550.897,2966.98 1035.97,2966.98 1612.72,2966.98 \n",
       "  \"/>\n",
       "<polyline clip-path=\"url(#clip045)\" style=\"stroke:#000000; stroke-width:4; stroke-opacity:1; fill:none\" points=\"\n",
       "  -1421.02,2966.98 3639.64,2966.98 \n",
       "  \"/>\n",
       "<polyline clip-path=\"url(#clip045)\" style=\"stroke:#ff0000; stroke-width:4; stroke-opacity:1; fill:none\" stroke-dasharray=\"16, 10\" points=\"\n",
       "  799.255,3084.93 799.255,2756.37 \n",
       "  \"/>\n",
       "<polyline clip-path=\"url(#clip045)\" style=\"stroke:#ff0000; stroke-width:4; stroke-opacity:1; fill:none\" stroke-dasharray=\"16, 10\" points=\"\n",
       "  1272.68,3084.93 1272.68,2756.37 \n",
       "  \"/>\n",
       "<circle clip-path=\"url(#clip045)\" cx=\"799.255\" cy=\"2966.98\" r=\"28\" fill=\"#000000\" fill-rule=\"evenodd\" fill-opacity=\"1\" stroke=\"none\"/>\n",
       "<circle clip-path=\"url(#clip045)\" cx=\"1272.68\" cy=\"2966.98\" r=\"28\" fill=\"#000000\" fill-rule=\"evenodd\" fill-opacity=\"1\" stroke=\"none\"/>\n",
       "<path clip-path=\"url(#clip040)\" d=\"M 0 0 M558.189 2836.08 L558.189 2884.43 L606.539 2884.43 L606.539 2899.19 L558.189 2899.19 L558.189 2947.54 L543.605 2947.54 L543.605 2899.19 L495.255 2899.19 L495.255 2884.43 L543.605 2884.43 L543.605 2836.08 L558.189 2836.08 Z\" fill=\"#000000\" fill-rule=\"evenodd\" fill-opacity=\"1\" /><path clip-path=\"url(#clip040)\" d=\"M 0 0 M1012.57 2891.72 L1059.36 2891.72 L1059.36 2905.96 L1012.57 2905.96 L1012.57 2891.72 Z\" fill=\"#000000\" fill-rule=\"evenodd\" fill-opacity=\"1\" /><path clip-path=\"url(#clip040)\" d=\"M 0 0 M1620.01 2836.08 L1620.01 2884.43 L1668.36 2884.43 L1668.36 2899.19 L1620.01 2899.19 L1620.01 2947.54 L1605.43 2947.54 L1605.43 2899.19 L1557.08 2899.19 L1557.08 2884.43 L1605.43 2884.43 L1605.43 2836.08 L1620.01 2836.08 Z\" fill=\"#000000\" fill-rule=\"evenodd\" fill-opacity=\"1\" /></svg>\n"
      ]
     },
     "execution_count": 72,
     "metadata": {},
     "output_type": "execute_result"
    }
   ],
   "source": [
    "q(x) = (x - 1)*(x - 3)*(x - 5)*(x - 7)\n",
    "plot_function_sign_chart(q(x), (0,9), 0:9, labels = [\"q\", \"q′\", \"q′′\"])"
   ]
  },
  {
   "cell_type": "markdown",
   "metadata": {},
   "source": [
    "<a id='summary_cell'></a>\n",
    "Examples of using the `summary` function:"
   ]
  },
  {
   "cell_type": "code",
   "execution_count": 73,
   "metadata": {},
   "outputs": [
    {
     "data": {
      "text/markdown": [
       "y-intercept: 0.00<br><table>\n",
       "<tr>\n",
       "<td><img src=\"./figs/scx^2(x - 2).png\" alt=\"drawing\" width=\"400\"/></td>\n",
       "<td><img src=\"./figs/scpx^2(x - 2).png\" alt=\"drawing\" width=\"400\"/></td>\n",
       "<td><img src=\"./figs/scppx^2(x - 2).png\" alt=\"drawing\" width=\"400\"/></td>\n",
       "</tr>\n",
       "</table>\n",
       "<br>local minimum: (1.333, -1.185)<br>local maximum = (0.000, 0.000)<br>inflection point: (0.667, -0.593)<br>As x → -∞, f(x) → -∞<br>As x → ∞, f(x) → ∞"
      ]
     },
     "metadata": {},
     "output_type": "display_data"
    }
   ],
   "source": [
    "f(x) = x^2*(x-2)\n",
    "summary(f(x), [-3,3], \"(-∞,∞)\", [\"f\", \"f′\", \"f′′\"], 400)"
   ]
  },
  {
   "cell_type": "code",
   "execution_count": 74,
   "metadata": {},
   "outputs": [
    {
     "data": {
      "text/markdown": [
       "y-intercept: 105.00<br><table>\n",
       "<tr>\n",
       "<td><img src=\"./figs/sc(x - 7)(x - 5)(x - 3)(x - 1).png\" alt=\"drawing\" width=\"400\"/></td>\n",
       "<td><img src=\"./figs/scp(x - 7)(x - 5)(x - 3)(x - 1).png\" alt=\"drawing\" width=\"400\"/></td>\n",
       "<td><img src=\"./figs/scpp(x - 7)(x - 5)(x - 3)(x - 1).png\" alt=\"drawing\" width=\"400\"/></td>\n",
       "</tr>\n",
       "</table>\n",
       "<br>local minimum: (1.764, -16.000), (6.236, -16.000)<br>local maximum = (4.000, 9.000)<br>inflection point: (2.709, -4.889), (5.291, -4.889)<br>As x → -∞, f(x) → ∞<br>As x → ∞, f(x) → ∞"
      ]
     },
     "metadata": {},
     "output_type": "display_data"
    }
   ],
   "source": [
    "summary(q(x), [0,9], \"(-∞,∞)\", [\"q\", \"q′\", \"q′′\"], 400, marksize=15, tickfontsize=30)"
   ]
  },
  {
   "cell_type": "code",
   "execution_count": 75,
   "metadata": {},
   "outputs": [
    {
     "data": {
      "text/markdown": [
       "y-intercept: 105.00<br><table>\n",
       "<tr>\n",
       "<td><img src=\"./figs/sc(x - 7)(x - 5)(x - 3)(x - 1).png\" alt=\"drawing\" width=\"400\"/></td>\n",
       "<td><img src=\"./figs/scp(x - 7)(x - 5)(x - 3)(x - 1).png\" alt=\"drawing\" width=\"400\"/></td>\n",
       "<td><img src=\"./figs/scpp(x - 7)(x - 5)(x - 3)(x - 1).png\" alt=\"drawing\" width=\"400\"/></td>\n",
       "</tr>\n",
       "</table>\n",
       "<br>local minimum: (1.764, -16.000), (6.236, -16.000)<br>local maximum = (-1.000, 384.000), (4.000, 9.000)<br>inflection point: (2.709, -4.889), (5.291, -4.889)<br>At left endpoint x = -1.0, f(-1.0) = 384.000000000000<br>As x → ∞, f(x) → ∞"
      ]
     },
     "metadata": {},
     "output_type": "display_data"
    }
   ],
   "source": [
    "summary(q(x), [0,9], \"[-1,∞)\", [\"q\", \"q′\", \"q′′\"], 400, marksize=15)"
   ]
  },
  {
   "cell_type": "code",
   "execution_count": 76,
   "metadata": {},
   "outputs": [
    {
     "data": {
      "text/markdown": [
       "y-intercept: 105.00<br><table>\n",
       "<tr>\n",
       "<td><img src=\"./figs/sc(x - 7)(x - 5)(x - 3)(x - 1).png\" alt=\"drawing\" width=\"400\"/></td>\n",
       "<td><img src=\"./figs/scp(x - 7)(x - 5)(x - 3)(x - 1).png\" alt=\"drawing\" width=\"400\"/></td>\n",
       "<td><img src=\"./figs/scpp(x - 7)(x - 5)(x - 3)(x - 1).png\" alt=\"drawing\" width=\"400\"/></td>\n",
       "</tr>\n",
       "</table>\n",
       "<br>local minimum: (1.764, -16.000), (6.236, -16.000)<br>local maximum = (4.000, 9.000), (9.000, 384.000)<br>inflection point: (2.709, -4.889), (5.291, -4.889)<br>As x → -∞, f(x) → ∞<br>At right endpoint x = 9.0, f(9.0) = 384.000000000000"
      ]
     },
     "metadata": {},
     "output_type": "display_data"
    }
   ],
   "source": [
    "summary(q(x), [0,9], \"(-∞,9]\", [\"q\", \"q′\", \"q′′\"], 400, marksize=15)"
   ]
  },
  {
   "cell_type": "code",
   "execution_count": 77,
   "metadata": {},
   "outputs": [
    {
     "data": {
      "text/markdown": [
       "y-intercept: 105.00<br><table>\n",
       "<tr>\n",
       "<td><img src=\"./figs/sc(x - 7)(x - 5)(x - 3)(x - 1).png\" alt=\"drawing\" width=\"400\"/></td>\n",
       "<td><img src=\"./figs/scp(x - 7)(x - 5)(x - 3)(x - 1).png\" alt=\"drawing\" width=\"400\"/></td>\n",
       "<td><img src=\"./figs/scpp(x - 7)(x - 5)(x - 3)(x - 1).png\" alt=\"drawing\" width=\"400\"/></td>\n",
       "</tr>\n",
       "</table>\n",
       "<br>local minimum: (1.764, -16.000), (6.236, -16.000)<br>local maximum = (-1.000, 384.000), (4.000, 9.000), (9.000, 384.000)<br>inflection point: (2.709, -4.889), (5.291, -4.889)<br>At left endpoint x = -1.0, f(-1.0) = 384.000000000000<br>At right endpoint x = 9.0, f(9.0) = 384.000000000000"
      ]
     },
     "metadata": {},
     "output_type": "display_data"
    }
   ],
   "source": [
    "summary(q(x), [0,9], \"[-1,9]\", [\"q\", \"q′\", \"q′′\"], 400, marksize=15)"
   ]
  },
  {
   "cell_type": "code",
   "execution_count": 78,
   "metadata": {},
   "outputs": [
    {
     "data": {
      "text/markdown": [
       "y-intercept: -0.33<br><table>\n",
       "<tr>\n",
       "<td><img src=\"./figs/sc(x + 1)_(x - 3).png\" alt=\"drawing\" width=\"400\"/></td>\n",
       "<td><img src=\"./figs/scp(x + 1)_(x - 3).png\" alt=\"drawing\" width=\"400\"/></td>\n",
       "<td><img src=\"./figs/scpp(x + 1)_(x - 3).png\" alt=\"drawing\" width=\"400\"/></td>\n",
       "</tr>\n",
       "</table>\n",
       "<br>local minimum: none<br>local maximum: none<br>inflection point: none<br>As x → -∞, f(x) → 1<br>As x → ∞, f(x) → 1"
      ]
     },
     "metadata": {},
     "output_type": "display_data"
    }
   ],
   "source": [
    "summary(r(x), [-3,4], \"(-∞,∞)\", [\"q\", \"q′\", \"q′′\"], 400, marksize=15, tickfontsize=30)"
   ]
  },
  {
   "cell_type": "code",
   "execution_count": 79,
   "metadata": {},
   "outputs": [
    {
     "data": {
      "text/markdown": [
       "y-intercept: -0.33<br><table>\n",
       "<tr>\n",
       "<td><img src=\"./figs/sc(x + 1)_(x - 3).png\" alt=\"drawing\" width=\"400\"/></td>\n",
       "<td><img src=\"./figs/scp(x + 1)_(x - 3).png\" alt=\"drawing\" width=\"400\"/></td>\n",
       "<td><img src=\"./figs/scpp(x + 1)_(x - 3).png\" alt=\"drawing\" width=\"400\"/></td>\n",
       "</tr>\n",
       "</table>\n",
       "<br>local minimum: none<br>local maximum: none<br>inflection point: none<br>As x → -∞, f(x) → 1<br>As x → ∞, f(x) → 1"
      ]
     },
     "metadata": {},
     "output_type": "display_data"
    }
   ],
   "source": [
    "summary(r(x), [-3,2], \"(-∞,∞)\", [\"q\", \"q′\", \"q′′\"], 400, marksize=15)"
   ]
  },
  {
   "cell_type": "markdown",
   "metadata": {},
   "source": [
    "<a id='clean_figs_folder_cell'></a>\n",
    "When changing input into summary for the same function I haven't yet figured out how to update the figures,\n",
    "so you will need to delete the old figures with the `clean_figs_folder` command."
   ]
  },
  {
   "cell_type": "code",
   "execution_count": 80,
   "metadata": {},
   "outputs": [],
   "source": [
    "#clean_figs_folder(\"all\")\n",
    "#clean_figs_folder(r)"
   ]
  },
  {
   "cell_type": "markdown",
   "metadata": {},
   "source": [
    "Now if we rerun the summary command:"
   ]
  },
  {
   "cell_type": "code",
   "execution_count": 81,
   "metadata": {},
   "outputs": [
    {
     "data": {
      "text/markdown": [
       "y-intercept: -0.33<br><table>\n",
       "<tr>\n",
       "<td><img src=\"./figs/sc(x + 1)_(x - 3).png\" alt=\"drawing\" width=\"400\"/></td>\n",
       "<td><img src=\"./figs/scp(x + 1)_(x - 3).png\" alt=\"drawing\" width=\"400\"/></td>\n",
       "<td><img src=\"./figs/scpp(x + 1)_(x - 3).png\" alt=\"drawing\" width=\"400\"/></td>\n",
       "</tr>\n",
       "</table>\n",
       "<br>local minimum: none<br>local maximum: none<br>inflection point: none<br>As x → -∞, f(x) → 1<br>As x → ∞, f(x) → 1"
      ]
     },
     "metadata": {},
     "output_type": "display_data"
    }
   ],
   "source": [
    "summary(r(x), [-3,2], \"(-∞,∞)\", [\"q\", \"q′\", \"q′′\"], 400, marksize=15)"
   ]
  },
  {
   "cell_type": "markdown",
   "metadata": {},
   "source": [
    "<a id='graph_f_and_derivative_cell'></a>\n",
    "The command `graph_f_and_derivative` graphs a function and it's derivative on the same graph. It can also graph them side-by-side but I need to work on some settings as it currently looks bad!"
   ]
  },
  {
   "cell_type": "code",
   "execution_count": 82,
   "metadata": {},
   "outputs": [
    {
     "data": {
      "image/svg+xml": [
       "<?xml version=\"1.0\" encoding=\"utf-8\"?>\n",
       "<svg xmlns=\"http://www.w3.org/2000/svg\" xmlns:xlink=\"http://www.w3.org/1999/xlink\" width=\"600\" height=\"400\" viewBox=\"0 0 2400 1600\">\n",
       "<defs>\n",
       "  <clipPath id=\"clip320\">\n",
       "    <rect x=\"0\" y=\"0\" width=\"2400\" height=\"1600\"/>\n",
       "  </clipPath>\n",
       "</defs>\n",
       "<path clip-path=\"url(#clip320)\" d=\"\n",
       "M0 1600 L2400 1600 L2400 0 L0 0  Z\n",
       "  \" fill=\"#ffffff\" fill-rule=\"evenodd\" fill-opacity=\"1\"/>\n",
       "<defs>\n",
       "  <clipPath id=\"clip321\">\n",
       "    <rect x=\"480\" y=\"0\" width=\"1681\" height=\"1600\"/>\n",
       "  </clipPath>\n",
       "</defs>\n",
       "<path clip-path=\"url(#clip320)\" d=\"\n",
       "M207.436 1486.45 L2352.76 1486.45 L2352.76 47.2441 L207.436 47.2441  Z\n",
       "  \" fill=\"#ffffff\" fill-rule=\"evenodd\" fill-opacity=\"1\"/>\n",
       "<defs>\n",
       "  <clipPath id=\"clip322\">\n",
       "    <rect x=\"207\" y=\"47\" width=\"2146\" height=\"1440\"/>\n",
       "  </clipPath>\n",
       "</defs>\n",
       "<polyline clip-path=\"url(#clip322)\" style=\"stroke:#000000; stroke-width:2; stroke-opacity:0.1; fill:none\" points=\"\n",
       "  268.152,1486.45 268.152,47.2441 \n",
       "  \"/>\n",
       "<polyline clip-path=\"url(#clip322)\" style=\"stroke:#000000; stroke-width:2; stroke-opacity:0.1; fill:none\" points=\"\n",
       "  774.124,1486.45 774.124,47.2441 \n",
       "  \"/>\n",
       "<polyline clip-path=\"url(#clip322)\" style=\"stroke:#000000; stroke-width:2; stroke-opacity:0.1; fill:none\" points=\"\n",
       "  1786.07,1486.45 1786.07,47.2441 \n",
       "  \"/>\n",
       "<polyline clip-path=\"url(#clip322)\" style=\"stroke:#000000; stroke-width:2; stroke-opacity:0.1; fill:none\" points=\"\n",
       "  2292.04,1486.45 2292.04,47.2441 \n",
       "  \"/>\n",
       "<polyline clip-path=\"url(#clip320)\" style=\"stroke:#000000; stroke-width:4; stroke-opacity:1; fill:none\" points=\"\n",
       "  207.436,766.846 2352.76,766.846 \n",
       "  \"/>\n",
       "<polyline clip-path=\"url(#clip320)\" style=\"stroke:#000000; stroke-width:4; stroke-opacity:1; fill:none\" points=\"\n",
       "  268.152,784.116 268.152,749.576 \n",
       "  \"/>\n",
       "<polyline clip-path=\"url(#clip320)\" style=\"stroke:#000000; stroke-width:4; stroke-opacity:1; fill:none\" points=\"\n",
       "  774.124,784.116 774.124,749.576 \n",
       "  \"/>\n",
       "<polyline clip-path=\"url(#clip320)\" style=\"stroke:#000000; stroke-width:4; stroke-opacity:1; fill:none\" points=\"\n",
       "  1786.07,784.116 1786.07,749.576 \n",
       "  \"/>\n",
       "<polyline clip-path=\"url(#clip320)\" style=\"stroke:#000000; stroke-width:4; stroke-opacity:1; fill:none\" points=\"\n",
       "  2292.04,784.116 2292.04,749.576 \n",
       "  \"/>\n",
       "<path clip-path=\"url(#clip320)\" d=\"M 0 0 M240.606 810.689 L270.282 810.689 L270.282 814.625 L240.606 814.625 L240.606 810.689 Z\" fill=\"#000000\" fill-rule=\"evenodd\" fill-opacity=\"1\" /><path clip-path=\"url(#clip320)\" d=\"M 0 0 M279.379 823.583 L295.699 823.583 L295.699 827.518 L273.754 827.518 L273.754 823.583 Q276.416 820.828 281 816.199 Q285.606 811.546 286.787 810.203 Q289.032 807.68 289.912 805.944 Q290.814 804.185 290.814 802.495 Q290.814 799.74 288.87 798.004 Q286.949 796.268 283.847 796.268 Q281.648 796.268 279.194 797.032 Q276.763 797.796 273.986 799.347 L273.986 794.625 Q276.81 793.49 279.263 792.912 Q281.717 792.333 283.754 792.333 Q289.124 792.333 292.319 795.018 Q295.513 797.703 295.513 802.194 Q295.513 804.324 294.703 806.245 Q293.916 808.143 291.81 810.736 Q291.231 811.407 288.129 814.625 Q285.027 817.819 279.379 823.583 Z\" fill=\"#000000\" fill-rule=\"evenodd\" fill-opacity=\"1\" /><path clip-path=\"url(#clip320)\" d=\"M 0 0 M746.393 810.689 L776.069 810.689 L776.069 814.625 L746.393 814.625 L746.393 810.689 Z\" fill=\"#000000\" fill-rule=\"evenodd\" fill-opacity=\"1\" /><path clip-path=\"url(#clip320)\" d=\"M 0 0 M781.948 823.583 L789.587 823.583 L789.587 797.217 L781.277 798.884 L781.277 794.625 L789.541 792.958 L794.217 792.958 L794.217 823.583 L801.855 823.583 L801.855 827.518 L781.948 827.518 L781.948 823.583 Z\" fill=\"#000000\" fill-rule=\"evenodd\" fill-opacity=\"1\" /><path clip-path=\"url(#clip320)\" d=\"M 0 0 M1776.45 823.583 L1784.09 823.583 L1784.09 797.217 L1775.78 798.884 L1775.78 794.625 L1784.04 792.958 L1788.72 792.958 L1788.72 823.583 L1796.36 823.583 L1796.36 827.518 L1776.45 827.518 L1776.45 823.583 Z\" fill=\"#000000\" fill-rule=\"evenodd\" fill-opacity=\"1\" /><path clip-path=\"url(#clip320)\" d=\"M 0 0 M2286.69 823.583 L2303.01 823.583 L2303.01 827.518 L2281.07 827.518 L2281.07 823.583 Q2283.73 820.828 2288.31 816.199 Q2292.92 811.546 2294.1 810.203 Q2296.34 807.68 2297.22 805.944 Q2298.13 804.185 2298.13 802.495 Q2298.13 799.74 2296.18 798.004 Q2294.26 796.268 2291.16 796.268 Q2288.96 796.268 2286.51 797.032 Q2284.08 797.796 2281.3 799.347 L2281.3 794.625 Q2284.12 793.49 2286.58 792.912 Q2289.03 792.333 2291.07 792.333 Q2296.44 792.333 2299.63 795.018 Q2302.83 797.703 2302.83 802.194 Q2302.83 804.324 2302.02 806.245 Q2301.23 808.143 2299.12 810.736 Q2298.54 811.407 2295.44 814.625 Q2292.34 817.819 2286.69 823.583 Z\" fill=\"#000000\" fill-rule=\"evenodd\" fill-opacity=\"1\" /><polyline clip-path=\"url(#clip322)\" style=\"stroke:#000000; stroke-width:2; stroke-opacity:0.1; fill:none\" points=\"\n",
       "  207.436,1445.72 2352.76,1445.72 \n",
       "  \"/>\n",
       "<polyline clip-path=\"url(#clip322)\" style=\"stroke:#000000; stroke-width:2; stroke-opacity:0.1; fill:none\" points=\"\n",
       "  207.436,1106.28 2352.76,1106.28 \n",
       "  \"/>\n",
       "<polyline clip-path=\"url(#clip322)\" style=\"stroke:#000000; stroke-width:2; stroke-opacity:0.1; fill:none\" points=\"\n",
       "  207.436,427.411 2352.76,427.411 \n",
       "  \"/>\n",
       "<polyline clip-path=\"url(#clip322)\" style=\"stroke:#000000; stroke-width:2; stroke-opacity:0.1; fill:none\" points=\"\n",
       "  207.436,87.9763 2352.76,87.9763 \n",
       "  \"/>\n",
       "<polyline clip-path=\"url(#clip320)\" style=\"stroke:#000000; stroke-width:4; stroke-opacity:1; fill:none\" points=\"\n",
       "  1280.1,1486.45 1280.1,47.2441 \n",
       "  \"/>\n",
       "<polyline clip-path=\"url(#clip320)\" style=\"stroke:#000000; stroke-width:4; stroke-opacity:1; fill:none\" points=\"\n",
       "  1254.35,1445.72 1305.84,1445.72 \n",
       "  \"/>\n",
       "<polyline clip-path=\"url(#clip320)\" style=\"stroke:#000000; stroke-width:4; stroke-opacity:1; fill:none\" points=\"\n",
       "  1254.35,1106.28 1305.84,1106.28 \n",
       "  \"/>\n",
       "<polyline clip-path=\"url(#clip320)\" style=\"stroke:#000000; stroke-width:4; stroke-opacity:1; fill:none\" points=\"\n",
       "  1254.35,427.411 1305.84,427.411 \n",
       "  \"/>\n",
       "<polyline clip-path=\"url(#clip320)\" style=\"stroke:#000000; stroke-width:4; stroke-opacity:1; fill:none\" points=\"\n",
       "  1254.35,87.9763 1305.84,87.9763 \n",
       "  \"/>\n",
       "<path clip-path=\"url(#clip320)\" d=\"M 0 0 M1186.92 1446.17 L1216.6 1446.17 L1216.6 1450.1 L1186.92 1450.1 L1186.92 1446.17 Z\" fill=\"#000000\" fill-rule=\"evenodd\" fill-opacity=\"1\" /><path clip-path=\"url(#clip320)\" d=\"M 0 0 M1234.51 1432.51 L1222.71 1450.96 L1234.51 1450.96 L1234.51 1432.51 M1233.29 1428.44 L1239.17 1428.44 L1239.17 1450.96 L1244.1 1450.96 L1244.1 1454.85 L1239.17 1454.85 L1239.17 1463 L1234.51 1463 L1234.51 1454.85 L1218.91 1454.85 L1218.91 1450.33 L1233.29 1428.44 Z\" fill=\"#000000\" fill-rule=\"evenodd\" fill-opacity=\"1\" /><path clip-path=\"url(#clip320)\" d=\"M 0 0 M1189 1106.73 L1218.68 1106.73 L1218.68 1110.67 L1189 1110.67 L1189 1106.73 Z\" fill=\"#000000\" fill-rule=\"evenodd\" fill-opacity=\"1\" /><path clip-path=\"url(#clip320)\" d=\"M 0 0 M1227.78 1119.63 L1244.1 1119.63 L1244.1 1123.56 L1222.15 1123.56 L1222.15 1119.63 Q1224.81 1116.87 1229.4 1112.24 Q1234 1107.59 1235.18 1106.25 Q1237.43 1103.72 1238.31 1101.99 Q1239.21 1100.23 1239.21 1098.54 Q1239.21 1095.78 1237.27 1094.05 Q1235.35 1092.31 1232.24 1092.31 Q1230.04 1092.31 1227.59 1093.07 Q1225.16 1093.84 1222.38 1095.39 L1222.38 1090.67 Q1225.21 1089.53 1227.66 1088.95 Q1230.11 1088.38 1232.15 1088.38 Q1237.52 1088.38 1240.72 1091.06 Q1243.91 1093.75 1243.91 1098.24 Q1243.91 1100.37 1243.1 1102.29 Q1242.31 1104.19 1240.21 1106.78 Q1239.63 1107.45 1236.53 1110.67 Q1233.42 1113.86 1227.78 1119.63 Z\" fill=\"#000000\" fill-rule=\"evenodd\" fill-opacity=\"1\" /><path clip-path=\"url(#clip320)\" d=\"M 0 0 M1227.78 440.756 L1244.1 440.756 L1244.1 444.691 L1222.15 444.691 L1222.15 440.756 Q1224.81 438.001 1229.4 433.372 Q1234 428.719 1235.18 427.376 Q1237.43 424.853 1238.31 423.117 Q1239.21 421.358 1239.21 419.668 Q1239.21 416.914 1237.27 415.177 Q1235.35 413.441 1232.24 413.441 Q1230.04 413.441 1227.59 414.205 Q1225.16 414.969 1222.38 416.52 L1222.38 411.798 Q1225.21 410.664 1227.66 410.085 Q1230.11 409.506 1232.15 409.506 Q1237.52 409.506 1240.72 412.191 Q1243.91 414.876 1243.91 419.367 Q1243.91 421.497 1243.1 423.418 Q1242.31 425.316 1240.21 427.909 Q1239.63 428.58 1236.53 431.798 Q1233.42 434.992 1227.78 440.756 Z\" fill=\"#000000\" fill-rule=\"evenodd\" fill-opacity=\"1\" /><path clip-path=\"url(#clip320)\" d=\"M 0 0 M1234.51 74.7703 L1222.71 93.2193 L1234.51 93.2193 L1234.51 74.7703 M1233.29 70.6963 L1239.17 70.6963 L1239.17 93.2193 L1244.1 93.2193 L1244.1 97.1082 L1239.17 97.1082 L1239.17 105.256 L1234.51 105.256 L1234.51 97.1082 L1218.91 97.1082 L1218.91 92.5943 L1233.29 70.6963 Z\" fill=\"#000000\" fill-rule=\"evenodd\" fill-opacity=\"1\" /><path clip-path=\"url(#clip320)\" d=\"M 0 0 M38.479 793.741 L43.3487 793.741 L43.3487 799.343 Q43.3487 802.494 44.6219 803.735 Q45.895 804.945 49.2052 804.945 L52.3562 804.945 L52.3562 795.301 L56.9077 795.301 L56.9077 804.945 L88.0042 804.945 L88.0042 810.833 L56.9077 810.833 L56.9077 816.435 L52.3562 816.435 L52.3562 810.833 L49.8736 810.833 Q43.9216 810.833 41.2162 808.064 Q38.479 805.295 38.479 799.279 L38.479 793.741 Z\" fill=\"#000000\" fill-rule=\"evenodd\" fill-opacity=\"1\" /><path clip-path=\"url(#clip320)\" d=\"M 0 0 M38.5426 773.53 Q45.8632 777.795 53.0246 779.864 Q60.186 781.933 67.5384 781.933 Q74.8908 781.933 82.1159 779.864 Q89.3091 777.763 96.5979 773.53 L96.5979 778.623 Q89.1182 783.397 81.8931 785.784 Q74.668 788.139 67.5384 788.139 Q60.4406 788.139 53.2474 785.784 Q46.0542 783.429 38.5426 778.623 L38.5426 773.53 Z\" fill=\"#000000\" fill-rule=\"evenodd\" fill-opacity=\"1\" /><path clip-path=\"url(#clip320)\" d=\"M 0 0 M52.3562 737.755 L69.7028 750.645 L88.0042 737.086 L88.0042 743.993 L73.9996 754.369 L88.0042 764.745 L88.0042 771.652 L69.3526 757.807 L52.3562 770.474 L52.3562 763.568 L65.0558 754.115 L52.3562 744.661 L52.3562 737.755 Z\" fill=\"#000000\" fill-rule=\"evenodd\" fill-opacity=\"1\" /><path clip-path=\"url(#clip320)\" d=\"M 0 0 M38.5426 731.866 L38.5426 726.774 Q46.0542 722 53.2474 719.644 Q60.4406 717.257 67.5384 717.257 Q74.668 717.257 81.8931 719.644 Q89.1182 722 96.5979 726.774 L96.5979 731.866 Q89.3091 727.633 82.1159 725.564 Q74.8908 723.464 67.5384 723.464 Q60.186 723.464 53.0246 725.564 Q45.8632 727.633 38.5426 731.866 Z\" fill=\"#000000\" fill-rule=\"evenodd\" fill-opacity=\"1\" /><polyline clip-path=\"url(#clip322)\" style=\"stroke:#000000; stroke-width:4; stroke-opacity:1; fill:none\" points=\"\n",
       "  268.152,87.9763 318.75,154.166 369.347,216.962 419.944,276.363 470.541,332.369 521.138,384.982 571.735,434.2 622.333,480.024 672.93,522.453 723.527,561.488 \n",
       "  774.124,597.129 824.721,629.375 875.318,658.227 925.916,683.684 976.513,705.748 1027.11,724.417 1077.71,739.691 1128.3,751.571 1178.9,760.057 1229.5,765.149 \n",
       "  1280.1,766.846 1330.69,765.149 1381.29,760.057 1431.89,751.571 1482.48,739.691 1533.08,724.417 1583.68,705.748 1634.28,683.684 1684.87,658.227 1735.47,629.375 \n",
       "  1786.07,597.129 1836.66,561.488 1887.26,522.453 1937.86,480.024 1988.46,434.2 2039.05,384.982 2089.65,332.369 2140.25,276.363 2190.84,216.962 2241.44,154.166 \n",
       "  2292.04,87.9763 \n",
       "  \"/>\n",
       "<polyline clip-path=\"url(#clip322)\" style=\"stroke:#e26f46; stroke-width:4; stroke-opacity:1; fill:none\" stroke-dasharray=\"16, 10\" points=\"\n",
       "  268.152,1445.72 318.75,1411.77 369.347,1377.83 419.944,1343.89 470.541,1309.94 521.138,1276 571.735,1242.05 622.333,1208.11 672.93,1174.17 723.527,1140.22 \n",
       "  774.124,1106.28 824.721,1072.34 875.318,1038.39 925.916,1004.45 976.513,970.507 1027.11,936.563 1077.71,902.62 1128.3,868.676 1178.9,834.733 1229.5,800.789 \n",
       "  1280.1,766.846 1330.69,732.902 1381.29,698.959 1431.89,665.016 1482.48,631.072 1533.08,597.129 1583.68,563.185 1634.28,529.242 1684.87,495.298 1735.47,461.355 \n",
       "  1786.07,427.411 1836.66,393.468 1887.26,359.524 1937.86,325.581 1988.46,291.637 2039.05,257.694 2089.65,223.75 2140.25,189.807 2190.84,155.863 2241.44,121.92 \n",
       "  2292.04,87.9763 \n",
       "  \"/>\n",
       "</svg>\n"
      ]
     },
     "execution_count": 82,
     "metadata": {},
     "output_type": "execute_result"
    }
   ],
   "source": [
    "f(x) = x^2\n",
    "lf=-2\n",
    "rt=2\n",
    "graph_f_and_derivative(lf:.1:rt, f(x), lf:rt, \"f(x)\")"
   ]
  },
  {
   "cell_type": "markdown",
   "metadata": {},
   "source": [
    "To make `graph_f_and_derivative` plot the function and its derivative side-by-side use the `format` argument and set it to the symbol `:dual`."
   ]
  },
  {
   "cell_type": "code",
   "execution_count": 83,
   "metadata": {},
   "outputs": [
    {
     "data": {
      "image/svg+xml": [
       "<?xml version=\"1.0\" encoding=\"utf-8\"?>\n",
       "<svg xmlns=\"http://www.w3.org/2000/svg\" xmlns:xlink=\"http://www.w3.org/1999/xlink\" width=\"600\" height=\"300\" viewBox=\"0 0 2400 1200\">\n",
       "<defs>\n",
       "  <clipPath id=\"clip360\">\n",
       "    <rect x=\"0\" y=\"0\" width=\"2400\" height=\"1200\"/>\n",
       "  </clipPath>\n",
       "</defs>\n",
       "<path clip-path=\"url(#clip360)\" d=\"\n",
       "M0 1200 L2400 1200 L2400 0 L0 0  Z\n",
       "  \" fill=\"#ffffff\" fill-rule=\"evenodd\" fill-opacity=\"1\"/>\n",
       "<defs>\n",
       "  <clipPath id=\"clip361\">\n",
       "    <rect x=\"480\" y=\"0\" width=\"1681\" height=\"1200\"/>\n",
       "  </clipPath>\n",
       "</defs>\n",
       "<path clip-path=\"url(#clip360)\" d=\"\n",
       "M163.565 1099.09 L1136.76 1099.09 L1136.76 47.2441 L163.565 47.2441  Z\n",
       "  \" fill=\"#ffffff\" fill-rule=\"evenodd\" fill-opacity=\"1\"/>\n",
       "<defs>\n",
       "  <clipPath id=\"clip362\">\n",
       "    <rect x=\"163\" y=\"47\" width=\"974\" height=\"1053\"/>\n",
       "  </clipPath>\n",
       "</defs>\n",
       "<polyline clip-path=\"url(#clip362)\" style=\"stroke:#000000; stroke-width:2; stroke-opacity:0.1; fill:none\" points=\"\n",
       "  191.108,1099.09 191.108,47.2441 \n",
       "  \"/>\n",
       "<polyline clip-path=\"url(#clip362)\" style=\"stroke:#000000; stroke-width:2; stroke-opacity:0.1; fill:none\" points=\"\n",
       "  420.636,1099.09 420.636,47.2441 \n",
       "  \"/>\n",
       "<polyline clip-path=\"url(#clip362)\" style=\"stroke:#000000; stroke-width:2; stroke-opacity:0.1; fill:none\" points=\"\n",
       "  879.69,1099.09 879.69,47.2441 \n",
       "  \"/>\n",
       "<polyline clip-path=\"url(#clip362)\" style=\"stroke:#000000; stroke-width:2; stroke-opacity:0.1; fill:none\" points=\"\n",
       "  1109.22,1099.09 1109.22,47.2441 \n",
       "  \"/>\n",
       "<polyline clip-path=\"url(#clip360)\" style=\"stroke:#000000; stroke-width:4; stroke-opacity:1; fill:none\" points=\"\n",
       "  163.565,1069.32 1136.76,1069.32 \n",
       "  \"/>\n",
       "<polyline clip-path=\"url(#clip360)\" style=\"stroke:#000000; stroke-width:4; stroke-opacity:1; fill:none\" points=\"\n",
       "  191.108,1081.94 191.108,1056.7 \n",
       "  \"/>\n",
       "<polyline clip-path=\"url(#clip360)\" style=\"stroke:#000000; stroke-width:4; stroke-opacity:1; fill:none\" points=\"\n",
       "  420.636,1081.94 420.636,1056.7 \n",
       "  \"/>\n",
       "<polyline clip-path=\"url(#clip360)\" style=\"stroke:#000000; stroke-width:4; stroke-opacity:1; fill:none\" points=\"\n",
       "  879.69,1081.94 879.69,1056.7 \n",
       "  \"/>\n",
       "<polyline clip-path=\"url(#clip360)\" style=\"stroke:#000000; stroke-width:4; stroke-opacity:1; fill:none\" points=\"\n",
       "  1109.22,1081.94 1109.22,1056.7 \n",
       "  \"/>\n",
       "<path clip-path=\"url(#clip360)\" d=\"M 0 0 M163.562 1113.16 L193.238 1113.16 L193.238 1117.1 L163.562 1117.1 L163.562 1113.16 Z\" fill=\"#000000\" fill-rule=\"evenodd\" fill-opacity=\"1\" /><path clip-path=\"url(#clip360)\" d=\"M 0 0 M202.335 1126.06 L218.655 1126.06 L218.655 1129.99 L196.71 1129.99 L196.71 1126.06 Q199.372 1123.3 203.956 1118.67 Q208.562 1114.02 209.743 1112.68 Q211.988 1110.15 212.868 1108.42 Q213.77 1106.66 213.77 1104.97 Q213.77 1102.21 211.826 1100.48 Q209.905 1098.74 206.803 1098.74 Q204.604 1098.74 202.15 1099.5 Q199.72 1100.27 196.942 1101.82 L196.942 1097.1 Q199.766 1095.96 202.22 1095.38 Q204.673 1094.81 206.71 1094.81 Q212.081 1094.81 215.275 1097.49 Q218.469 1100.18 218.469 1104.67 Q218.469 1106.8 217.659 1108.72 Q216.872 1110.62 214.766 1113.21 Q214.187 1113.88 211.085 1117.1 Q207.983 1120.29 202.335 1126.06 Z\" fill=\"#000000\" fill-rule=\"evenodd\" fill-opacity=\"1\" /><path clip-path=\"url(#clip360)\" d=\"M 0 0 M392.904 1113.16 L422.58 1113.16 L422.58 1117.1 L392.904 1117.1 L392.904 1113.16 Z\" fill=\"#000000\" fill-rule=\"evenodd\" fill-opacity=\"1\" /><path clip-path=\"url(#clip360)\" d=\"M 0 0 M428.46 1126.06 L436.099 1126.06 L436.099 1099.69 L427.788 1101.36 L427.788 1097.1 L436.052 1095.43 L440.728 1095.43 L440.728 1126.06 L448.367 1126.06 L448.367 1129.99 L428.46 1129.99 L428.46 1126.06 Z\" fill=\"#000000\" fill-rule=\"evenodd\" fill-opacity=\"1\" /><path clip-path=\"url(#clip360)\" d=\"M 0 0 M870.072 1126.06 L877.711 1126.06 L877.711 1099.69 L869.401 1101.36 L869.401 1097.1 L877.665 1095.43 L882.341 1095.43 L882.341 1126.06 L889.979 1126.06 L889.979 1129.99 L870.072 1129.99 L870.072 1126.06 Z\" fill=\"#000000\" fill-rule=\"evenodd\" fill-opacity=\"1\" /><path clip-path=\"url(#clip360)\" d=\"M 0 0 M1103.87 1126.06 L1120.19 1126.06 L1120.19 1129.99 L1098.25 1129.99 L1098.25 1126.06 Q1100.91 1123.3 1105.49 1118.67 Q1110.1 1114.02 1111.28 1112.68 Q1113.52 1110.15 1114.4 1108.42 Q1115.31 1106.66 1115.31 1104.97 Q1115.31 1102.21 1113.36 1100.48 Q1111.44 1098.74 1108.34 1098.74 Q1106.14 1098.74 1103.68 1099.5 Q1101.25 1100.27 1098.48 1101.82 L1098.48 1097.1 Q1101.3 1095.96 1103.75 1095.38 Q1106.21 1094.81 1108.25 1094.81 Q1113.62 1094.81 1116.81 1097.49 Q1120 1100.18 1120 1104.67 Q1120 1106.8 1119.19 1108.72 Q1118.41 1110.62 1116.3 1113.21 Q1115.72 1113.88 1112.62 1117.1 Q1109.52 1120.29 1103.87 1126.06 Z\" fill=\"#000000\" fill-rule=\"evenodd\" fill-opacity=\"1\" /><polyline clip-path=\"url(#clip362)\" style=\"stroke:#000000; stroke-width:2; stroke-opacity:0.1; fill:none\" points=\"\n",
       "  163.565,821.242 1136.76,821.242 \n",
       "  \"/>\n",
       "<polyline clip-path=\"url(#clip362)\" style=\"stroke:#000000; stroke-width:2; stroke-opacity:0.1; fill:none\" points=\"\n",
       "  163.565,573.166 1136.76,573.166 \n",
       "  \"/>\n",
       "<polyline clip-path=\"url(#clip362)\" style=\"stroke:#000000; stroke-width:2; stroke-opacity:0.1; fill:none\" points=\"\n",
       "  163.565,325.09 1136.76,325.09 \n",
       "  \"/>\n",
       "<polyline clip-path=\"url(#clip362)\" style=\"stroke:#000000; stroke-width:2; stroke-opacity:0.1; fill:none\" points=\"\n",
       "  163.565,77.0133 1136.76,77.0133 \n",
       "  \"/>\n",
       "<polyline clip-path=\"url(#clip360)\" style=\"stroke:#000000; stroke-width:4; stroke-opacity:1; fill:none\" points=\"\n",
       "  650.163,1099.09 650.163,47.2441 \n",
       "  \"/>\n",
       "<polyline clip-path=\"url(#clip360)\" style=\"stroke:#000000; stroke-width:4; stroke-opacity:1; fill:none\" points=\"\n",
       "  638.485,821.242 661.841,821.242 \n",
       "  \"/>\n",
       "<polyline clip-path=\"url(#clip360)\" style=\"stroke:#000000; stroke-width:4; stroke-opacity:1; fill:none\" points=\"\n",
       "  638.485,573.166 661.841,573.166 \n",
       "  \"/>\n",
       "<polyline clip-path=\"url(#clip360)\" style=\"stroke:#000000; stroke-width:4; stroke-opacity:1; fill:none\" points=\"\n",
       "  638.485,325.09 661.841,325.09 \n",
       "  \"/>\n",
       "<polyline clip-path=\"url(#clip360)\" style=\"stroke:#000000; stroke-width:4; stroke-opacity:1; fill:none\" points=\"\n",
       "  638.485,77.0133 661.841,77.0133 \n",
       "  \"/>\n",
       "<path clip-path=\"url(#clip360)\" d=\"M 0 0 M594.256 834.587 L601.894 834.587 L601.894 808.222 L593.584 809.888 L593.584 805.629 L601.848 803.962 L606.524 803.962 L606.524 834.587 L614.163 834.587 L614.163 838.522 L594.256 838.522 L594.256 834.587 Z\" fill=\"#000000\" fill-rule=\"evenodd\" fill-opacity=\"1\" /><path clip-path=\"url(#clip360)\" d=\"M 0 0 M597.844 586.511 L614.163 586.511 L614.163 590.446 L592.219 590.446 L592.219 586.511 Q594.881 583.756 599.464 579.127 Q604.07 574.474 605.251 573.131 Q607.496 570.608 608.376 568.872 Q609.279 567.113 609.279 565.423 Q609.279 562.668 607.334 560.932 Q605.413 559.196 602.311 559.196 Q600.112 559.196 597.658 559.96 Q595.228 560.724 592.45 562.275 L592.45 557.553 Q595.274 556.418 597.728 555.84 Q600.182 555.261 602.219 555.261 Q607.589 555.261 610.783 557.946 Q613.978 560.631 613.978 565.122 Q613.978 567.252 613.168 569.173 Q612.381 571.071 610.274 573.664 Q609.695 574.335 606.594 577.553 Q603.492 580.747 597.844 586.511 Z\" fill=\"#000000\" fill-rule=\"evenodd\" fill-opacity=\"1\" /><path clip-path=\"url(#clip360)\" d=\"M 0 0 M607.033 323.735 Q610.39 324.453 612.265 326.722 Q614.163 328.99 614.163 332.323 Q614.163 337.439 610.644 340.24 Q607.126 343.041 600.644 343.041 Q598.469 343.041 596.154 342.601 Q593.862 342.184 591.408 341.328 L591.408 336.814 Q593.353 337.948 595.668 338.527 Q597.982 339.106 600.506 339.106 Q604.904 339.106 607.195 337.37 Q609.51 335.634 609.51 332.323 Q609.51 329.268 607.357 327.555 Q605.228 325.819 601.408 325.819 L597.381 325.819 L597.381 321.976 L601.594 321.976 Q605.043 321.976 606.871 320.61 Q608.7 319.222 608.7 316.629 Q608.7 313.967 606.802 312.555 Q604.927 311.12 601.408 311.12 Q599.487 311.12 597.288 311.536 Q595.089 311.953 592.45 312.833 L592.45 308.666 Q595.112 307.925 597.427 307.555 Q599.765 307.185 601.825 307.185 Q607.149 307.185 610.251 309.615 Q613.353 312.023 613.353 316.143 Q613.353 319.013 611.709 321.004 Q610.066 322.972 607.033 323.735 Z\" fill=\"#000000\" fill-rule=\"evenodd\" fill-opacity=\"1\" /><path clip-path=\"url(#clip360)\" d=\"M 0 0 M604.58 63.8073 L592.774 82.2563 L604.58 82.2563 L604.58 63.8073 M603.353 59.7333 L609.232 59.7333 L609.232 82.2563 L614.163 82.2563 L614.163 86.1452 L609.232 86.1452 L609.232 94.2933 L604.58 94.2933 L604.58 86.1452 L588.978 86.1452 L588.978 81.6313 L603.353 59.7333 Z\" fill=\"#000000\" fill-rule=\"evenodd\" fill-opacity=\"1\" /><path clip-path=\"url(#clip360)\" d=\"M 0 0 M26.599 600.061 L31.4687 600.061 L31.4687 605.663 Q31.4687 608.814 32.7419 610.055 Q34.015 611.265 37.3252 611.265 L40.4762 611.265 L40.4762 601.621 L45.0277 601.621 L45.0277 611.265 L76.1242 611.265 L76.1242 617.153 L45.0277 617.153 L45.0277 622.755 L40.4762 622.755 L40.4762 617.153 L37.9936 617.153 Q32.0416 617.153 29.3362 614.384 Q26.599 611.615 26.599 605.599 L26.599 600.061 Z\" fill=\"#000000\" fill-rule=\"evenodd\" fill-opacity=\"1\" /><path clip-path=\"url(#clip360)\" d=\"M 0 0 M26.6626 579.85 Q33.9832 584.115 41.1446 586.184 Q48.306 588.253 55.6584 588.253 Q63.0108 588.253 70.2359 586.184 Q77.4291 584.083 84.7179 579.85 L84.7179 584.943 Q77.2382 589.717 70.0131 592.104 Q62.788 594.459 55.6584 594.459 Q48.5606 594.459 41.3674 592.104 Q34.1742 589.749 26.6626 584.943 L26.6626 579.85 Z\" fill=\"#000000\" fill-rule=\"evenodd\" fill-opacity=\"1\" /><path clip-path=\"url(#clip360)\" d=\"M 0 0 M40.4762 544.075 L57.8228 556.965 L76.1242 543.406 L76.1242 550.313 L62.1196 560.689 L76.1242 571.065 L76.1242 577.972 L57.4726 564.127 L40.4762 576.794 L40.4762 569.888 L53.1758 560.435 L40.4762 550.981 L40.4762 544.075 Z\" fill=\"#000000\" fill-rule=\"evenodd\" fill-opacity=\"1\" /><path clip-path=\"url(#clip360)\" d=\"M 0 0 M26.6626 538.186 L26.6626 533.094 Q34.1742 528.32 41.3674 525.964 Q48.5606 523.577 55.6584 523.577 Q62.788 523.577 70.0131 525.964 Q77.2382 528.32 84.7179 533.094 L84.7179 538.186 Q77.4291 533.953 70.2359 531.884 Q63.0108 529.784 55.6584 529.784 Q48.306 529.784 41.1446 531.884 Q33.9832 533.953 26.6626 538.186 Z\" fill=\"#000000\" fill-rule=\"evenodd\" fill-opacity=\"1\" /><polyline clip-path=\"url(#clip362)\" style=\"stroke:#000000; stroke-width:4; stroke-opacity:1; fill:none\" points=\"\n",
       "  191.108,77.0133 214.061,173.763 237.014,265.551 259.967,352.378 282.919,434.243 305.872,511.147 328.825,583.089 351.778,650.07 374.73,712.089 397.683,769.146 \n",
       "  420.636,821.242 443.588,868.377 466.541,910.55 489.494,947.761 512.447,980.011 535.399,1007.3 558.352,1029.63 581.305,1046.99 604.257,1059.4 627.21,1066.84 \n",
       "  650.163,1069.32 673.116,1066.84 696.068,1059.4 719.021,1046.99 741.974,1029.63 764.927,1007.3 787.879,980.011 810.832,947.761 833.785,910.55 856.737,868.377 \n",
       "  879.69,821.242 902.643,769.146 925.596,712.089 948.548,650.07 971.501,583.089 994.454,511.147 1017.41,434.243 1040.36,352.378 1063.31,265.551 1086.26,173.763 \n",
       "  1109.22,77.0133 \n",
       "  \"/>\n",
       "<path clip-path=\"url(#clip360)\" d=\"\n",
       "M1379.56 1099.09 L2352.76 1099.09 L2352.76 47.2441 L1379.56 47.2441  Z\n",
       "  \" fill=\"#ffffff\" fill-rule=\"evenodd\" fill-opacity=\"1\"/>\n",
       "<defs>\n",
       "  <clipPath id=\"clip363\">\n",
       "    <rect x=\"1379\" y=\"47\" width=\"974\" height=\"1053\"/>\n",
       "  </clipPath>\n",
       "</defs>\n",
       "<polyline clip-path=\"url(#clip363)\" style=\"stroke:#000000; stroke-width:2; stroke-opacity:0.1; fill:none\" points=\"\n",
       "  1407.1,1099.09 1407.1,47.2441 \n",
       "  \"/>\n",
       "<polyline clip-path=\"url(#clip363)\" style=\"stroke:#000000; stroke-width:2; stroke-opacity:0.1; fill:none\" points=\"\n",
       "  1636.63,1099.09 1636.63,47.2441 \n",
       "  \"/>\n",
       "<polyline clip-path=\"url(#clip363)\" style=\"stroke:#000000; stroke-width:2; stroke-opacity:0.1; fill:none\" points=\"\n",
       "  2095.69,1099.09 2095.69,47.2441 \n",
       "  \"/>\n",
       "<polyline clip-path=\"url(#clip363)\" style=\"stroke:#000000; stroke-width:2; stroke-opacity:0.1; fill:none\" points=\"\n",
       "  2325.21,1099.09 2325.21,47.2441 \n",
       "  \"/>\n",
       "<polyline clip-path=\"url(#clip360)\" style=\"stroke:#000000; stroke-width:4; stroke-opacity:1; fill:none\" points=\"\n",
       "  1379.56,573.166 2352.76,573.166 \n",
       "  \"/>\n",
       "<polyline clip-path=\"url(#clip360)\" style=\"stroke:#000000; stroke-width:4; stroke-opacity:1; fill:none\" points=\"\n",
       "  1407.1,585.788 1407.1,560.544 \n",
       "  \"/>\n",
       "<polyline clip-path=\"url(#clip360)\" style=\"stroke:#000000; stroke-width:4; stroke-opacity:1; fill:none\" points=\"\n",
       "  1636.63,585.788 1636.63,560.544 \n",
       "  \"/>\n",
       "<polyline clip-path=\"url(#clip360)\" style=\"stroke:#000000; stroke-width:4; stroke-opacity:1; fill:none\" points=\"\n",
       "  2095.69,585.788 2095.69,560.544 \n",
       "  \"/>\n",
       "<polyline clip-path=\"url(#clip360)\" style=\"stroke:#000000; stroke-width:4; stroke-opacity:1; fill:none\" points=\"\n",
       "  2325.21,585.788 2325.21,560.544 \n",
       "  \"/>\n",
       "<path clip-path=\"url(#clip360)\" d=\"M 0 0 M1379.56 617.009 L1409.23 617.009 L1409.23 620.945 L1379.56 620.945 L1379.56 617.009 Z\" fill=\"#000000\" fill-rule=\"evenodd\" fill-opacity=\"1\" /><path clip-path=\"url(#clip360)\" d=\"M 0 0 M1418.33 629.903 L1434.65 629.903 L1434.65 633.838 L1412.71 633.838 L1412.71 629.903 Q1415.37 627.148 1419.95 622.519 Q1424.56 617.866 1425.74 616.523 Q1427.98 614 1428.86 612.264 Q1429.77 610.505 1429.77 608.815 Q1429.77 606.06 1427.82 604.324 Q1425.9 602.588 1422.8 602.588 Q1420.6 602.588 1418.15 603.352 Q1415.71 604.116 1412.94 605.667 L1412.94 600.945 Q1415.76 599.81 1418.21 599.232 Q1420.67 598.653 1422.71 598.653 Q1428.08 598.653 1431.27 601.338 Q1434.46 604.023 1434.46 608.514 Q1434.46 610.644 1433.65 612.565 Q1432.87 614.463 1430.76 617.056 Q1430.18 617.727 1427.08 620.945 Q1423.98 624.139 1418.33 629.903 Z\" fill=\"#000000\" fill-rule=\"evenodd\" fill-opacity=\"1\" /><path clip-path=\"url(#clip360)\" d=\"M 0 0 M1608.9 617.009 L1638.58 617.009 L1638.58 620.945 L1608.9 620.945 L1608.9 617.009 Z\" fill=\"#000000\" fill-rule=\"evenodd\" fill-opacity=\"1\" /><path clip-path=\"url(#clip360)\" d=\"M 0 0 M1644.46 629.903 L1652.09 629.903 L1652.09 603.537 L1643.78 605.204 L1643.78 600.945 L1652.05 599.278 L1656.72 599.278 L1656.72 629.903 L1664.36 629.903 L1664.36 633.838 L1644.46 633.838 L1644.46 629.903 Z\" fill=\"#000000\" fill-rule=\"evenodd\" fill-opacity=\"1\" /><path clip-path=\"url(#clip360)\" d=\"M 0 0 M2086.07 629.903 L2093.71 629.903 L2093.71 603.537 L2085.4 605.204 L2085.4 600.945 L2093.66 599.278 L2098.34 599.278 L2098.34 629.903 L2105.97 629.903 L2105.97 633.838 L2086.07 633.838 L2086.07 629.903 Z\" fill=\"#000000\" fill-rule=\"evenodd\" fill-opacity=\"1\" /><path clip-path=\"url(#clip360)\" d=\"M 0 0 M2319.87 629.903 L2336.18 629.903 L2336.18 633.838 L2314.24 633.838 L2314.24 629.903 Q2316.9 627.148 2321.49 622.519 Q2326.09 617.866 2327.27 616.523 Q2329.52 614 2330.4 612.264 Q2331.3 610.505 2331.3 608.815 Q2331.3 606.06 2329.36 604.324 Q2327.43 602.588 2324.33 602.588 Q2322.13 602.588 2319.68 603.352 Q2317.25 604.116 2314.47 605.667 L2314.47 600.945 Q2317.3 599.81 2319.75 599.232 Q2322.2 598.653 2324.24 598.653 Q2329.61 598.653 2332.81 601.338 Q2336 604.023 2336 608.514 Q2336 610.644 2335.19 612.565 Q2334.4 614.463 2332.3 617.056 Q2331.72 617.727 2328.62 620.945 Q2325.51 624.139 2319.87 629.903 Z\" fill=\"#000000\" fill-rule=\"evenodd\" fill-opacity=\"1\" /><polyline clip-path=\"url(#clip363)\" style=\"stroke:#000000; stroke-width:2; stroke-opacity:0.1; fill:none\" points=\"\n",
       "  1379.56,1069.32 2352.76,1069.32 \n",
       "  \"/>\n",
       "<polyline clip-path=\"url(#clip363)\" style=\"stroke:#000000; stroke-width:2; stroke-opacity:0.1; fill:none\" points=\"\n",
       "  1379.56,821.242 2352.76,821.242 \n",
       "  \"/>\n",
       "<polyline clip-path=\"url(#clip363)\" style=\"stroke:#000000; stroke-width:2; stroke-opacity:0.1; fill:none\" points=\"\n",
       "  1379.56,325.09 2352.76,325.09 \n",
       "  \"/>\n",
       "<polyline clip-path=\"url(#clip363)\" style=\"stroke:#000000; stroke-width:2; stroke-opacity:0.1; fill:none\" points=\"\n",
       "  1379.56,77.0133 2352.76,77.0133 \n",
       "  \"/>\n",
       "<polyline clip-path=\"url(#clip360)\" style=\"stroke:#000000; stroke-width:4; stroke-opacity:1; fill:none\" points=\"\n",
       "  1866.16,1099.09 1866.16,47.2441 \n",
       "  \"/>\n",
       "<polyline clip-path=\"url(#clip360)\" style=\"stroke:#000000; stroke-width:4; stroke-opacity:1; fill:none\" points=\"\n",
       "  1854.48,1069.32 1877.84,1069.32 \n",
       "  \"/>\n",
       "<polyline clip-path=\"url(#clip360)\" style=\"stroke:#000000; stroke-width:4; stroke-opacity:1; fill:none\" points=\"\n",
       "  1854.48,821.242 1877.84,821.242 \n",
       "  \"/>\n",
       "<polyline clip-path=\"url(#clip360)\" style=\"stroke:#000000; stroke-width:4; stroke-opacity:1; fill:none\" points=\"\n",
       "  1854.48,325.09 1877.84,325.09 \n",
       "  \"/>\n",
       "<polyline clip-path=\"url(#clip360)\" style=\"stroke:#000000; stroke-width:4; stroke-opacity:1; fill:none\" points=\"\n",
       "  1854.48,77.0133 1877.84,77.0133 \n",
       "  \"/>\n",
       "<path clip-path=\"url(#clip360)\" d=\"M 0 0 M1772.98 1069.77 L1802.66 1069.77 L1802.66 1073.71 L1772.98 1073.71 L1772.98 1069.77 Z\" fill=\"#000000\" fill-rule=\"evenodd\" fill-opacity=\"1\" /><path clip-path=\"url(#clip360)\" d=\"M 0 0 M1820.57 1056.11 L1808.77 1074.56 L1820.57 1074.56 L1820.57 1056.11 M1819.35 1052.04 L1825.23 1052.04 L1825.23 1074.56 L1830.16 1074.56 L1830.16 1078.45 L1825.23 1078.45 L1825.23 1086.6 L1820.57 1086.6 L1820.57 1078.45 L1804.97 1078.45 L1804.97 1073.94 L1819.35 1052.04 Z\" fill=\"#000000\" fill-rule=\"evenodd\" fill-opacity=\"1\" /><path clip-path=\"url(#clip360)\" d=\"M 0 0 M1775.07 821.694 L1804.74 821.694 L1804.74 825.629 L1775.07 825.629 L1775.07 821.694 Z\" fill=\"#000000\" fill-rule=\"evenodd\" fill-opacity=\"1\" /><path clip-path=\"url(#clip360)\" d=\"M 0 0 M1813.84 834.587 L1830.16 834.587 L1830.16 838.522 L1808.21 838.522 L1808.21 834.587 Q1810.88 831.833 1815.46 827.203 Q1820.07 822.55 1821.25 821.208 Q1823.49 818.684 1824.37 816.948 Q1825.27 815.189 1825.27 813.499 Q1825.27 810.745 1823.33 809.009 Q1821.41 807.273 1818.31 807.273 Q1816.11 807.273 1813.65 808.036 Q1811.22 808.8 1808.45 810.351 L1808.45 805.629 Q1811.27 804.495 1813.72 803.916 Q1816.18 803.337 1818.21 803.337 Q1823.58 803.337 1826.78 806.023 Q1829.97 808.708 1829.97 813.198 Q1829.97 815.328 1829.16 817.249 Q1828.38 819.147 1826.27 821.74 Q1825.69 822.411 1822.59 825.629 Q1819.49 828.823 1813.84 834.587 Z\" fill=\"#000000\" fill-rule=\"evenodd\" fill-opacity=\"1\" /><path clip-path=\"url(#clip360)\" d=\"M 0 0 M1813.84 338.434 L1830.16 338.434 L1830.16 342.37 L1808.21 342.37 L1808.21 338.434 Q1810.88 335.68 1815.46 331.05 Q1820.07 326.397 1821.25 325.055 Q1823.49 322.532 1824.37 320.796 Q1825.27 319.036 1825.27 317.347 Q1825.27 314.592 1823.33 312.856 Q1821.41 311.12 1818.31 311.12 Q1816.11 311.12 1813.65 311.884 Q1811.22 312.648 1808.45 314.198 L1808.45 309.476 Q1811.27 308.342 1813.72 307.763 Q1816.18 307.185 1818.21 307.185 Q1823.58 307.185 1826.78 309.87 Q1829.97 312.555 1829.97 317.046 Q1829.97 319.175 1829.16 321.097 Q1828.38 322.995 1826.27 325.587 Q1825.69 326.259 1822.59 329.476 Q1819.49 332.671 1813.84 338.434 Z\" fill=\"#000000\" fill-rule=\"evenodd\" fill-opacity=\"1\" /><path clip-path=\"url(#clip360)\" d=\"M 0 0 M1820.57 63.8073 L1808.77 82.2563 L1820.57 82.2563 L1820.57 63.8073 M1819.35 59.7333 L1825.23 59.7333 L1825.23 82.2563 L1830.16 82.2563 L1830.16 86.1452 L1825.23 86.1452 L1825.23 94.2933 L1820.57 94.2933 L1820.57 86.1452 L1804.97 86.1452 L1804.97 81.6313 L1819.35 59.7333 Z\" fill=\"#000000\" fill-rule=\"evenodd\" fill-opacity=\"1\" /><path clip-path=\"url(#clip360)\" d=\"M 0 0 M1210.6 606.681 L1215.47 606.681 L1215.47 612.283 Q1215.47 615.434 1216.75 616.676 Q1218.02 617.885 1221.33 617.885 L1224.48 617.885 L1224.48 608.241 L1229.03 608.241 L1229.03 617.885 L1260.13 617.885 L1260.13 623.773 L1229.03 623.773 L1229.03 629.375 L1224.48 629.375 L1224.48 623.773 L1222 623.773 Q1216.05 623.773 1213.34 621.004 Q1210.6 618.235 1210.6 612.22 L1210.6 606.681 Z\" fill=\"#000000\" fill-rule=\"evenodd\" fill-opacity=\"1\" /><path clip-path=\"url(#clip360)\" d=\"M 0 0 M1224.48 605.408 L1212.61 599.902 L1212.61 593.441 L1224.48 602.639 L1224.48 605.408 Z\" fill=\"#000000\" fill-rule=\"evenodd\" fill-opacity=\"1\" /><path clip-path=\"url(#clip360)\" d=\"M 0 0 M1210.67 573.23 Q1217.99 577.495 1225.15 579.564 Q1232.31 581.632 1239.66 581.632 Q1247.02 581.632 1254.24 579.564 Q1261.43 577.463 1268.72 573.23 L1268.72 578.322 Q1261.24 583.096 1254.02 585.484 Q1246.79 587.839 1239.66 587.839 Q1232.57 587.839 1225.37 585.484 Q1218.18 583.128 1210.67 578.322 L1210.67 573.23 Z\" fill=\"#000000\" fill-rule=\"evenodd\" fill-opacity=\"1\" /><path clip-path=\"url(#clip360)\" d=\"M 0 0 M1224.48 537.454 L1241.83 550.345 L1260.13 536.786 L1260.13 543.693 L1246.12 554.069 L1260.13 564.445 L1260.13 571.352 L1241.48 557.506 L1224.48 570.174 L1224.48 563.267 L1237.18 553.814 L1224.48 544.361 L1224.48 537.454 Z\" fill=\"#000000\" fill-rule=\"evenodd\" fill-opacity=\"1\" /><path clip-path=\"url(#clip360)\" d=\"M 0 0 M1210.67 531.566 L1210.67 526.474 Q1218.18 521.699 1225.37 519.344 Q1232.57 516.957 1239.66 516.957 Q1246.79 516.957 1254.02 519.344 Q1261.24 521.699 1268.72 526.474 L1268.72 531.566 Q1261.43 527.333 1254.24 525.264 Q1247.02 523.163 1239.66 523.163 Q1232.31 523.163 1225.15 525.264 Q1217.99 527.333 1210.67 531.566 Z\" fill=\"#000000\" fill-rule=\"evenodd\" fill-opacity=\"1\" /><polyline clip-path=\"url(#clip363)\" style=\"stroke:#ff0000; stroke-width:4; stroke-opacity:1; fill:none\" stroke-dasharray=\"16, 10\" points=\"\n",
       "  1407.1,1069.32 1430.06,1044.51 1453.01,1019.7 1475.96,994.896 1498.91,970.088 1521.87,945.281 1544.82,920.473 1567.77,895.665 1590.73,870.858 1613.68,846.05 \n",
       "  1636.63,821.242 1659.58,796.435 1682.54,771.627 1705.49,746.819 1728.44,722.012 1751.39,697.204 1774.35,672.397 1797.3,647.589 1820.25,622.781 1843.21,597.974 \n",
       "  1866.16,573.166 1889.11,548.358 1912.06,523.551 1935.02,498.743 1957.97,473.935 1980.92,449.128 2003.87,424.32 2026.83,399.513 2049.78,374.705 2072.73,349.897 \n",
       "  2095.69,325.09 2118.64,300.282 2141.59,275.474 2164.54,250.667 2187.5,225.859 2210.45,201.051 2233.4,176.244 2256.35,151.436 2279.31,126.629 2302.26,101.821 \n",
       "  2325.21,77.0133 \n",
       "  \"/>\n",
       "</svg>\n"
      ]
     },
     "execution_count": 83,
     "metadata": {},
     "output_type": "execute_result"
    }
   ],
   "source": [
    "graph_f_and_derivative(lf:.1:rt, f(x), lf:rt, \"f(x)\", format=:dual)"
   ]
  },
  {
   "cell_type": "markdown",
   "metadata": {},
   "source": [
    "### Integration\n",
    "\n",
    "<a id='integrate_cell'></a>\n",
    "We can integrate functions as well:<br>\n",
    "$\\int f(x) dx = F(x)$\n",
    "using the `integrate` command.\n",
    "But note that it does not add the constant of integration:\n",
    "$$\\int x^2 dx = \\dfrac{x^3}{3} + C.$$"
   ]
  },
  {
   "cell_type": "code",
   "execution_count": 84,
   "metadata": {},
   "outputs": [
    {
     "data": {
      "text/latex": [
       "\\begin{equation*}\\frac{x^{3}}{3}\\end{equation*}"
      ],
      "text/plain": [
       " 3\n",
       "x \n",
       "--\n",
       "3 "
      ]
     },
     "execution_count": 84,
     "metadata": {},
     "output_type": "execute_result"
    }
   ],
   "source": [
    "f(x) = x^2\n",
    "integrate(f(x), x)"
   ]
  },
  {
   "cell_type": "markdown",
   "metadata": {},
   "source": [
    "Definite integration:<br>\n",
    "$\\int_a^b f(x) dx$"
   ]
  },
  {
   "cell_type": "code",
   "execution_count": 85,
   "metadata": {},
   "outputs": [
    {
     "data": {
      "text/latex": [
       "\\begin{equation*}\\frac{8}{3}\\end{equation*}"
      ],
      "text/plain": [
       "8/3"
      ]
     },
     "execution_count": 85,
     "metadata": {},
     "output_type": "execute_result"
    }
   ],
   "source": [
    "integrate(f(x), (x,0,2))"
   ]
  },
  {
   "cell_type": "markdown",
   "metadata": {},
   "source": [
    "Experimental stuff below:"
   ]
  },
  {
   "cell_type": "markdown",
   "metadata": {},
   "source": [
    "Solve system of equs."
   ]
  },
  {
   "cell_type": "code",
   "execution_count": 86,
   "metadata": {},
   "outputs": [
    {
     "data": {
      "text/plain": [
       "Dict{Any,Any} with 3 entries:\n",
       "  x => 10/3\n",
       "  y => -35/3\n",
       "  z => 25/3"
      ]
     },
     "execution_count": 86,
     "metadata": {},
     "output_type": "execute_result"
    }
   ],
   "source": [
    "y = Sym(\"y\")\n",
    "z = Sym(\"z\")\n",
    "eq1 = Eq(x+y+z,0)\n",
    "eq2 = Eq(2x-y-z,10)\n",
    "eq3 = Eq(y+2z,5)\n",
    "solve([eq1, eq2, eq3], [x,y,z])"
   ]
  },
  {
   "cell_type": "markdown",
   "metadata": {},
   "source": [
    "Solve ode: Might make new function to make easier to use."
   ]
  },
  {
   "cell_type": "code",
   "execution_count": 89,
   "metadata": {},
   "outputs": [
    {
     "data": {
      "text/latex": [
       "\\begin{equation*}\\operatorname{f̂}{\\left(x \\right)} = C_{1} + x \\sin{\\left(x \\right)} + \\cos{\\left(x \\right)}\\end{equation*}"
      ],
      "text/plain": [
       "f̂(x) = C1 + x*sin(x) + cos(x)"
      ]
     },
     "execution_count": 89,
     "metadata": {},
     "output_type": "execute_result"
    }
   ],
   "source": [
    "f̂ = sympy.Function(\"f̂\")\n",
    "y = dsolve(sympy.Derivative(f̂(x),x)-x*cos(x), f̂(x))"
   ]
  },
  {
   "cell_type": "code",
   "execution_count": 96,
   "metadata": {},
   "outputs": [
    {
     "data": {
      "text/latex": [
       "\\begin{equation*}\\operatorname{f̂}{\\left(\\pi \\right)} = C_{1} - 1\\end{equation*}"
      ],
      "text/plain": [
       "f̂(pi) = C1 - 1"
      ]
     },
     "execution_count": 96,
     "metadata": {},
     "output_type": "execute_result"
    }
   ],
   "source": [
    "subs(y, x, pi)"
   ]
  },
  {
   "cell_type": "code",
   "execution_count": null,
   "metadata": {},
   "outputs": [],
   "source": []
  }
 ],
 "metadata": {
  "@webio": {
   "lastCommId": null,
   "lastKernelId": null
  },
  "kernelspec": {
   "display_name": "Julia 1.5.0",
   "language": "julia",
   "name": "julia-1.5"
  },
  "language_info": {
   "file_extension": ".jl",
   "mimetype": "application/julia",
   "name": "julia",
   "version": "1.5.0"
  }
 },
 "nbformat": 4,
 "nbformat_minor": 4
}
